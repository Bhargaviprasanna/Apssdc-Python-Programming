{
 "cells": [
  {
   "cell_type": "code",
   "execution_count": 1,
   "metadata": {},
   "outputs": [
    {
     "name": "stdout",
     "output_type": "stream",
     "text": [
      "0\n",
      "100\n",
      "100\n"
     ]
    }
   ],
   "source": [
    "from random import randint\n",
    "lb=int(input())\n",
    "ub=int(input())\n",
    "n=int(input())\n",
    "fname=\"DataFiles//classmarks.txt\"\n",
    "def marksgen(fname,ub,lb,n):\n",
    "    with open(fname,'w') as f:\n",
    "        for i in range(n):\n",
    "            x=randint(lb,ub)\n",
    "            f.write(str(x)+'\\n')\n",
    "    return\n",
    "marksgen(fname,ub,lb,n)"
   ]
  },
  {
   "cell_type": "code",
   "execution_count": 2,
   "metadata": {},
   "outputs": [],
   "source": [
    "def classAvg(lis):\n",
    "    return (sum(lis)/len(lis))\n",
    "#classAvg([1,2,3,4,5])\n",
    "def mdicStu(lis):\n",
    "    mdic={}\n",
    "    s=0\n",
    "    c=0\n",
    "    l=len(lis)\n",
    "    for i in lis:\n",
    "        if i >= 35:\n",
    "            c+=1\n",
    "        if i>=75:\n",
    "            s+=1\n",
    "    passed=(c/l)*100 \n",
    "    mdic['passs']=passed\n",
    "    failed=((l-c)/l)*100\n",
    "    mdic['fail']=failed\n",
    "    distinct=(s/l)*100\n",
    "    mdic['distinction']=distinct\n",
    "    mdic['low_freq']=lis.count(min(lis))\n",
    "    mdic['high_freq']=lis.count(max(lis))\n",
    "    return mdic\n",
    "#passedStu([10,30,45,60,80])"
   ]
  },
  {
   "cell_type": "code",
   "execution_count": 4,
   "metadata": {},
   "outputs": [
    {
     "name": "stdout",
     "output_type": "stream",
     "text": [
      "classAverage 52.35\n",
      "passed 64.0\n",
      "failed 36.0\n",
      "distinc 28.999999999999996\n",
      "highest frequency 1\n",
      "lowest frequency 1\n"
     ]
    }
   ],
   "source": [
    "import re\n",
    "def readfile(fname):\n",
    "    with open(fname,'r') as f:\n",
    "        x=f.read()\n",
    "    return x\n",
    "fname=\"DataFiles//classmarks.txt\"\n",
    "def generate_report(fname):\n",
    "    y=readfile(fname)\n",
    "    p='[ \\n ]'\n",
    "    s=re.split(p,y)\n",
    "    #print(s)\n",
    "    #print(type(s[0]))\n",
    "    lis=[int(i) for i in s]\n",
    "#     for i in s: \n",
    "#         lis.append(int(i))\n",
    "    #print(lis)\n",
    "    class_avg=classAvg(lis)\n",
    "    print('classAverage',class_avg)\n",
    "    alldic=mdicStu(lis)\n",
    "    passed=alldic['passs']\n",
    "    print('passed',passed)\n",
    "    failed=alldic['fail']\n",
    "    print('failed',failed)\n",
    "    distinc=alldic['distinction']\n",
    "    print('distinc',distinc)\n",
    "    hig_fre=alldic['low_freq']\n",
    "    print('highest frequency',hig_fre)\n",
    "    low_fre=alldic['high_freq']\n",
    "    print('lowest frequency', low_fre)\n",
    "    return\n",
    "generate_report(fname)"
   ]
  },
  {
   "cell_type": "code",
   "execution_count": 23,
   "metadata": {},
   "outputs": [],
   "source": [
    "#find and replace\n",
    "\n",
    "# lis=input().split()\n",
    "# ols=input()\n",
    "# nws=input()\n",
    "# def findandReplace(lis,ols,nws): \n",
    "#     l=[]\n",
    "#     c=lis.count(ols)\n",
    "#     for i in lis:\n",
    "#         if i == ols and ols in l:\n",
    "#             #print(l,i)\n",
    "#             l.append(nws)\n",
    "#         else:\n",
    "#             l.append(i)\n",
    "#     return l\n",
    "# #print(findandReplace(lis,ols,nws))\n",
    "# def findandReplace2(lis,ols,nws):\n",
    "#     c=0\n",
    "#     for i in range(len(lis)):\n",
    "#         #print(lis[i],lis)\n",
    "#         if lis[i] == ols and c==0:\n",
    "#             #print(lis[i],lis)\n",
    "#             lis[i]=ols\n",
    "#             c+=1\n",
    "#         elif  lis[i] == ols and c!=0:\n",
    "#             #print(lis[i],lis)\n",
    "#             lis[i]=nws\n",
    "#             c+=1\n",
    "#         else:\n",
    "#             lis[i]=lis[i]\n",
    "#     return lis\n",
    "# print(findandReplace2(lis,ols,nws))\n",
    "# def findandReplace3(lis,ols,nws):\n",
    "#     for i in range(len(lis)):\n",
    "#         #print(lis[i],lis)\n",
    "#         if lis[i] == ols:\n",
    "#             #print(lis[i],lis)\n",
    "#             lis[i]=nws\n",
    "#         else:\n",
    "#             lis[i]=lis[i]\n",
    "#     return lis\n",
    "def findandReplace4(lis,ols,nws):\n",
    "    with open('DataFiles/new.txt','w') as f:\n",
    "        for i in lis:\n",
    "#             print(i)\n",
    "            if i == ols:\n",
    "                f.write(nws+' ')\n",
    "            else:\n",
    "                f.write(i+' ')\n",
    "    return\n",
    "# findandReplace4(lis,ols,nws)\n",
    "#print(findandReplace3(lis,ols,nws))"
   ]
  },
  {
   "cell_type": "code",
   "execution_count": 24,
   "metadata": {},
   "outputs": [
    {
     "name": "stdout",
     "output_type": "stream",
     "text": [
      "['Angry', 'Birds', 'is', 'apple', '2009', 'casual', 'puzzle', 'video', 'game', 'developed', 'by', 'Rovio', 'Entertainment.', 'Inspired', 'primarily', 'by', 'apple', 'sketch', 'of', 'stylized', 'wingless', 'birds', '', 'bharu', 'game', 'was', 'first', 'released', 'for', 'iOS', 'and', 'Maemo', 'devices', 'in', 'December', '', '', '']\n",
      "Enter search string: a\n",
      "Enter replacing string: apple\n"
     ]
    }
   ],
   "source": [
    "#find and replace in files\n",
    "fname=\"DataFiles//new.txt\"\n",
    "def countOccur(s,ols):\n",
    "#     print(s)\n",
    "    return s.count(ols)\n",
    "def find_replace(fname):\n",
    "    y=readfile(fname)\n",
    "    p='[ \\n,]'\n",
    "    s=re.split(p,y)\n",
    "    print(s)\n",
    "    ols=input('Enter search string: ')\n",
    "    nws=input('Enter replacing string: ')\n",
    "    if ols in s:\n",
    "        c=countOccur(s,ols)\n",
    "        print(c)\n",
    "    findandReplace4(s,ols,nws)\n",
    "#     print(l)\n",
    "#     with open(fname,'w') as f:\n",
    "#         for i in l:\n",
    "            \n",
    "#             f.write(i+' ')\n",
    "#     return\n",
    "find_replace(fname)"
   ]
  },
  {
   "cell_type": "code",
   "execution_count": null,
   "metadata": {},
   "outputs": [],
   "source": [
    "fn=\"DataFiles//contacts_list.txt\"\n",
    "from Packages import validators as v\n",
    "def addContacts(fn,name,phone,email):\n",
    "    with open(fn,'r') as f:\n",
    "        x=f.read\n",
    "    if name in x:\n",
    "        if v.phoneNumberValidator(number) and v.emailValidator(email):\n",
    "            with open(fn,'a') as f:"
   ]
  },
  {
   "cell_type": "code",
   "execution_count": 18,
   "metadata": {},
   "outputs": [
    {
     "ename": "NameError",
     "evalue": "name 'email' is not defined",
     "output_type": "error",
     "traceback": [
      "\u001b[1;31m---------------------------------------------------------------------------\u001b[0m",
      "\u001b[1;31mNameError\u001b[0m                                 Traceback (most recent call last)",
      "\u001b[1;32m<ipython-input-18-d3fde6ce051e>\u001b[0m in \u001b[0;36m<module>\u001b[1;34m\u001b[0m\n\u001b[0;32m     14\u001b[0m         \u001b[1;32mreturn\u001b[0m \u001b[1;32mTrue\u001b[0m\u001b[1;33m\u001b[0m\u001b[1;33m\u001b[0m\u001b[0m\n\u001b[0;32m     15\u001b[0m     \u001b[1;32mreturn\u001b[0m \u001b[1;32mFalse\u001b[0m\u001b[1;33m\u001b[0m\u001b[1;33m\u001b[0m\u001b[0m\n\u001b[1;32m---> 16\u001b[1;33m \u001b[0memailValidator\u001b[0m\u001b[1;33m(\u001b[0m\u001b[0memail\u001b[0m\u001b[1;33m)\u001b[0m\u001b[1;33m\u001b[0m\u001b[1;33m\u001b[0m\u001b[0m\n\u001b[0m",
      "\u001b[1;31mNameError\u001b[0m: name 'email' is not defined"
     ]
    }
   ],
   "source": [
    "import re\n",
    "\n",
    "def phoneNumberValidator(number):\n",
    "    pattern = '^[6-9][0-9]{9}$|^[0][6-9][0-9]{9}|^[+][9][1][6-9][0-9]{9}$'\n",
    "    if re.match(pattern, str(number)):\n",
    "        return True\n",
    "    return False\n",
    "\n",
    "phoneNumberValidator(98765432)\n",
    "\n",
    "def emailValidator(email):\n",
    "    pattern = \"^[0-9a-z][0-9a-z_.]{4,13}[0-9a-z][@][a-z0-9]{3,18}[.][a-z]{2,4}$\"\n",
    "    if re.match(pattern, email):\n",
    "        return True\n",
    "    return False\n",
    "emailValidator(email)"
   ]
  },
  {
   "cell_type": "code",
   "execution_count": null,
   "metadata": {},
   "outputs": [],
   "source": [
    "from Packages import validators\n",
    "import re\n",
    "\n",
    "def contact_exists(name):\n",
    "    fname=\"DataFiles//contacts_list.txt\"\n",
    "    with open(fname,'r') as f:\n",
    "        x=f.read()\n",
    "        pattern=name+','\n",
    "    return re.search(name,x)\n",
    "# if contact_exists('bharu'):\n",
    "#     print(True)\n",
    "# else:\n",
    "#     print(False)\n",
    "def addContact(name, phone,email):\n",
    "    fname=\"DataFiles//contacts_list.txt\"\n",
    "    if not contact_exists(name):\n",
    "        with open(fname,'a') as f:\n",
    "            f.write('\\n')\n",
    "            line=name+','+str(phone)+','+email\n",
    "            f.write(line)\n",
    "        print(name, 'added to contacts')\n",
    "    else:\n",
    "        print(name,'exists')\n",
    "    return\n",
    "addContact('rasna',7896504320,'bprasanna.b@apssdc.in')"
   ]
  },
  {
   "cell_type": "code",
   "execution_count": null,
   "metadata": {},
   "outputs": [],
   "source": [
    "def searchContacts(name):\n",
    "    if contact_exists(name):\n",
    "        print('%s contact exists'%name)\n",
    "    else:\n",
    "        print('%s doesnot exists' % name)\n",
    "\n",
    "    return\n",
    "\n",
    "searchContacts('bbp')"
   ]
  },
  {
   "cell_type": "code",
   "execution_count": 13,
   "metadata": {},
   "outputs": [
    {
     "name": "stdout",
     "output_type": "stream",
     "text": [
      "['bbp', '7896453678', 'bhargavi.bommidi@gmail.com']\n",
      "['lovely', '9878345608', 'lovelyrasna@gmail.com']\n"
     ]
    }
   ],
   "source": [
    "import re\n",
    "def listofcontacts():\n",
    "    fname=\"DataFiles//contacts_list.txt\"\n",
    "    with open(fname, 'r') as f:\n",
    "        l=f.read()\n",
    "        p='[ \\n]'\n",
    "        s=re.split(p,l)\n",
    "        for i in range(len(s)):\n",
    "            j=s[i].split(',')\n",
    "            print(j)\n",
    "#             print(i)\n",
    "    return\n",
    "listofcontacts()"
   ]
  },
  {
   "cell_type": "code",
   "execution_count": 13,
   "metadata": {},
   "outputs": [
    {
     "name": "stdout",
     "output_type": "stream",
     "text": [
      "['lovely', '8179772003', 'bprasanna.b@apssdc.in']\n",
      "['bharu', '7956346105', 'lovelyrasna.nj@gmail.com', '']\n",
      "['ivagrahb', '9786056743', 'bhargavi.bommidi@gmail.com']\n",
      "['angrybird', '9087653423', 'virajika99@gmail.com']\n",
      "lovely contact modified\n"
     ]
    }
   ],
   "source": [
    "# from Packages import validators as v\n",
    "def contact_exists(name):\n",
    "    fname=\"DataFiles//contacts_list.txt\"\n",
    "    with open(fname,'r') as f:\n",
    "        x=f.read()\n",
    "        pattern=name+','\n",
    "    return re.search(name,x)\n",
    "def readFile(fname):\n",
    "    with open(fname,'r') as f:\n",
    "        x=f.read()\n",
    "    return x\n",
    "import re\n",
    "\n",
    "def phoneNumberValidator(number):\n",
    "    pattern = '^[6-9][0-9]{9}$|^[0][6-9][0-9]{9}|^[+][9][1][6-9][0-9]{9}$'\n",
    "    if re.match(pattern, str(number)):\n",
    "        return True\n",
    "    return False\n",
    "\n",
    "# phoneNumberValidator(98765432)\n",
    "\n",
    "def emailValidator(email):\n",
    "    pattern = \"^[0-9a-z][0-9a-z_.]{4,13}[0-9a-z][@][a-z0-9]{3,18}[.][a-z]{2,4}$\"\n",
    "    if re.match(pattern, email):\n",
    "        return True\n",
    "    return False\n",
    "# emailValidator(email)\n",
    "def modifyContact(name, phone,email):\n",
    "    fname=\"DataFiles//contacts_list.txt\"\n",
    "    if contact_exists(name):\n",
    "        x=readFile(fname)\n",
    "        p='[ \\n]'\n",
    "        x=re.split(p,x)\n",
    "        if phoneNumberValidator(phone) and emailValidator(email):\n",
    "            with open(fname,'w') as f:\n",
    "                for i in range(len(x)):\n",
    "                    j=x[i].split(',')\n",
    "                    print(j)\n",
    "                    if j[0] == name:\n",
    "                        line=name+','+str(phone)+','+email\n",
    "                        f.write(line)\n",
    "                        f.write('\\n')\n",
    "                    else:\n",
    "#                         s=\"\"\n",
    "#                         for i in j:\n",
    "#                             print(i)\n",
    "#                             s+=i+','\n",
    "                        f.write(x[i])\n",
    "                        f.write('\\n')\n",
    "            print(name, 'contact modified')\n",
    "    else:\n",
    "        print(name,'exists')\n",
    "    return\n",
    "modifyContact('lovely',8179772003,'bprasanna.b@apssdc.in')"
   ]
  },
  {
   "cell_type": "code",
   "execution_count": 17,
   "metadata": {},
   "outputs": [
    {
     "name": "stdout",
     "output_type": "stream",
     "text": [
      "contact lovely2 is deleted\n"
     ]
    }
   ],
   "source": [
    "def deleteContact(name):\n",
    "    fn=\"DataFiles//contacts_list.txt\"\n",
    "    if contact_exists(name):\n",
    "        x=readFile(fn)\n",
    "        p='[ \\n]'\n",
    "        x=re.split(p,x)\n",
    "        with open(fn,'w') as f:\n",
    "            for i in range(len(x)):\n",
    "                j=x[i].split(',')\n",
    "                if name != j[0]:\n",
    "                    f.write(x[i])\n",
    "                    f.write('\\n')\n",
    "        print('contact %s is deleted'%name)\n",
    "    else:\n",
    "        print('contact %s not exists'%name)\n",
    "    return\n",
    "deleteContact('lovely2')"
   ]
  },
  {
   "cell_type": "code",
   "execution_count": null,
   "metadata": {},
   "outputs": [],
   "source": []
  },
  {
   "cell_type": "code",
   "execution_count": null,
   "metadata": {},
   "outputs": [],
   "source": []
  }
 ],
 "metadata": {
  "kernelspec": {
   "display_name": "Python 3",
   "language": "python",
   "name": "python3"
  },
  "language_info": {
   "codemirror_mode": {
    "name": "ipython",
    "version": 3
   },
   "file_extension": ".py",
   "mimetype": "text/x-python",
   "name": "python",
   "nbconvert_exporter": "python",
   "pygments_lexer": "ipython3",
   "version": "3.7.3"
  }
 },
 "nbformat": 4,
 "nbformat_minor": 2
}
