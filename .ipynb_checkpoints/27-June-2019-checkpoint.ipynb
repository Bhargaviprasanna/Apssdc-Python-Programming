{
 "cells": [
  {
   "cell_type": "markdown",
   "metadata": {},
   "source": [
    "711111111111111111111111111111111111111111111111111111111111111111111111111111111111111111111111111111111111111111111111111111111111111111111111111111111111111111111111111111111111111111111111111111111111111111111111111111111111111111111111111"
   ]
  },
  {
   "cell_type": "markdown",
   "metadata": {},
   "source": [
    "8445914752334217384616425239834258842968210917150466215005566541456111472213037091760933758638073416"
   ]
  },
  {
   "cell_type": "code",
   "execution_count": 12,
   "metadata": {},
   "outputs": [
    {
     "name": "stdout",
     "output_type": "stream",
     "text": [
      "1\n",
      "8445914752334217384616425239834258842968210917150466215005566541456111472213037091760933758638073416\n",
      "100\n",
      "100\n",
      "470\n",
      "235\n",
      "1111111111111111111111111111111111111111111111111111111111111111111111111111111111111111111111111111111111111111111111111111111111111111111111111111111111111111111111111111111111111111111111111111111111111111111111111111111111111111111\n"
     ]
    }
   ],
   "source": [
    "t=int(input())\n",
    "def countOfSticks(n,match_dic):\n",
    "    if n//10 == 0:\n",
    "        return match_dic[str(n)]\n",
    "    else:\n",
    "        print(len(str(n)))\n",
    "        num=[]\n",
    "        s=0\n",
    "        while n!=0:\n",
    "            r=(n%10)\n",
    "            num.append(r)\n",
    "#             print(r,match_dic[str(r)])\n",
    "            s+=match_dic[str(r)]\n",
    "            n=n//10\n",
    "        print(len(num))\n",
    "        return s\n",
    "def sevenSegment(t):\n",
    "    match_dic={'0':6, '1':2, '2':5, '3':5, '4':4, '5':5, '6':6, '7':3, '8':7, '9':6}\n",
    "    maxi=0\n",
    "    for i in range(t):\n",
    "        n=int(input())\n",
    "        ms=countOfSticks(n,match_dic)\n",
    "        print(ms)\n",
    "        print(ms//2)\n",
    "        if ms%2==0:\n",
    "            x=(ms//2)*('1')\n",
    "\n",
    "        else:\n",
    "            ms=ms-3\n",
    "            print('inside ms',ms)\n",
    "            x='7'\n",
    "            x+=(ms//2)*('1')\n",
    "        # for num in match_dic.keys():\n",
    "        #     if ms%match_dic[num] == 0:\n",
    "        #         x=int((ms//match_dic[num])*(num))\n",
    "        #         #print(x)\n",
    "        #         if maxi < x:\n",
    "        #             maxi = x\n",
    "        x=int(x)\n",
    "        print(x)\n",
    "    return\n",
    "sevenSegment(t)\n"
   ]
  },
  {
   "cell_type": "code",
   "execution_count": 8,
   "metadata": {},
   "outputs": [
    {
     "name": "stdout",
     "output_type": "stream",
     "text": [
      "470\n",
      "489\n"
     ]
    }
   ],
   "source": [
    "l='1111111111111111111111111111111111111111111111111111111111111111111111111111111111111111111111111111111111111111111111111111111111111111111111111111111111111111111111111111111111111111111111111111111111111111111111111111111111111111111'\n",
    "print(len(l)*2)\n",
    "t='711111111111111111111111111111111111111111111111111111111111111111111111111111111111111111111111111111111111111111111111111111111111111111111111111111111111111111111111111111111111111111111111111111111111111111111111111111111111111111111111111'\n",
    "print(len(t)*2+3)"
   ]
  },
  {
   "cell_type": "code",
   "execution_count": 31,
   "metadata": {},
   "outputs": [
    {
     "name": "stdout",
     "output_type": "stream",
     "text": [
      "8\n",
      "[1, 9, 8]\n"
     ]
    }
   ],
   "source": [
    "# Fun to print all combinations of pairs of integers in a list\n",
    "# [1,2,3] -> (1,2) (1,3) (2,3) -> 3C2 combinations ((3!/(3-2)!)2!\n",
    "def orderedpair(li):\n",
    "    x=[]\n",
    "    for i in range(len(li)-1):\n",
    "        for j in range(i+1,len(li)):\n",
    "            if li[i]!=li[j]:\n",
    "#                 print(l[i],l[j])\n",
    "                x.append([li[i],li[j]])\n",
    "    #print(x)\n",
    "    return x\n",
    "\n",
    "li=[1,9]\n",
    "y=orderedpair(li)\n",
    "def absdifforderedpair(y):\n",
    "    for i in y:\n",
    "        d=abs(i[0]-i[1])\n",
    "        if d not in li:\n",
    "            print(d)\n",
    "            li.append(d)\n",
    "    return li\n",
    "print(absdifforderedpair(y))\n",
    "\n",
    "# def absdifforderedpair(li):\n",
    "# #     cli=\n",
    "#     n=[]\n",
    "#     y=orderedpair(li)\n",
    "#     for i in y:\n",
    "#         d=abs(i[0]-i[1])\n",
    "#         if d not in n:\n",
    "# #             print(d)\n",
    "#             n.append(d)\n",
    "#     print('n out',n)\n",
    "#     print(li)\n",
    "#     if len(n) >= len(li):\n",
    "# #         print('n is',n)\n",
    "# #         print(li)\n",
    "#         li.extend(n)\n",
    "# #         print(li)\n",
    "#         li=list(set(li))\n",
    "# #         print(li)\n",
    "#         if len(li) == len(n):\n",
    "#             break\n",
    "#         else:\n",
    "#             absdifforderedpair(li)\n",
    "# #     li.extend(n)\n",
    "# #     li=list(set(li))\n",
    "# #     if n not in li:\n",
    "# #         li.extend(n)\n",
    "# #         li=list(set(li))\n",
    "# #         print(li)\n",
    "# #         absdifforderedpair(li)\n",
    "# #     print('n after',n)\n",
    "# #     print(li)\n",
    "# #     return li\n",
    "# print(absdifforderedpair(li))"
   ]
  },
  {
   "cell_type": "code",
   "execution_count": 28,
   "metadata": {},
   "outputs": [
    {
     "name": "stdout",
     "output_type": "stream",
     "text": [
      "1\n",
      "6\n",
      "1 7 23 9 19 6\n",
      "3\n",
      "21\n"
     ]
    }
   ],
   "source": [
    "\n",
    "def kthLargDeff(li,kth):\n",
    "    for i in li:\n",
    "        deff=0\n",
    "        for j in range(0,len(li)):\n",
    "            deff = abs(li[j]-i)\n",
    "            if deff !=0:\n",
    "                if deff not in li:\n",
    "                    li.append(deff)\n",
    "    if len(li) > kth:\n",
    "        li = sorted(li)\n",
    "        print(li[len(li)-kth])\n",
    "    else:\n",
    "        print(-1)\n",
    "\n",
    "T = int(input())\n",
    "for m in range(1,T+1):\n",
    "    s = int(input())\n",
    "    li=[int(i) for i in input().split()][:s]\n",
    "    kth=int(input())\n",
    "    kthLargDeff(li,kth)\n"
   ]
  },
  {
   "cell_type": "code",
   "execution_count": 32,
   "metadata": {},
   "outputs": [],
   "source": [
    "def differenceOfPairs(li):\n",
    "    c = 0\n",
    "    for i in range(len(li)-1):\n",
    "        for j in range(i+1,len(li)):\n",
    "            d=abs(li[i]-li[j])\n",
    "            if d not in li:\n",
    "                li.append(d)\n",
    "                differenceOfPairs(li)\n",
    "                c=c+1\n",
    "                \n",
    "    return li  \n",
    "def kthLargestofDeiffrencePairs(li,k):\n",
    "    li2 = differenceOfPairs(li)\n",
    "    #print(li2)\n",
    "    li2 = sorted(li2,reverse = True)\n",
    "    highest = li2[k-1]\n",
    "    return highest\n",
    "#kthLargestofDeiffrencePairs([3,8],4)\n"
   ]
  },
  {
   "cell_type": "markdown",
   "metadata": {},
   "source": [
    "kthlargdiffinput.txt"
   ]
  },
  {
   "cell_type": "code",
   "execution_count": 42,
   "metadata": {},
   "outputs": [
    {
     "name": "stdout",
     "output_type": "stream",
     "text": [
      "[1, 2, 3, 4, 5, 6, 7, 8, 9]\n",
      "8\n"
     ]
    }
   ],
   "source": [
    "def differencepairs1(li):\n",
    "    c=li.copy()\n",
    "    n=[]\n",
    "    for i in range(len(li)):\n",
    "        for j in range(i+1,len(li)):\n",
    "            d=abs(li[i]-li[j])\n",
    "            if d not in li and d not in n:\n",
    "                n.append(d)\n",
    "                \n",
    "    li.extend(n)\n",
    "    return [li,c]\n",
    "li=[1,9]\n",
    "k=2\n",
    "def medium1(li,k):\n",
    "    while True:\n",
    "        li3=differencepairs1(li)\n",
    "        if li3[0] == li3[1]:\n",
    "            break\n",
    "    if len(li3[0]) >= k:\n",
    "        li3[0].sort()\n",
    "        print(li3[len(li3)-k])\n",
    "        return li3[0][len(li3[0])-k]\n",
    "    else:\n",
    "        return -1\n",
    "print(medium1(li,k))"
   ]
  },
  {
   "cell_type": "code",
   "execution_count": null,
   "metadata": {},
   "outputs": [],
   "source": [
    "with open('DataFiles/kthlargdiffinput.txt','r') as f:\n",
    "    t=int(f.readline())\n",
    "    print(t)\n",
    "    list1=[]\n",
    "    for i in range(t):\n",
    "        x=f.readline()\n",
    "        print(x)\n",
    "        li=f.readline().split()\n",
    "        for i in li:\n",
    "            list1.append(int(i))\n",
    "        \n",
    "        k=f.readline()\n",
    "        print(k)\n",
    "        #print(list1)\n",
    "        print(kthLargestofDeiffrencePairs(list1,k))"
   ]
  },
  {
   "cell_type": "markdown",
   "metadata": {},
   "source": [
    "## Sets"
   ]
  },
  {
   "cell_type": "code",
   "execution_count": 49,
   "metadata": {},
   "outputs": [
    {
     "name": "stdout",
     "output_type": "stream",
     "text": [
      "56\n",
      "1\n",
      "34\n",
      "78\n",
      "{1, 34, 67, 2, 3, 4, 10, 78, 23, 56, 89}\n",
      "{1, 34, 2, 3, 4, 10, 78, 23, 56, 89}\n"
     ]
    }
   ],
   "source": [
    "a={1,34,56,78,56,78}\n",
    "for i in a:\n",
    "    print(i)\n",
    "b={23,67,89,10}\n",
    "li=[1,2,3,4]\n",
    "a.update(b,li)\n",
    "print(a)\n",
    "a.discard(67)\n",
    "print(a)"
   ]
  },
  {
   "cell_type": "markdown",
   "metadata": {},
   "source": [
    "## Operations"
   ]
  },
  {
   "cell_type": "code",
   "execution_count": 52,
   "metadata": {},
   "outputs": [
    {
     "data": {
      "text/plain": [
       "{1, 2, 3, 4, 5, 6, 7, 8, 9}"
      ]
     },
     "execution_count": 52,
     "metadata": {},
     "output_type": "execute_result"
    }
   ],
   "source": [
    "# Union or |\n",
    "a={1,1,2,3,4}\n",
    "b={5,5,5,6,6,7,7,8,9}\n",
    "a.union(b)\n",
    "a|b"
   ]
  },
  {
   "cell_type": "code",
   "execution_count": 56,
   "metadata": {},
   "outputs": [
    {
     "data": {
      "text/plain": [
       "{5, 7}"
      ]
     },
     "execution_count": 56,
     "metadata": {},
     "output_type": "execute_result"
    }
   ],
   "source": [
    "#Intersection\n",
    "a={1,1,2,3,4,5,5,7}\n",
    "b={5,5,5,6,6,7,7,8,9}\n",
    "a.intersection(b)\n",
    "a&b"
   ]
  },
  {
   "cell_type": "code",
   "execution_count": 58,
   "metadata": {},
   "outputs": [
    {
     "data": {
      "text/plain": [
       "True"
      ]
     },
     "execution_count": 58,
     "metadata": {},
     "output_type": "execute_result"
    }
   ],
   "source": [
    "#disjoint\n",
    "a={1,1,2,3,4}\n",
    "b={5,5,5,6,6,7,7,8,9}\n",
    "a.isdisjoint(b)"
   ]
  },
  {
   "cell_type": "code",
   "execution_count": 62,
   "metadata": {},
   "outputs": [
    {
     "data": {
      "text/plain": [
       "{6, 8, 9}"
      ]
     },
     "execution_count": 62,
     "metadata": {},
     "output_type": "execute_result"
    }
   ],
   "source": [
    "#uncommon elements\n",
    "a={1,1,2,3,4,5,5,7}\n",
    "b={5,5,5,6,6,7,7,8,9}\n",
    "a-b #a-b differ from b-a\n",
    "a.union(b)-b\n",
    "b-a"
   ]
  },
  {
   "cell_type": "code",
   "execution_count": 66,
   "metadata": {},
   "outputs": [
    {
     "data": {
      "text/plain": [
       "{1, 2, 5, 6}"
      ]
     },
     "execution_count": 66,
     "metadata": {},
     "output_type": "execute_result"
    }
   ],
   "source": [
    "# symmetric difference uncommon in both\n",
    "a={1,1,2,3,4,5,5,7}\n",
    "b={3,4,6,7}\n",
    "a^b"
   ]
  },
  {
   "cell_type": "markdown",
   "metadata": {},
   "source": [
    "# Functional Programming\n",
    "- > Procedural - C\n",
    "- > Object oriented - Java, Python\n",
    "- > Scripting - PHP, Python, JavaScript, Shellscript\n",
    "- > Functional - Python, Haskell, Scala\n",
    "- > Logic - Prolog, Lisp"
   ]
  },
  {
   "cell_type": "markdown",
   "metadata": {},
   "source": [
    "#### List Comprehensions"
   ]
  },
  {
   "cell_type": "code",
   "execution_count": 78,
   "metadata": {},
   "outputs": [
    {
     "name": "stdout",
     "output_type": "stream",
     "text": [
      "10\n",
      "[1, 2, 3, 4, 5, 6, 7, 8, 9, 10]\n",
      "3\n",
      "3\n",
      "[[1, 8, 27], [1, 8, 27]]\n"
     ]
    }
   ],
   "source": [
    "#List of N natural numbers\n",
    "n=int(input())\n",
    "li=[i for i in range(1,n+1)]\n",
    "print(li)\n",
    "li1=[[i**3 for i in range(1,int(input())+1)] for j in range(1,3)]\n",
    "print(li1)"
   ]
  },
  {
   "cell_type": "code",
   "execution_count": 86,
   "metadata": {},
   "outputs": [
    {
     "name": "stdout",
     "output_type": "stream",
     "text": [
      "[1, 2, 6, 24, 120, 720, 5040, 40320, 362880, 3628800]\n",
      "1\n",
      "2\n",
      "3\n",
      "4\n",
      "5\n",
      "[[1], [2], [3], [4], [5]]\n"
     ]
    }
   ],
   "source": [
    "def factorial(n):\n",
    "    if n==0:\n",
    "        return 1\n",
    "    else:\n",
    "        return n*factorial(n-1)\n",
    "lis=[factorial(i) for i in range(1,n+1)]\n",
    "print(lis)\n",
    "n=10\n",
    "a=[[int(input())]for i in range(5)]\n",
    "print(a)"
   ]
  },
  {
   "cell_type": "code",
   "execution_count": 120,
   "metadata": {},
   "outputs": [
    {
     "name": "stdout",
     "output_type": "stream",
     "text": [
      "[1, 2, 3, 4, 5]\n",
      "[1, 3, 6, 10, 15]\n"
     ]
    }
   ],
   "source": [
    "# n=int(input())\n",
    "li=[i for i in range(1,6)]\n",
    "print(li)\n",
    "# s=0\n",
    "# c=[]\n",
    "# for i in li:\n",
    "#     s+=i\n",
    "#     c.append(s)\n",
    "# print(c)    \n",
    "# s=0\n",
    "# b=[[s+i] for i in li]\n",
    "# print(b)\n",
    "d=[sum(range(1,i+1)) for i in range(1,6)]\n",
    "print(d)"
   ]
  },
  {
   "cell_type": "code",
   "execution_count": 130,
   "metadata": {},
   "outputs": [
    {
     "name": "stdout",
     "output_type": "stream",
     "text": [
      "[1972, 1976, 1980, 1984, 1988, 1992, 1996, 2000, 2004, 2008, 2012, 2016]\n"
     ]
    }
   ],
   "source": [
    "# Leap years \n",
    "st=1970\n",
    "et=2019\n",
    "def leapyear(i):\n",
    "    x=[]\n",
    "    if (i%4 == 0 and i%100==0) or (i%400 ==0):\n",
    "        return i\n",
    "lis=[leapyear(i) for i in range(st,et+1)]\n",
    "lis2=[x for x in range(st,et+1) if (x%400==0)or(x%4==0 and x%100!=0)]\n",
    "print(lis2)\n"
   ]
  },
  {
   "cell_type": "code",
   "execution_count": 167,
   "metadata": {},
   "outputs": [
    {
     "name": "stdout",
     "output_type": "stream",
     "text": [
      "[1, 2, 3, 4]\n",
      "[2, 3, 4]\n",
      "[1, 2, 3, 4]\n",
      "[2, 1, 1, 1]\n",
      "[1, 1, 2, 3, 4]\n",
      "[1, 1, 1, 1, 2, 2, 2, 2, 4, 4, 4, 4]\n",
      "[1, 2, 3, 4]\n",
      "[1, 2, 3, 4]\n"
     ]
    }
   ],
   "source": [
    "# li=[]\n",
    "l=[1,1,2,3,4]\n",
    "x=list(set(l))\n",
    "print(x)\n",
    "#l.sort()\n",
    "li=[]\n",
    "li=[i for i in x if l.count(i)==1]\n",
    "print(li)\n",
    "sorted(x)\n",
    "print(x)\n",
    "c=[l.count(x[i]) for i in range(len(x))]\n",
    "print(c)\n",
    "print(l)\n",
    "li2=[l[i] for i in range(0,len(l),k) for k in c]\n",
    "print(li2)\n",
    "s=[]\n",
    "li3=[i for i in l if i not in s and (s.append(i) or True)]\n",
    "print(li3)\n",
    "li4=[]\n",
    "[li4.append(i) for i in l if i not in li4]\n",
    "print(li4)"
   ]
  },
  {
   "cell_type": "markdown",
   "metadata": {},
   "source": [
    "## Iterators\n",
    "- > Strings, Lists, Tuples, Sets, Dictionaries(Iterables)\n",
    "convert Iterable to Iterator we user 'iter()'\n",
    "Iterator: we can stop at any time during execution, execution will be paused"
   ]
  },
  {
   "cell_type": "code",
   "execution_count": 177,
   "metadata": {},
   "outputs": [
    {
     "name": "stdout",
     "output_type": "stream",
     "text": [
      "h\n",
      "r\n",
      "a\n",
      "i\n"
     ]
    }
   ],
   "source": [
    "it = iter('Bhargavi')\n",
    "for i in it:\n",
    "    print(next(it))"
   ]
  },
  {
   "cell_type": "markdown",
   "metadata": {},
   "source": [
    "## Generator\n",
    "Generates a user defined fun"
   ]
  },
  {
   "cell_type": "code",
   "execution_count": 189,
   "metadata": {},
   "outputs": [
    {
     "name": "stdout",
     "output_type": "stream",
     "text": [
      "bbp bbp \n",
      "lovely lovely lovely \n",
      "4\n",
      "16\n",
      "256\n"
     ]
    }
   ],
   "source": [
    "def printi():\n",
    "    x='bbp '\n",
    "    yield x*2\n",
    "    x='lovely '\n",
    "    yield x*3\n",
    "y=printi()\n",
    "print(next(y))\n",
    "print(next(y))\n",
    "def generator():\n",
    "    n=2\n",
    "    for i in range(1,4):\n",
    "        n **=2\n",
    "        yield n\n",
    "a=generator()\n",
    "print(next(a))\n",
    "print(next(a))\n",
    "print(next(a))"
   ]
  },
  {
   "cell_type": "code",
   "execution_count": null,
   "metadata": {},
   "outputs": [],
   "source": []
  }
 ],
 "metadata": {
  "kernelspec": {
   "display_name": "Python 3",
   "language": "python",
   "name": "python3"
  },
  "language_info": {
   "codemirror_mode": {
    "name": "ipython",
    "version": 3
   },
   "file_extension": ".py",
   "mimetype": "text/x-python",
   "name": "python",
   "nbconvert_exporter": "python",
   "pygments_lexer": "ipython3",
   "version": "3.7.3"
  }
 },
 "nbformat": 4,
 "nbformat_minor": 2
}
