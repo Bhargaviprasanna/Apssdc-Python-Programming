{
 "cells": [
  {
   "cell_type": "markdown",
   "metadata": {},
   "source": [
    "# Contacts Application\n",
    "- > Add a Contact\n",
    "- > Search a Contact\n",
    "- > List of Contacts\n",
    "- > Update a contact\n",
    "- > Delete a Contact"
   ]
  },
  {
   "cell_type": "markdown",
   "metadata": {},
   "source": [
    "### Validators"
   ]
  },
  {
   "cell_type": "code",
   "execution_count": null,
   "metadata": {},
   "outputs": [],
   "source": [
    "import re\n",
    "\n",
    "def phoneNumberValidator(number):\n",
    "    pattern = '^[6-9][0-9]{9}$|^[0][6-9][0-9]{9}|^[+][9][1][6-9][0-9]{9}$'\n",
    "    if re.match(pattern, str(number)):\n",
    "        return True\n",
    "    return False\n",
    "\n",
    "phoneNumberValidator(98765432)\n",
    "\n",
    "def emailValidator(email):\n",
    "    pattern = \"^[0-9a-z][0-9a-z_.]{4,13}[0-9a-z][@][a-z0-9]{3,18}[.][a-z]{2,4}$\"\n",
    "    if re.match(pattern, email):\n",
    "        return True\n",
    "    return False\n",
    "emailValidator(email)"
   ]
  },
  {
   "cell_type": "markdown",
   "metadata": {},
   "source": [
    "### Add Contact"
   ]
  },
  {
   "cell_type": "code",
   "execution_count": null,
   "metadata": {},
   "outputs": [],
   "source": [
    "import re\n",
    "\n",
    "def contact_exists(name):\n",
    "    fname=\"DataFiles//contacts_list.txt\"\n",
    "    with open(fname,'r') as f:\n",
    "        x=f.read()\n",
    "        pattern=name+','\n",
    "    return re.search(name,x)\n",
    "\n",
    "def addContact(name, phone,email):\n",
    "    fname=\"DataFiles//contacts_list.txt\"\n",
    "    if not contact_exists(name):\n",
    "        if \n",
    "        with open(fname,'a') as f:\n",
    "            f.write('\\n')\n",
    "            line=name+','+str(phone)+','+email\n",
    "            f.write(line)\n",
    "        print(name, 'added to contacts')\n",
    "    else:\n",
    "        print(name,'exists')\n",
    "    return\n",
    "# addContact('rasna',7896504320,'bprasanna.b@apssdc.in')"
   ]
  },
  {
   "cell_type": "markdown",
   "metadata": {},
   "source": [
    "### Modify a Contact"
   ]
  },
  {
   "cell_type": "code",
   "execution_count": null,
   "metadata": {},
   "outputs": [],
   "source": [
    "def modifyContact(name, phone,email):\n",
    "    fname=\"DataFiles//contacts_list.txt\"\n",
    "    if contact_exists(name):\n",
    "        x=readFile(fname)\n",
    "        p='[ \\n]'\n",
    "        x=re.split(p,x)\n",
    "        if phoneNumberValidator(phone) and emailValidator(email):\n",
    "            with open(fname,'w') as f:\n",
    "                for i in range(len(x)):\n",
    "                    j=x[i].split(',')\n",
    "                    print(j)\n",
    "                    if j[0] == name:\n",
    "                        line=name+','+str(phone)+','+email\n",
    "                        f.write(line)\n",
    "                        f.write('\\n')\n",
    "                    else:\n",
    "                        f.write(x[i])\n",
    "                        f.write('\\n')\n",
    "            print(name, 'contact modified')\n",
    "    else:\n",
    "        print(name,'exists')\n",
    "    return\n",
    "modifyContact('lovely',8179772003,'bprasanna.b@apssdc.in')"
   ]
  },
  {
   "cell_type": "markdown",
   "metadata": {},
   "source": [
    "### List of Contacts"
   ]
  },
  {
   "cell_type": "code",
   "execution_count": null,
   "metadata": {},
   "outputs": [],
   "source": [
    "import re\n",
    "def listofcontacts():\n",
    "    fname=\"DataFiles//contacts_list.txt\"\n",
    "    with open(fname, 'r') as f:\n",
    "        l=f.read()\n",
    "        p='[ \\n]'\n",
    "        s=re.split(p,l)\n",
    "        for i in range(len(s)):\n",
    "            j=s[i].split(',')\n",
    "            print(j)\n",
    "#             print(i)\n",
    "    return\n",
    "# listofcontacts()"
   ]
  },
  {
   "cell_type": "markdown",
   "metadata": {},
   "source": [
    "### Delete a contact"
   ]
  },
  {
   "cell_type": "code",
   "execution_count": null,
   "metadata": {},
   "outputs": [],
   "source": [
    "def deleteContact(name):\n",
    "    fn=\"DataFiles//contacts_list.txt\"\n",
    "    if contact_exists(name):\n",
    "        x=readFile(fn)\n",
    "        p='[ \\n]'\n",
    "        x=re.split(p,x)\n",
    "        with open(fn,'w') as f:\n",
    "            for i in range(len(x)):\n",
    "                j=x[i].split(',')\n",
    "                if name != j[0]:\n",
    "                    f.write(x[i])\n",
    "                    f.write('\\n')\n",
    "        print('contact %s is deleted'%name)\n",
    "    else:\n",
    "        print('contact %s not exists'%name)\n",
    "    return\n",
    "# deleteContact('lovely2')"
   ]
  }
 ],
 "metadata": {
  "kernelspec": {
   "display_name": "Python 3",
   "language": "python",
   "name": "python3"
  },
  "language_info": {
   "codemirror_mode": {
    "name": "ipython",
    "version": 3
   },
   "file_extension": ".py",
   "mimetype": "text/x-python",
   "name": "python",
   "nbconvert_exporter": "python",
   "pygments_lexer": "ipython3",
   "version": "3.7.3"
  }
 },
 "nbformat": 4,
 "nbformat_minor": 2
}
