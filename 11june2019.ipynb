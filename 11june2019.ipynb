{
 "cells": [
  {
   "cell_type": "markdown",
   "metadata": {},
   "source": [
    "# This is bhargavi\n",
    "* **janvika** \n",
    "* *Bharu* \n",
    "* ***Bhargavi Prasanna***\n",
    "* Normal Text"
   ]
  },
  {
   "cell_type": "markdown",
   "metadata": {},
   "source": [
    "### to add a sublist\n",
    "* Noraml Text\n",
    "    * Bharu\n",
    "    * Janu"
   ]
  },
  {
   "cell_type": "markdown",
   "metadata": {},
   "source": [
    "### Ordered List\n",
    "1. Ordered list items\n",
    "    >1. Biryani\n",
    "    >2. Burfi"
   ]
  },
  {
   "cell_type": "markdown",
   "metadata": {},
   "source": [
    "### adding a link\n",
    "[jupyter Logo](Jupyter.png)"
   ]
  },
  {
   "cell_type": "markdown",
   "metadata": {},
   "source": [
    "###  to write options\n",
    "- [] Option1\n",
    "- [] Option2\n",
    "- [x] Option selected\n"
   ]
  },
  {
   "cell_type": "markdown",
   "metadata": {},
   "source": [
    "### to display a image\n",
    "![Jupyter Logo](Jupyter.png)"
   ]
  },
  {
   "cell_type": "markdown",
   "metadata": {},
   "source": [
    "<img src=\"Jupyter.png\" style=\"float:left\">"
   ]
  },
  {
   "cell_type": "markdown",
   "metadata": {},
   "source": [
    "### Add links as a list(Explicit)\n",
    "I get 10 times more traffic from [Google] [1] than from\n",
    "[Yahoo] [2] or [MSN] [3].\n",
    "\n",
    "  [1]: http://google.com/        \"Google\"\n",
    "  [2]: http://search.yahoo.com/  \"Yahoo Search\"\n",
    "  [3]: http://search.msn.com/    \"MSN Search\""
   ]
  },
  {
   "cell_type": "markdown",
   "metadata": {},
   "source": [
    "### Add links as a list(Implicitly)\n",
    "I get 10 times more traffic from [Google][] than from\n",
    "[Yahoo][] or [MSN][].\n",
    "\n",
    "  [google]: http://google.com/        \"Google\"\n",
    "  [yahoo]:  http://search.yahoo.com/  \"Yahoo Search\"\n",
    "  [msn]:    http://search.msn.com/    \"MSN Search\""
   ]
  },
  {
   "cell_type": "markdown",
   "metadata": {},
   "source": [
    "` This is a trick for copying code snippets just like a code tag in html `\n",
    "`printf()`"
   ]
  },
  {
   "cell_type": "markdown",
   "metadata": {},
   "source": [
    "# Python Basics\n",
    "### Python Version 3.7"
   ]
  },
  {
   "cell_type": "code",
   "execution_count": 12,
   "metadata": {},
   "outputs": [
    {
     "name": "stdout",
     "output_type": "stream",
     "text": [
      "Good Afternoon ! Hello Python\n"
     ]
    }
   ],
   "source": [
    "# Python Comments\n",
    "print(\"Good Afternoon\", \"!\",end=\" \") #Basic output\n",
    "print(\"Hello Python\")"
   ]
  },
  {
   "cell_type": "markdown",
   "metadata": {},
   "source": [
    "### Assignments\n"
   ]
  },
  {
   "cell_type": "code",
   "execution_count": 18,
   "metadata": {},
   "outputs": [
    {
     "name": "stdout",
     "output_type": "stream",
     "text": [
      "9999999\n"
     ]
    }
   ],
   "source": [
    "#same value assigned to no of variables\n",
    "n1=9999999\n",
    "n4=n2=n3=n1\n",
    "print(n3)"
   ]
  },
  {
   "cell_type": "code",
   "execution_count": 21,
   "metadata": {},
   "outputs": [
    {
     "name": "stdout",
     "output_type": "stream",
     "text": [
      "8\n"
     ]
    }
   ],
   "source": [
    "#multi values for multi variables\n",
    "n1,n2,n3,n4=1,123456,4,8\n",
    "print(n4)"
   ]
  },
  {
   "cell_type": "code",
   "execution_count": null,
   "metadata": {},
   "outputs": [],
   "source": []
  },
  {
   "cell_type": "markdown",
   "metadata": {},
   "source": [
    "### Arthemetic Operators\n",
    "+\n",
    "-\n",
    "*\n",
    "/\n",
    "%\n",
    "**"
   ]
  },
  {
   "cell_type": "code",
   "execution_count": 32,
   "metadata": {},
   "outputs": [
    {
     "name": "stdout",
     "output_type": "stream",
     "text": [
      "<class 'int'>\n"
     ]
    },
    {
     "data": {
      "text/plain": [
       "628578"
      ]
     },
     "execution_count": 32,
     "metadata": {},
     "output_type": "execute_result"
    }
   ],
   "source": [
    "n1 * 11\n",
    "n3=n2 ** 123456\n",
    "print(type(n3))\n",
    "len(str(n3))\n",
    "#print(n3)"
   ]
  },
  {
   "cell_type": "code",
   "execution_count": 33,
   "metadata": {},
   "outputs": [],
   "source": [
    "atoms = 10 ** 82"
   ]
  },
  {
   "cell_type": "code",
   "execution_count": null,
   "metadata": {},
   "outputs": [],
   "source": []
  },
  {
   "cell_type": "markdown",
   "metadata": {},
   "source": [
    "Conditionals"
   ]
  },
  {
   "cell_type": "code",
   "execution_count": 34,
   "metadata": {},
   "outputs": [
    {
     "data": {
      "text/plain": [
       "True"
      ]
     },
     "execution_count": 34,
     "metadata": {},
     "output_type": "execute_result"
    }
   ],
   "source": [
    "atoms < 10**85"
   ]
  },
  {
   "cell_type": "code",
   "execution_count": 35,
   "metadata": {},
   "outputs": [
    {
     "name": "stdout",
     "output_type": "stream",
     "text": [
      "Odd\n"
     ]
    }
   ],
   "source": [
    "n = 123\n",
    "if n % 2 == 0:\n",
    "    print('Even')\n",
    "else:\n",
    "    print('Odd')"
   ]
  },
  {
   "cell_type": "code",
   "execution_count": 39,
   "metadata": {},
   "outputs": [
    {
     "name": "stdout",
     "output_type": "stream",
     "text": [
      "Enter 1st number: -1\n",
      "Enter 2nd number: -100\n",
      "Enter 3rd number: -50\n",
      "-1 is greater\n"
     ]
    }
   ],
   "source": [
    "# Find the greatest of three numbers\n",
    "n1=int(input(\"Enter 1st number: \"))\n",
    "n2=int(input(\"Enter 2nd number: \"))\n",
    "n3=int(input(\"Enter 3rd number: \"))\n",
    "if n1 > n2 and n1 > n3:\n",
    "    print(n1,'is greater')\n",
    "elif n2 > n3:\n",
    "    print(n2,'is greater')\n",
    "else:\n",
    "    print(n3,'is greater')"
   ]
  },
  {
   "cell_type": "code",
   "execution_count": 41,
   "metadata": {},
   "outputs": [
    {
     "name": "stdout",
     "output_type": "stream",
     "text": [
      "Enter year: 2019\n",
      "False\n"
     ]
    }
   ],
   "source": [
    "# check if leap year\n",
    "n=int(input(\"Enter year: \"))\n",
    "def leapyear(n):\n",
    "    if (n%4 == 0 and n%100 !=0) or n%400 ==0:\n",
    "        return True\n",
    "    else:\n",
    "        return False\n",
    "print(leapyear(n))"
   ]
  },
  {
   "cell_type": "code",
   "execution_count": 42,
   "metadata": {},
   "outputs": [
    {
     "name": "stdout",
     "output_type": "stream",
     "text": [
      "Enter number: 10\n",
      "Enter i: 6\n",
      "Enter j: 20\n",
      "True\n"
     ]
    }
   ],
   "source": [
    "# number in given range\n",
    "n=int(input(\"Enter number: \"))\n",
    "i=int(input(\"Enter i: \"))\n",
    "j=int(input(\"Enter j: \"))\n",
    "def inRange(n,i,j):\n",
    "    if n >= i and n<=j:\n",
    "        return True\n",
    "    else:\n",
    "        return False\n",
    "print(inRange(n,i,j))\n",
    "    "
   ]
  },
  {
   "cell_type": "code",
   "execution_count": 50,
   "metadata": {},
   "outputs": [
    {
     "name": "stdout",
     "output_type": "stream",
     "text": [
      "Enter number: 123456\n",
      "6\n"
     ]
    }
   ],
   "source": [
    "#calculate the number of digits in a number\n",
    "n=int(input(\"Enter number: \"))\n",
    "def noDigits(n):\n",
    "    i=0\n",
    "    while n!=0:\n",
    "        i=i+1\n",
    "        n//=10\n",
    "    return i\n",
    "print(noDigits(n))"
   ]
  },
  {
   "cell_type": "code",
   "execution_count": 52,
   "metadata": {},
   "outputs": [
    {
     "name": "stdout",
     "output_type": "stream",
     "text": [
      "Enter number: 199\n",
      "False\n"
     ]
    }
   ],
   "source": [
    "#check a number multiple of 10\n",
    "a=int(input(\"Enter number: \"))\n",
    "def multiple10(a):\n",
    "    if a%10 == 0:\n",
    "        return True\n",
    "    else:\n",
    "        return False\n",
    "print(multiple10(a))"
   ]
  },
  {
   "cell_type": "code",
   "execution_count": 54,
   "metadata": {},
   "outputs": [
    {
     "name": "stdout",
     "output_type": "stream",
     "text": [
      "Enter number: 12000\n",
      "True\n"
     ]
    }
   ],
   "source": [
    "a=int(input(\"Enter number: \"))\n",
    "def factor1000(a):\n",
    "    if a%1000 == 0:\n",
    "        return True\n",
    "    else:\n",
    "        return False\n",
    "print(factor1000(a))"
   ]
  },
  {
   "cell_type": "code",
   "execution_count": 57,
   "metadata": {},
   "outputs": [
    {
     "name": "stdout",
     "output_type": "stream",
     "text": [
      "enter string: 1234\n",
      "1234\n"
     ]
    },
    {
     "data": {
      "text/plain": [
       "False"
      ]
     },
     "execution_count": 57,
     "metadata": {},
     "output_type": "execute_result"
    }
   ],
   "source": [
    "#Check if string is equivalent to number\n",
    "st = input(\"enter string: \")\n",
    "def strint(st):\n",
    "    print(int(st))\n",
    "    if st == int(st):\n",
    "        return True\n",
    "    else:\n",
    "        return False\n",
    "strint(st)"
   ]
  },
  {
   "cell_type": "code",
   "execution_count": 59,
   "metadata": {},
   "outputs": [
    {
     "name": "stdout",
     "output_type": "stream",
     "text": [
      "Enter number: 49\n"
     ]
    },
    {
     "data": {
      "text/plain": [
       "7.0"
      ]
     },
     "execution_count": 59,
     "metadata": {},
     "output_type": "execute_result"
    }
   ],
   "source": [
    "#square root of a number\n",
    "n=int(input(\"Enter number: \"))\n",
    "def squareRoot(n):\n",
    "    return n ** (1/2)\n",
    "squareRoot(n)"
   ]
  },
  {
   "cell_type": "code",
   "execution_count": 60,
   "metadata": {},
   "outputs": [
    {
     "name": "stdout",
     "output_type": "stream",
     "text": [
      "Enter year: 2019\n",
      "31536000000000000\n"
     ]
    }
   ],
   "source": [
    "#nano seconds \n",
    "n=int(input(\"Enter year: \"))\n",
    "def leapyear(n):\n",
    "    if (n%4 == 0 and n%100 !=0) or n%400 ==0:\n",
    "        return True\n",
    "    else:\n",
    "        return False\n",
    "if leapyear(n):\n",
    "    print(366*24*60*60*(10**9))\n",
    "else:\n",
    "    print(365*24*60*60*(10**9))\n",
    "    "
   ]
  },
  {
   "cell_type": "code",
   "execution_count": null,
   "metadata": {},
   "outputs": [],
   "source": []
  }
 ],
 "metadata": {
  "kernelspec": {
   "display_name": "Python 3",
   "language": "python",
   "name": "python3"
  },
  "language_info": {
   "codemirror_mode": {
    "name": "ipython",
    "version": 3
   },
   "file_extension": ".py",
   "mimetype": "text/x-python",
   "name": "python",
   "nbconvert_exporter": "python",
   "pygments_lexer": "ipython3",
   "version": "3.7.3"
  }
 },
 "nbformat": 4,
 "nbformat_minor": 2
}
