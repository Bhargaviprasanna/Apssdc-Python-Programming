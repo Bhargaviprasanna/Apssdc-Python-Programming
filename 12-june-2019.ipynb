{
 "cells": [
  {
   "cell_type": "markdown",
   "metadata": {},
   "source": [
    "## 12-june-2019 programming\n",
    "\n",
    "### Day Objectives\n",
    "1. String slicing\n",
    "2. Functions in Python\n",
    "3. Basic Problems related to conditional statements using functions\n",
    "4. Iteration in Python\n",
    "5. Python Data Structures - Lists, Tuples and Dictionaries.\n",
    "6. Operations on data structures\n",
    "7. Applying Data structures to solve problems"
   ]
  },
  {
   "cell_type": "markdown",
   "metadata": {},
   "source": [
    "## String Slicing"
   ]
  },
  {
   "cell_type": "code",
   "execution_count": 26,
   "metadata": {},
   "outputs": [
    {
     "name": "stdout",
     "output_type": "stream",
     "text": [
      "Enter the string: bharugood\n",
      "d\n",
      "d\n",
      "b\n"
     ]
    },
    {
     "data": {
      "text/plain": [
       "'douab'"
      ]
     },
     "execution_count": 26,
     "metadata": {},
     "output_type": "execute_result"
    }
   ],
   "source": [
    "st = input(\"Enter the string: \")\n",
    "print(st[len(st)-1]) # accessing the last character\n",
    "print(st[-1])\n",
    "#access first char \n",
    "print(st[0])\n",
    "# access multiple values\n",
    "st[0:3]\n",
    "# last three chars\n",
    "st[-3:]\n",
    "st[1:-1]\n",
    "st[len(st)//2]\n",
    "#reverse of a string\n",
    "st[::-1]\n",
    "#string_name[start:end:step] syntax\n",
    "st[len(st)//2:(len(st)//2)-2:-1]\n",
    "st[::2]\n",
    "st[::-2]"
   ]
  },
  {
   "cell_type": "markdown",
   "metadata": {},
   "source": [
    "### Functions"
   ]
  },
  {
   "cell_type": "code",
   "execution_count": 32,
   "metadata": {},
   "outputs": [
    {
     "name": "stdout",
     "output_type": "stream",
     "text": [
      "enter string: aaabaaa\n",
      "aaabaaa\n"
     ]
    },
    {
     "data": {
      "text/plain": [
       "True"
      ]
     },
     "execution_count": 32,
     "metadata": {},
     "output_type": "execute_result"
    }
   ],
   "source": [
    "# fun to  reverse a string\n",
    "s = input(\"enter string: \")\n",
    "def reversefun(s):\n",
    "    return s[::-1]\n",
    "print(reversefun(s))\n",
    "def palindrome(s):\n",
    "    if reversefun(s) == s:\n",
    "        return True\n",
    "    else:\n",
    "        return False\n",
    "palindrome(s)"
   ]
  },
  {
   "cell_type": "code",
   "execution_count": null,
   "metadata": {},
   "outputs": [],
   "source": [
    "# check if leap year\n",
    "n=int(input(\"Enter year: \"))\n",
    "def leapyear(n):\n",
    "    if (n%4 == 0 and n%100 !=0) or n%400 ==0:\n",
    "        return True\n",
    "    else:\n",
    "        return False\n",
    "print(leapyear(n))"
   ]
  },
  {
   "cell_type": "code",
   "execution_count": null,
   "metadata": {},
   "outputs": [],
   "source": [
    "#calculate the number of digits in a number\n",
    "n=int(input(\"Enter number: \"))\n",
    "def noDigits(n):\n",
    "    i=0\n",
    "    while n!=0:\n",
    "        i=i+1\n",
    "        n//=10\n",
    "    return i\n",
    "print(noDigits(n))"
   ]
  },
  {
   "cell_type": "code",
   "execution_count": 34,
   "metadata": {},
   "outputs": [
    {
     "name": "stdout",
     "output_type": "stream",
     "text": [
      "enter num: 23\n",
      "enter num: 11\n",
      "enter num: 45\n",
      "enter num: 10\n",
      "23 11 45 10\n",
      "45\n",
      "45\n"
     ]
    }
   ],
   "source": [
    "#greatest of four numbers\n",
    "a=int(input(\"enter num: \"))\n",
    "b=int(input(\"enter num: \"))\n",
    "c=int(input(\"enter num: \"))\n",
    "d=int(input(\"enter num: \"))\n",
    "l =[int(x) for x in input().split()]\n",
    "def greatest4(l):\n",
    "    max=l[0]\n",
    "    for i in range(len(l)):\n",
    "        if max < l[i] :\n",
    "            max = l[i]\n",
    "    return max\n",
    "print(greatest4(l))\n",
    "def great4(a,b,c,d):\n",
    "    if a>b and a>c and a>d:\n",
    "        return a\n",
    "    elif b>c and b>d:\n",
    "        return b\n",
    "    elif c>d:\n",
    "        return c\n",
    "    else:\n",
    "        return d\n",
    "print(great4(a,b,c,d))\n"
   ]
  },
  {
   "cell_type": "code",
   "execution_count": 54,
   "metadata": {},
   "outputs": [
    {
     "name": "stdout",
     "output_type": "stream",
     "text": [
      "Enter n: 15\n",
      "1 2 3 4 5 6 7 8 9 10 11 12 13 14 15 \n",
      "1 2 3 4 5 6 7 8 9 10 11 12 13 14 15 16 17 18 19 20 \n"
     ]
    }
   ],
   "source": [
    "# to print n natural numbers\n",
    "n=int(input(\"Enter n: \"))\n",
    "def nNatural(n):\n",
    "    i=1\n",
    "    while i<=n:\n",
    "        print(i,end=\" \")\n",
    "        i+=1\n",
    "    print()\n",
    "    return\n",
    "nNatural(n)\n",
    "nNatural(20)"
   ]
  },
  {
   "cell_type": "code",
   "execution_count": 53,
   "metadata": {},
   "outputs": [
    {
     "name": "stdout",
     "output_type": "stream",
     "text": [
      "Enter n: 15\n",
      "1 2 3 4 5 6 7 8 9 10 11 12 13 14 15 \n"
     ]
    }
   ],
   "source": [
    "n=int(input(\"Enter n: \"))\n",
    "def nNaturalfor(n):\n",
    "    for i in range(1,n+1):\n",
    "        print(i, end=\" \")\n",
    "    print()\n",
    "    return\n",
    "nNaturalfor(n)"
   ]
  },
  {
   "cell_type": "code",
   "execution_count": 70,
   "metadata": {},
   "outputs": [
    {
     "data": {
      "text/plain": [
       "'Py'"
      ]
     },
     "execution_count": 70,
     "metadata": {},
     "output_type": "execute_result"
    }
   ],
   "source": [
    "s1=\"Python\"\n",
    "s1[:2]"
   ]
  },
  {
   "cell_type": "code",
   "execution_count": 78,
   "metadata": {},
   "outputs": [
    {
     "name": "stdout",
     "output_type": "stream",
     "text": [
      "Enter string: bharuravi\n"
     ]
    },
    {
     "data": {
      "text/plain": [
       "'ravi'"
      ]
     },
     "execution_count": 78,
     "metadata": {},
     "output_type": "execute_result"
    }
   ],
   "source": [
    "s = input(\"Enter string: \")\n",
    "s[-8]\n",
    "s[:4:1]\n",
    "s[-4::1]"
   ]
  },
  {
   "cell_type": "code",
   "execution_count": 80,
   "metadata": {},
   "outputs": [
    {
     "name": "stdout",
     "output_type": "stream",
     "text": [
      "Enter number: 10\n",
      "Enter number: 50\n",
      "12 18 24 30 36 42 48 \n"
     ]
    }
   ],
   "source": [
    "#Function to print numbers divisible by 6 and not a factor of 100 in a given range() inclusive\n",
    "l=int(input(\"Enter number: \"))\n",
    "u=int(input(\"Enter number: \"))\n",
    "def printdivisible6(l,u):\n",
    "    for i in range(l,u+1):\n",
    "        if i%6 ==0 and i%100 !=0:\n",
    "            print(i, end=\" \")\n",
    "    print()\n",
    "    return\n",
    "printdivisible6(l,u)"
   ]
  },
  {
   "cell_type": "code",
   "execution_count": 86,
   "metadata": {},
   "outputs": [
    {
     "name": "stdout",
     "output_type": "stream",
     "text": [
      "Enter number: 10\n",
      "Enter number: 20\n",
      "10 12 14 16 18 20 \n",
      "23400 6\n",
      "3900\n"
     ]
    }
   ],
   "source": [
    "l=int(input(\"Enter number: \"))\n",
    "u=int(input(\"Enter number: \"))\n",
    "def avgcubeseven(l,u):\n",
    "    sum=0\n",
    "    count=0\n",
    "    for i in range(l,u+1):\n",
    "        if i%2 ==0:\n",
    "            sum+=(i**3)\n",
    "            count+=1\n",
    "            print(i, end=\" \")\n",
    "    print()\n",
    "    print(sum,count)\n",
    "    return sum//count\n",
    "print(avgcubeseven(l,u))"
   ]
  },
  {
   "cell_type": "code",
   "execution_count": 2,
   "metadata": {},
   "outputs": [
    {
     "name": "stdout",
     "output_type": "stream",
     "text": [
      "Enter number: 12\n"
     ]
    },
    {
     "data": {
      "text/plain": [
       "16"
      ]
     },
     "execution_count": 2,
     "metadata": {},
     "output_type": "execute_result"
    }
   ],
   "source": [
    "# function to generate the list of factors for a given number\n",
    "n=int(input(\"Enter number: \"))\n",
    "def factors(n):\n",
    "    l=[]\n",
    "    for i in range(1,(n//2)+1):\n",
    "        if n%i == 0:\n",
    "            #print(i,end=\" \")\n",
    "            l.append(i)\n",
    "    #print()\n",
    "    return sum(l)\n",
    "factors(n)"
   ]
  },
  {
   "cell_type": "code",
   "execution_count": 5,
   "metadata": {},
   "outputs": [
    {
     "name": "stdout",
     "output_type": "stream",
     "text": [
      "Enter number: 12\n"
     ]
    },
    {
     "data": {
      "text/plain": [
       "[1, 2, 3, 4, 6]"
      ]
     },
     "execution_count": 5,
     "metadata": {},
     "output_type": "execute_result"
    }
   ],
   "source": [
    "n=int(input(\"Enter number: \"))\n",
    "def factorslist(n):\n",
    "    l=[]\n",
    "    for i in range(1,(n//2)+1):\n",
    "        if n%i == 0:\n",
    "            #print(i,end=\" \")\n",
    "            l.append(i)\n",
    "    #print()\n",
    "    return l\n",
    "factorslist(n)"
   ]
  },
  {
   "cell_type": "code",
   "execution_count": 6,
   "metadata": {},
   "outputs": [
    {
     "name": "stdout",
     "output_type": "stream",
     "text": [
      "Enter number: 13\n"
     ]
    },
    {
     "data": {
      "text/plain": [
       "True"
      ]
     },
     "execution_count": 6,
     "metadata": {},
     "output_type": "execute_result"
    }
   ],
   "source": [
    "#Function to check if given number is prime\n",
    "x=int(input(\"Enter number: \"))\n",
    "def primeornot(x):\n",
    "    i=len(factorslist(x))\n",
    "    if i == 1:\n",
    "        return True\n",
    "    else:\n",
    "        return False\n",
    "primeornot(x)"
   ]
  },
  {
   "cell_type": "code",
   "execution_count": 10,
   "metadata": {},
   "outputs": [
    {
     "name": "stdout",
     "output_type": "stream",
     "text": [
      "Enter range: 3\n",
      "2\n",
      "3\n",
      "5\n"
     ]
    },
    {
     "data": {
      "text/plain": [
       "3.3333333333333335"
      ]
     },
     "execution_count": 10,
     "metadata": {},
     "output_type": "execute_result"
    }
   ],
   "source": [
    "#Avg of n primes\n",
    "a=int(input(\"Enter range: \"))\n",
    "def aPrimeavg(a):\n",
    "    j=1\n",
    "    c=0\n",
    "    sum=0\n",
    "    while c<a:\n",
    "        #print(j)\n",
    "        if isprime(j) == True:\n",
    "            print(j)\n",
    "            sum+=j\n",
    "            c+=1\n",
    "        j+=1\n",
    "        #print(sum,c)\n",
    "    return sum/c\n",
    "aPrimeavg(a)\n",
    "        \n",
    "   "
   ]
  },
  {
   "cell_type": "code",
   "execution_count": 9,
   "metadata": {},
   "outputs": [
    {
     "name": "stdout",
     "output_type": "stream",
     "text": [
      "enter n13\n"
     ]
    },
    {
     "data": {
      "text/plain": [
       "True"
      ]
     },
     "execution_count": 9,
     "metadata": {},
     "output_type": "execute_result"
    }
   ],
   "source": [
    "n=int(input(\"enter n\"))\n",
    "def isprime(n):\n",
    "    f = factors(n)\n",
    "    #print(f)\n",
    "    if f==1:\n",
    "        return True\n",
    "    else:\n",
    "        return False\n",
    "isprime(n)"
   ]
  },
  {
   "cell_type": "code",
   "execution_count": 4,
   "metadata": {},
   "outputs": [
    {
     "name": "stdout",
     "output_type": "stream",
     "text": [
      "Enter n:1\n",
      "Enter m:1000\n",
      "6 28 496 "
     ]
    },
    {
     "data": {
      "text/plain": [
       "3"
      ]
     },
     "execution_count": 4,
     "metadata": {},
     "output_type": "execute_result"
    }
   ],
   "source": [
    "# Perfect numbers in  given range()\n",
    "l=int(input(\"Enter n:\"))\n",
    "u=int(input(\"Enter m:\")) \n",
    "def isperfect(l,u):\n",
    "    x=0\n",
    "    for i in range(l,u+1):\n",
    "        if i == factors(i):\n",
    "            print(i, end=\" \")\n",
    "            x+=1\n",
    "    return x\n",
    "isperfect(l,u)"
   ]
  },
  {
   "cell_type": "code",
   "execution_count": null,
   "metadata": {},
   "outputs": [],
   "source": []
  }
 ],
 "metadata": {
  "kernelspec": {
   "display_name": "Python 3",
   "language": "python",
   "name": "python3"
  },
  "language_info": {
   "codemirror_mode": {
    "name": "ipython",
    "version": 3
   },
   "file_extension": ".py",
   "mimetype": "text/x-python",
   "name": "python",
   "nbconvert_exporter": "python",
   "pygments_lexer": "ipython3",
   "version": "3.7.3"
  }
 },
 "nbformat": 4,
 "nbformat_minor": 2
}
