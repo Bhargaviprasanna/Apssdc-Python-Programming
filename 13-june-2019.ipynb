{
 "cells": [
  {
   "cell_type": "code",
   "execution_count": 1,
   "metadata": {},
   "outputs": [
    {
     "name": "stdout",
     "output_type": "stream",
     "text": [
      "Enter number: 1\n",
      "Enter number: 5\n",
      "5 4 3 2 1 \n"
     ]
    }
   ],
   "source": [
    "#reverse of a range\n",
    "l=int(input(\"Enter number: \"))\n",
    "u=int(input(\"Enter number: \"))\n",
    "def reverseRange(l,u):\n",
    "    for i in range(u,l-1,-1):\n",
    "            print(i, end=\" \")\n",
    "    print()\n",
    "    return\n",
    "reverseRange(l,u)"
   ]
  },
  {
   "cell_type": "markdown",
   "metadata": {},
   "source": [
    "# Advanced Problem set\n",
    "Function to calculate average of all factorials in a given range\n",
    "Function to generate N odd armstrong numbers \n",
    "Function to generate Multiplication table for a number in a given range\n",
    "10 in the range(100, 102) inclusive\n",
    "10 x 100 = 1000\n",
    "10 x 101 = 1010\n",
    "10 x 102 = 1020"
   ]
  },
  {
   "cell_type": "code",
   "execution_count": 11,
   "metadata": {},
   "outputs": [
    {
     "name": "stdout",
     "output_type": "stream",
     "text": [
      "Enter number: 1\n",
      "Enter number: 5\n",
      "1\n",
      "2\n",
      "6\n",
      "24\n",
      "120\n"
     ]
    },
    {
     "data": {
      "text/plain": [
       "38.25"
      ]
     },
     "execution_count": 11,
     "metadata": {},
     "output_type": "execute_result"
    }
   ],
   "source": [
    "#Function to calculate average of all factorials in a given range\n",
    "l=int(input(\"Enter number: \"))\n",
    "u=int(input(\"Enter number: \"))\n",
    "def factorslist(j):\n",
    "    fact=1\n",
    "    for i in range(1,j+1):\n",
    "        fact*=i\n",
    "    print(fact)\n",
    "    return fact\n",
    "def AvgFact(l,u):\n",
    "    sum=0\n",
    "    for n in range(l,u+1):\n",
    "        x=factorslist(n)\n",
    "        sum +=x\n",
    "    return sum/(u-l)\n",
    "AvgFact(l,u)\n",
    "    "
   ]
  },
  {
   "cell_type": "code",
   "execution_count": 26,
   "metadata": {},
   "outputs": [
    {
     "name": "stdout",
     "output_type": "stream",
     "text": [
      "Enter n: 1\n",
      "j= 3\n",
      "r power 3\n",
      "r = 3 j = 3\n",
      "k is 3\n"
     ]
    },
    {
     "data": {
      "text/plain": [
       "True"
      ]
     },
     "execution_count": 26,
     "metadata": {},
     "output_type": "execute_result"
    }
   ],
   "source": [
    "# N odd Amstrong numbers average\n",
    "n=int(input(\"Enter n: \"))\n",
    "def isAmstrong(j):\n",
    "    x=j\n",
    "    k=0\n",
    "    while j!=0:\n",
    "        r=j%10\n",
    "        #print(\"j=\",j)\n",
    "        k+=r ** len(str(x))\n",
    "        #print(\"r power\",r ** len(str(x)))\n",
    "        #print(\"r =\",r,\"j =\",j)\n",
    "        j=j//10\n",
    "    if x == k:\n",
    "        print(\"k is\",k)\n",
    "        return True\n",
    "    else:\n",
    "        return False\n",
    "#isAmstrong(3)\n",
    "def nAmstrong(n):\n",
    "    sum=0\n",
    "    i=0\n",
    "    j=100\n",
    "    while i<n:\n",
    "        if j%2 !=0:\n",
    "            if isAmstrong(j):\n",
    "                print(j, end=\" \")\n",
    "                sum+=j\n",
    "                i+=1\n",
    "        j+=1\n",
    "    return sum/i\n",
    "nAmstrong(n)\n",
    "\n",
    "\n",
    "\n",
    "    \n",
    "            \n"
   ]
  },
  {
   "cell_type": "code",
   "execution_count": 20,
   "metadata": {},
   "outputs": [
    {
     "name": "stdout",
     "output_type": "stream",
     "text": [
      "Enter mon1: 11\n",
      "Enter year1: 1975\n",
      "Enter year21: 1999\n",
      "Enter mon2: 3\n",
      "8653\n"
     ]
    },
    {
     "data": {
      "text/plain": [
       "207672"
      ]
     },
     "execution_count": 20,
     "metadata": {},
     "output_type": "execute_result"
    }
   ],
   "source": [
    "# Calculate the hours for a given period (11,1973,3,1999)\n",
    "month1=int(input(\"Enter mon1: \"))\n",
    "year1=int(input(\"Enter year1: \"))\n",
    "year2=int(input(\"Enter year21: \"))\n",
    "month2=int(input(\"Enter mon2: \"))\n",
    "def isleapyear(i):\n",
    "    if i%400 == 0 or (i%4 ==0 and i%100 !=0):\n",
    "        return True\n",
    "    else:\n",
    "        return False\n",
    "def hoursPeriod(month1,year1,month2,year2):\n",
    "    days=0\n",
    "#     if year2-year1 == 2:\n",
    "#         days+=numberOfdays(year1+1,year1+1)\n",
    "#     elif year2-year1>2:\n",
    "#         days+=numberOfdays(year1+1,year2-1)\n",
    "    years=(year2-year1)-1\n",
    "    c=0\n",
    "    for i in range(year1+1,year2):\n",
    "        if isleapyear(i):\n",
    "            c+=1\n",
    "    hours=(years*(365+c)*24)\n",
    "    \n",
    "#     days_in_year1=0\n",
    "#     for m in range(month1,13):\n",
    "#         days_in_year1=days_in_year1+daysinMonth(m,year1)\n",
    "#     days_in_year2=0\n",
    "#     for l in range(1,month2):\n",
    "#         days_in_year2=days_in_year2+daysinMonth(l,year2)\n",
    "    x=daysInstartyear(month1,year1)\n",
    "    y=daysInendyear(month2,year2)\n",
    "    h1=(x)*24\n",
    "    h2=(y)*24\n",
    "    total_days=x+y+years*(365+c)\n",
    "    print(total_days)\n",
    "    total_hours=hours+h1+h2\n",
    "    return total_hours\n",
    "hoursPeriod(month1,year1,month2,year2)\n",
    "\n"
   ]
  },
  {
   "cell_type": "code",
   "execution_count": 16,
   "metadata": {},
   "outputs": [
    {
     "name": "stdout",
     "output_type": "stream",
     "text": [
      "Enter month: 4\n",
      "Enter year2019\n"
     ]
    }
   ],
   "source": [
    "# n=int(input(\"Enter year: \"))\n",
    "# def daysinYear(n):\n",
    "#     if isleapyear(n):\n",
    "#         return 366\n",
    "#     else:\n",
    "#         return 365\n",
    "mon=int(input(\"Enter month: \"))\n",
    "year=int(input(\"Enter year\"))\n",
    "def daysinMonth(mon,year):\n",
    "    if mon==2:\n",
    "        if isleapyear(year):\n",
    "            return 29\n",
    "        else:\n",
    "            return 28\n",
    "    elif (mon<=7 and mon%2!=0) or (mon>7 and mon%2==0):\n",
    "        return 31\n",
    "    else:\n",
    "        return 30\n",
    "daysinMonth(mon,year)        \n",
    "def daysInstartyear(startmonth,startyear):\n",
    "    days_in_year1=0\n",
    "    for m in range(month1,13):\n",
    "        days_in_year1=days_in_year1+daysinMonth(m,startyear)\n",
    "    return days_in_year1\n",
    "def daysInendyear(endmonth,endyear):\n",
    "    days_in_year2=0\n",
    "    for m in range(1,endmonth):\n",
    "        days_in_year2=days_in_year2+daysinMonth(m,endyear)\n",
    "    return days_in_year2\n",
    "def numberOfdays(startyear,endyear):\n",
    "    days=0\n",
    "    for year in range(startyear,endyear+1):\n",
    "        if isleapyear(year):\n",
    "            days+=366\n",
    "        else:\n",
    "            days+=365\n",
    "    return days\n",
    "# m=input(\"Enter month and year: \").split(\" \")\n",
    "# a=int(m[0])\n",
    "# b=int(m[1])\n",
    "# c=int(m[2])\n",
    "# def daysindate(a,b,c):\n",
    "#     months=(12-a)+1\n",
    "    \n",
    "    \n",
    "    "
   ]
  },
  {
   "cell_type": "code",
   "execution_count": 9,
   "metadata": {},
   "outputs": [
    {
     "name": "stdout",
     "output_type": "stream",
     "text": [
      "Enter year1: 2010\n",
      "Enter year2: 2019\n",
      "2\n"
     ]
    }
   ],
   "source": [
    "year1=int(input(\"Enter year1: \"))\n",
    "year2=int(input(\"Enter year2: \"))\n",
    "def isleapyear(i):\n",
    "    if i%400 == 0 or (i%4 ==0 and i%100 !=0):\n",
    "        return True\n",
    "    else:\n",
    "        return False\n",
    "c=0\n",
    "for i in range(year1+1,year2):\n",
    "    if isleapyear(i):\n",
    "        c+=1\n",
    "print(c)"
   ]
  },
  {
   "cell_type": "code",
   "execution_count": null,
   "metadata": {},
   "outputs": [],
   "source": []
  }
 ],
 "metadata": {
  "kernelspec": {
   "display_name": "Python 3",
   "language": "python",
   "name": "python3"
  },
  "language_info": {
   "codemirror_mode": {
    "name": "ipython",
    "version": 3
   },
   "file_extension": ".py",
   "mimetype": "text/x-python",
   "name": "python",
   "nbconvert_exporter": "python",
   "pygments_lexer": "ipython3",
   "version": "3.7.3"
  }
 },
 "nbformat": 4,
 "nbformat_minor": 2
}
