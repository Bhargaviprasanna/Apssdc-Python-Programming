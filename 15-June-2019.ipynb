{
 "cells": [
  {
   "cell_type": "code",
   "execution_count": 1,
   "metadata": {},
   "outputs": [
    {
     "name": "stdout",
     "output_type": "stream",
     "text": [
      "-1\n"
     ]
    }
   ],
   "source": [
    "# near to zero\n",
    "a=[-1,-2,-4,-5]\n",
    "def nearZero(a):\n",
    "    p=[]\n",
    "    for i in a:\n",
    "        p.append(abs(i))\n",
    "    p.sort()\n",
    "    if p[0] in a:\n",
    "        return p[0]\n",
    "    else:\n",
    "        return -p[0]\n",
    "print(nearZero(a))"
   ]
  },
  {
   "cell_type": "code",
   "execution_count": 4,
   "metadata": {},
   "outputs": [
    {
     "name": "stdout",
     "output_type": "stream",
     "text": [
      "1\n"
     ]
    }
   ],
   "source": [
    "# near to zero\n",
    "a=[1,-2,-4,-5]\n",
    "def nearZero(a):\n",
    "    p=[]\n",
    "    for i in a:\n",
    "        p.append(abs(i))\n",
    "    p.sort()\n",
    "    if -p[0] in a:\n",
    "        return -p[0]\n",
    "    else:\n",
    "        return p[0]\n",
    "print(nearZero(a))"
   ]
  },
  {
   "cell_type": "code",
   "execution_count": 6,
   "metadata": {},
   "outputs": [
    {
     "name": "stdout",
     "output_type": "stream",
     "text": [
      "-100\n"
     ]
    }
   ],
   "source": [
    "# near to zero\n",
    "a=[-1,-2,2,3,1,-100]\n",
    "def nearZero(a):\n",
    "    p=[]\n",
    "    for i in a:\n",
    "        p.append(abs(i))\n",
    "    p.sort()\n",
    "    if max(p) in a:\n",
    "        return max(p)\n",
    "    else:\n",
    "        return -max(p)\n",
    "print(nearZero(a))"
   ]
  },
  {
   "cell_type": "code",
   "execution_count": 4,
   "metadata": {},
   "outputs": [
    {
     "name": "stdout",
     "output_type": "stream",
     "text": [
      "range: 1\n",
      "a: 3\n",
      "b: 2\n",
      "c: 9\n",
      "8\n"
     ]
    }
   ],
   "source": [
    "# divisibilty\n",
    "def divis(a,b,c):\n",
    "#     if a==1:\n",
    "#         if b==0:\n",
    "#             return c\n",
    "#         else:\n",
    "#             return -1\n",
    "#     else:\n",
    "    for i in range(c,b-1 ,-1): # for i in range(c,a-1,-1)\n",
    "        if i%a == b:\n",
    "            return i\n",
    "    return -1\n",
    "\n",
    "n=int(input(\"range: \"))\n",
    "for j in range(n):\n",
    "    a=int(input(\"a: \"))\n",
    "    b=int(input(\"b: \"))\n",
    "    c=int(input(\"c: \"))\n",
    "    print(divis(a,b,c))"
   ]
  },
  {
   "cell_type": "code",
   "execution_count": 12,
   "metadata": {},
   "outputs": [
    {
     "ename": "ValueError",
     "evalue": "invalid literal for int() with base 10: 'a'",
     "output_type": "error",
     "traceback": [
      "\u001b[1;31m---------------------------------------------------------------------------\u001b[0m",
      "\u001b[1;31mValueError\u001b[0m                                Traceback (most recent call last)",
      "\u001b[1;32m<ipython-input-12-e4a81225842f>\u001b[0m in \u001b[0;36m<module>\u001b[1;34m\u001b[0m\n\u001b[0;32m      1\u001b[0m \u001b[0ms\u001b[0m\u001b[1;33m=\u001b[0m\u001b[1;34m'a'\u001b[0m\u001b[1;33m\u001b[0m\u001b[1;33m\u001b[0m\u001b[0m\n\u001b[0;32m      2\u001b[0m \u001b[1;32mif\u001b[0m \u001b[0ms\u001b[0m\u001b[1;33m>=\u001b[0m\u001b[1;34m'a'\u001b[0m\u001b[1;33m:\u001b[0m\u001b[1;33m\u001b[0m\u001b[1;33m\u001b[0m\u001b[0m\n\u001b[1;32m----> 3\u001b[1;33m     \u001b[0mx\u001b[0m\u001b[1;33m=\u001b[0m\u001b[0mint\u001b[0m\u001b[1;33m(\u001b[0m\u001b[0ms\u001b[0m\u001b[1;33m,\u001b[0m\u001b[1;36m10\u001b[0m\u001b[1;33m)\u001b[0m\u001b[1;33m-\u001b[0m\u001b[1;36m32\u001b[0m\u001b[1;33m\u001b[0m\u001b[1;33m\u001b[0m\u001b[0m\n\u001b[0m\u001b[0;32m      4\u001b[0m     \u001b[0mprint\u001b[0m\u001b[1;33m(\u001b[0m\u001b[0mx\u001b[0m\u001b[1;33m)\u001b[0m\u001b[1;33m\u001b[0m\u001b[1;33m\u001b[0m\u001b[0m\n",
      "\u001b[1;31mValueError\u001b[0m: invalid literal for int() with base 10: 'a'"
     ]
    }
   ],
   "source": [
    "s='a'\n",
    "if s>='a':\n",
    "    x=int(s,10)-32\n",
    "    print(x)"
   ]
  },
  {
   "cell_type": "code",
   "execution_count": 29,
   "metadata": {},
   "outputs": [
    {
     "name": "stdout",
     "output_type": "stream",
     "text": [
      "8\n",
      "2 1\n",
      "3 1\n",
      "4 2\n",
      "5 1\n",
      "[2, 0, 3, 1, None, 1, 5, 2]\n"
     ]
    }
   ],
   "source": [
    "# fibi and prime [2,0,3,1,5,1,7,2...]\n",
    "def prime(p):\n",
    "    count=0\n",
    "    #print(p)\n",
    "    for j in range(2,p+1):\n",
    "        if p%j == 0:\n",
    "            count+=1\n",
    "    print(p,count)\n",
    "    if count==1:\n",
    "        return p\n",
    "    \n",
    "def fibi(lis,i):\n",
    "    f=lis[i-2]\n",
    "    f1=lis[i-4]\n",
    "    f2=f+f1\n",
    "    return f2\n",
    "    \n",
    "def primefib(n): \n",
    "    lis=[]\n",
    "    p=2\n",
    "    f=0\n",
    "    f1=1\n",
    "    for i in range(n):\n",
    "        if i%2==0:\n",
    "            #print(i\n",
    "            lis.append(prime(p))\n",
    "            p+=1\n",
    "        else:\n",
    "            if i == 1:\n",
    "                lis.append(0)\n",
    "            elif i == 3:\n",
    "                lis.append(1)\n",
    "            else: \n",
    "                lis.append(fibi(lis,i))\n",
    "    return lis\n",
    "n=int(input())\n",
    "print(primefib(n))\n",
    "    "
   ]
  },
  {
   "cell_type": "code",
   "execution_count": 13,
   "metadata": {},
   "outputs": [
    {
     "name": "stdout",
     "output_type": "stream",
     "text": [
      "99\n"
     ]
    }
   ],
   "source": [
    "print(ord('c'))"
   ]
  },
  {
   "cell_type": "code",
   "execution_count": 14,
   "metadata": {},
   "outputs": [
    {
     "name": "stdout",
     "output_type": "stream",
     "text": [
      "c\n"
     ]
    }
   ],
   "source": [
    "print(chr(99))"
   ]
  },
  {
   "cell_type": "code",
   "execution_count": null,
   "metadata": {},
   "outputs": [
    {
     "name": "stdout",
     "output_type": "stream",
     "text": [
      "100\n",
      "ppppphhhhh qqqqqggggg hhhhhuuuuu mmmmmeeeee aaaaayyyyy lllllnnnnn lllllfffff dddddxxxxx fffffiiiii rrrrrccccc vvvvvsssss cccccxxxxx gggggggggg bbbbbwwwww kkkkkfffff nnnnnqqqqq ddddduuuuu xxxxxwwwww fffffnnnnn fffffooooo zzzzzvvvvv sssssrrrrr tttttkkkkk jjjjjppppp rrrrreeeee pppppggggg gggggxxxxx rrrrrppppp nnnnnrrrrr vvvvvyyyyy sssssttttt mmmmmwwwww cccccyyyyy sssssyyyyy yyyyyccccc qqqqqppppp eeeeevvvvv iiiiikkkkk eeeeefffff fffffmmmmm zzzzznnnnn iiiiimmmmm kkkkkkkkkk aaaaasssss vvvvvwwwww sssssrrrrr eeeeennnnn zzzzzkkkkk yyyyyccccc xxxxxfffff xxxxxttttt lllllsssss gggggyyyyy pppppsssss fffffaaaaa dddddppppp oooooooooo eeeeefffff xxxxxzzzzz bbbbbccccc oooooeeeee jjjjjuuuuu vvvvvppppp vvvvvaaaaa bbbbbooooo yyyyyggggg pppppooooo eeeeeyyyyy lllllfffff pppppbbbbb nnnnnppppp llllljjjjj vvvvvrrrrr vvvvviiiii pppppyyyyy aaaaammmmm yyyyyeeeee hhhhhwwwww qqqqqnnnnn qqqqqrrrrr qqqqqppppp mmmmmxxxxx uuuuujjjjj jjjjjlllll oooooooooo vvvvvaaaaa ooooowwwww uuuuuxxxxx wwwwwhhhhh mmmmmsssss nnnnnccccc bbbbbxxxxx cccccooooo kkkkksssss fffffzzzzz kkkkkvvvvv aaaaattttt xxxxxddddd kkkkknnnnn lllllyyyyy jjjjjyyyyy hhhhhfffff iiiiixxxxx jjjjjsssss wwwwwnnnnn kkkkkkkkkk uuuuufffff nnnnnuuuuu xxxxxxxxxx zzzzzrrrrr zzzzzbbbbb mmmmmnnnnn mmmmmggggg qqqqqooooo oooookkkkk eeeeettttt lllllyyyyy hhhhhnnnnn kkkkkooooo aaaaauuuuu gggggzzzzz qqqqqrrrrr cccccddddd dddddiiiii uuuuuttttt eeeeeiiiii ooooojjjjj wwwwwaaaaa yyyyyyyyyy zzzzzppppp vvvvvsssss cccccmmmmm pppppsssss aaaaajjjjj lllllfffff vvvvvggggg uuuuubbbbb fffffaaaaa aaaaaooooo vvvvvlllll zzzzzyyyyy lllllnnnnn tttttrrrrr kkkkkddddd cccccppppp wwwwwsssss rrrrrttttt eeeeesssss jjjjjwwwww hhhhhddddd iiiiizzzzz cccccooooo bbbbbzzzzz cccccnnnnn fffffwwwww lllllqqqqq iiiiijjjjj tttttvvvvv dddddwwwww vvvvvxxxxx hhhhhrrrrr cccccbbbbb lllllddddd vvvvvggggg yyyyylllll wwwwwggggg bbbbbuuuuu sssssbbbbb mmmmmbbbbb ooooorrrrr xxxxxttttt lllllhhhhh cccccsssss mmmmmppppp xxxxxooooo hhhhhggggg mmmmmggggg nnnnnkkkkk eeeeeuuuuu fffffddddd xxxxxooooo tttttooooo gggggbbbbb gggggxxxxx pppppeeeee yyyyyaaaaa nnnnnfffff eeeeettttt cccccuuuuu kkkkkeeeee pppppzzzzz ssssshhhhh kkkkklllll jjjjjuuuuu gggggggggg gggggeeeee asdasd asddad asdafd asddad\n",
      "NO\n"
     ]
    }
   ],
   "source": [
    "n=int(input())\n",
    "def twoStrings(s,t):\n",
    "    x=0\n",
    "    if len(s) != len(t):\n",
    "        print('NO')\n",
    "    else:\n",
    "        for i in s:\n",
    "            if i in t:\n",
    "                x+=1\n",
    "        if x == len(s):\n",
    "            print('YES')\n",
    "        else:\n",
    "            print('NO')\n",
    "for i in range(n):\n",
    "    st=input().split()\n",
    "    s=st[0]\n",
    "    t=st[1]\n",
    "    twoStrings(s,t)"
   ]
  },
  {
   "cell_type": "code",
   "execution_count": 23,
   "metadata": {},
   "outputs": [
    {
     "name": "stdout",
     "output_type": "stream",
     "text": [
      "['a', 'b', 'c', 'd', 'e', 'f', 'g', 'h', 'i', 'j', 'k', 'l', 'm', 'n', 'o', 'p', 'q', 'r', 's', 't', 'u', 'v', 'w', 'x', 'y', 'z']\n",
      "0\n",
      "1\n",
      "0\n",
      "0\n"
     ]
    }
   ],
   "source": [
    "s=\"aba\"\n",
    "x='a'\n",
    "li=[]\n",
    "for i in range(1,27):\n",
    "    li.append(x)\n",
    "    x=chr(ord(x)+1)\n",
    "print(li)\n",
    "def charSum(s,li):\n",
    "    sum=0\n",
    "    for i in range(len(s)):\n",
    "        print(li.index(s[i]))\n",
    "    return sum\n",
    "print(charSum(s,li))"
   ]
  },
  {
   "cell_type": "code",
   "execution_count": 40,
   "metadata": {},
   "outputs": [
    {
     "name": "stdout",
     "output_type": "stream",
     "text": [
      "5 1\n",
      "1 2 3 4 5\n",
      "1 3\n",
      "2"
     ]
    }
   ],
   "source": [
    "\n",
    "def main():\n",
    "    from sys import stdin,stdout\n",
    "    nq=input().split()\n",
    "    n=int(nq[0])\n",
    "    q=int(nq[1])\n",
    "    l=[int(x) for x in input().split()][:n]\n",
    "    def playWithnumbers(l):\n",
    "        return sum(l)//(len(l)+1)\n",
    "    for i in range(q):\n",
    "        in12=input().split()\n",
    "        in1=int(in12[0])\n",
    "        in2=int(in12[1])\n",
    "        x=playWithnumbers(l[in1:in2+1])\n",
    "        stdout.write(str(x))\n",
    "if __name__ == \"__main__\":\n",
    "    main()    "
   ]
  },
  {
   "cell_type": "code",
   "execution_count": null,
   "metadata": {},
   "outputs": [],
   "source": []
  }
 ],
 "metadata": {
  "kernelspec": {
   "display_name": "Python 3",
   "language": "python",
   "name": "python3"
  },
  "language_info": {
   "codemirror_mode": {
    "name": "ipython",
    "version": 3
   },
   "file_extension": ".py",
   "mimetype": "text/x-python",
   "name": "python",
   "nbconvert_exporter": "python",
   "pygments_lexer": "ipython3",
   "version": "3.7.3"
  }
 },
 "nbformat": 4,
 "nbformat_minor": 2
}
