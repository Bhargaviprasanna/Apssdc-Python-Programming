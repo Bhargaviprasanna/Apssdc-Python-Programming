{
 "cells": [
  {
   "cell_type": "markdown",
   "metadata": {},
   "source": [
    "# Contacts Application\n",
    "- Add Contacts\n",
    "- List all Contacts\n",
    "  - name 1 : phone 1\n",
    "  - name 2 : phone 2\n",
    "- Modify Contacts\n",
    "- Search Contacts\n",
    "- Remove Contacts"
   ]
  },
  {
   "cell_type": "code",
   "execution_count": 5,
   "metadata": {},
   "outputs": [],
   "source": [
    "contacts= {}\n",
    "def addContact(name, phone):\n",
    "    if name not in contacts:\n",
    "        contacts[name] = phone\n",
    "    else:\n",
    "        print('Contact %s is already exists'%name)\n",
    "    return\n",
    "\n",
    "addContact(\"bharu\",'6281823719')"
   ]
  },
  {
   "cell_type": "code",
   "execution_count": 6,
   "metadata": {},
   "outputs": [
    {
     "data": {
      "text/plain": [
       "{'bharu': '6281823719'}"
      ]
     },
     "execution_count": 6,
     "metadata": {},
     "output_type": "execute_result"
    }
   ],
   "source": [
    "contacts"
   ]
  },
  {
   "cell_type": "code",
   "execution_count": 7,
   "metadata": {},
   "outputs": [
    {
     "name": "stdout",
     "output_type": "stream",
     "text": [
      "bharu : 6281823719\n"
     ]
    }
   ],
   "source": [
    "def searchContacts(name):\n",
    "    if name in contacts:\n",
    "        print(name, \":\",contacts[name])\n",
    "    else:\n",
    "        print('%s doesnot exists' % name)\n",
    "    return\n",
    "searchContacts('bharu')"
   ]
  },
  {
   "cell_type": "code",
   "execution_count": 9,
   "metadata": {},
   "outputs": [
    {
     "name": "stdout",
     "output_type": "stream",
     "text": [
      "bharu : 6281823719\n"
     ]
    }
   ],
   "source": [
    "def listOfContacts(contacts):\n",
    "    for i in contacts.keys():\n",
    "        print(i, ':', contacts[i])\n",
    "    return\n",
    "listOfContacts(contacts)"
   ]
  },
  {
   "cell_type": "code",
   "execution_count": 22,
   "metadata": {},
   "outputs": [
    {
     "name": "stdout",
     "output_type": "stream",
     "text": [
      "name bharu not there\n"
     ]
    }
   ],
   "source": [
    "def modifyContacts(name,phone):\n",
    "    if name in contacts:\n",
    "        contacts.update(name,phone)\n",
    "    else:\n",
    "        print('name %s not there' %name)\n",
    "    return\n",
    "modifyContacts('bharu', '343656')\n",
    "        "
   ]
  },
  {
   "cell_type": "code",
   "execution_count": 16,
   "metadata": {},
   "outputs": [],
   "source": [
    "def deleteContact(name):\n",
    "    if name in contacts:\n",
    "        contacts.pop(name)\n",
    "    else:\n",
    "         print('name %s not there' %name)\n",
    "    return\n",
    "deleteContact('bharu')"
   ]
  },
  {
   "cell_type": "code",
   "execution_count": 21,
   "metadata": {},
   "outputs": [
    {
     "data": {
      "text/plain": [
       "{'bbp': '1234', 'janu': '3456'}"
      ]
     },
     "execution_count": 21,
     "metadata": {},
     "output_type": "execute_result"
    }
   ],
   "source": [
    "newcontacts={'bbp':'1234', 'janu':'3456'}\n",
    "def importContacts(newcontacts):\n",
    "    contacts.update(newcontacts)\n",
    "    return\n",
    "importContacts(newcontacts)\n",
    "contacts"
   ]
  },
  {
   "cell_type": "markdown",
   "metadata": {},
   "source": [
    "# Anagrams"
   ]
  },
  {
   "cell_type": "code",
   "execution_count": 11,
   "metadata": {},
   "outputs": [
    {
     "name": "stdout",
     "output_type": "stream",
     "text": [
      "tttttttttttttttttttttttttttttttttttttsssssssssssssssss\n",
      "sssssssssssssssssssssssssssssssssssssssssssssssssssssssssssssssssssssssssssssssssssssss\n",
      "1658\n"
     ]
    }
   ],
   "source": [
    "a=input()\n",
    "b=input()\n",
    "def anagrams(a,b):\n",
    "    count=0\n",
    "    if len(a) == len(b):\n",
    "        for i in range(len(a)):\n",
    "            if a[i] not in b :\n",
    "                count+=1\n",
    "        for j in range(len(b)):\n",
    "            if b[j] not in a:\n",
    "                count+=1\n",
    "    else:\n",
    "        \n",
    "    return count\n",
    "print(anagrams(a,b))"
   ]
  },
  {
   "cell_type": "markdown",
   "metadata": {},
   "source": [
    "# Packages and Modules\n",
    "Package -> Collection of modules(Python file .py) and subpackages.\n",
    "Module -> A single python file containing functions.\n",
    "Packages -> Subpackages -> Modules -> Functions"
   ]
  },
  {
   "cell_type": "code",
   "execution_count": 26,
   "metadata": {},
   "outputs": [
    {
     "name": "stdout",
     "output_type": "stream",
     "text": [
      "123\n"
     ]
    },
    {
     "data": {
      "text/plain": [
       "3.141592653589793"
      ]
     },
     "execution_count": 26,
     "metadata": {},
     "output_type": "execute_result"
    }
   ],
   "source": [
    "import math\n",
    "print(math.floor(123.456))\n",
    "math.pi"
   ]
  },
  {
   "cell_type": "code",
   "execution_count": 35,
   "metadata": {},
   "outputs": [
    {
     "name": "stdout",
     "output_type": "stream",
     "text": [
      "3 82 0 53 9 98 94 61 1 43 "
     ]
    }
   ],
   "source": [
    "# def a fun to generate n random numbers in a given range\n",
    "import random as r\n",
    "def gNRnumbers(N,l,b):\n",
    "    for i in range(N):\n",
    "        print(r.randint(l,b+1),end=\" \")\n",
    "gNRnumbers(10,0,100)\n",
    "        "
   ]
  },
  {
   "cell_type": "code",
   "execution_count": null,
   "metadata": {},
   "outputs": [],
   "source": []
  }
 ],
 "metadata": {
  "kernelspec": {
   "display_name": "Python 3",
   "language": "python",
   "name": "python3"
  },
  "language_info": {
   "codemirror_mode": {
    "name": "ipython",
    "version": 3
   },
   "file_extension": ".py",
   "mimetype": "text/x-python",
   "name": "python",
   "nbconvert_exporter": "python",
   "pygments_lexer": "ipython3",
   "version": "3.7.3"
  }
 },
 "nbformat": 4,
 "nbformat_minor": 2
}
