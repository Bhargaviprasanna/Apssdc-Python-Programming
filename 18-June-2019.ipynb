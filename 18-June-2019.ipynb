{
 "cells": [
  {
   "cell_type": "markdown",
   "metadata": {},
   "source": [
    "# Cipher Text\n"
   ]
  },
  {
   "cell_type": "code",
   "execution_count": 11,
   "metadata": {},
   "outputs": [
    {
     "name": "stdout",
     "output_type": "stream",
     "text": [
      "3\n",
      "4\n",
      "[\n",
      "['A', 'B', 'C', 'D', 'E', 'F', 'G', 'H', 'I', 'J', 'K', 'L', 'M', 'N', 'O', 'P', 'Q', 'R', 'S', 'T', 'U', 'V', 'W', 'X', 'Y', 'Z', 'a', 'b', 'c', 'd', 'e', 'f', 'g', 'h', 'i', 'j', 'k', 'l', 'm', 'n', 'o', 'p', 'q', 'r', 's', 't', 'u', 'v', 'w', 'x', 'y', 'z']\n"
     ]
    }
   ],
   "source": [
    "\n",
    "x='A'\n",
    "alpha=[]\n",
    "for i in range(1,53):\n",
    "    alpha.append(x)\n",
    "    x=chr(ord(x)+1)\n",
    "    if i == 27:\n",
    "        x='a'\n",
    "        alpha.append(x)\n",
    "        x=chr(ord(x)+1)\n",
    "print(alpha.pop(26))\n",
    "print(alpha)\n",
    "        "
   ]
  },
  {
   "cell_type": "code",
   "execution_count": 1,
   "metadata": {},
   "outputs": [
    {
     "name": "stdout",
     "output_type": "stream",
     "text": [
      "{\n"
     ]
    }
   ],
   "source": [
    "print(chr(ord('z')+1))"
   ]
  },
  {
   "cell_type": "code",
   "execution_count": 28,
   "metadata": {},
   "outputs": [
    {
     "name": "stdout",
     "output_type": "stream",
     "text": [
      "bbP-091\n",
      "3\n",
      "ch=  b\n",
      "after ch=  e\n",
      "ch=  b\n",
      "after ch=  e\n",
      "ch=  P\n",
      "after ch=  S\n",
      "ch=  0\n",
      "ch=  9\n",
      "ch=  1\n",
      "eeS-324\n"
     ]
    }
   ],
   "source": [
    "#cipher text for given string with a fixed constant\n",
    "s=input()\n",
    "n=int(input())\n",
    "def cipherText(s):\n",
    "    new_s=\"\"\n",
    "    for ch in s:\n",
    "        if ch.isupper():\n",
    "            print('ch= ',ch)\n",
    "            ch = chr(((ord(ch)-65+n)%26)+65) #since n values ranges from 0 to 1000\n",
    "#             if ch >'Z':\n",
    "#                 i=ord(ch)-ord('Z')\n",
    "#                 ch=chr(ord('A')+i-1)\n",
    "            print('after ch= ',ch)\n",
    "            new_s+=ch\n",
    "        elif ch.islower():\n",
    "            print('ch= ',ch)\n",
    "            ch = chr(((ord(ch)-97+n)%26)+97)\n",
    "#             ch = chr(ord(ch)+n)\n",
    "#             if ch >'z':\n",
    "#                 i=ord(ch)-ord('z')\n",
    "#                 ch=chr(ord('a')+i-1)\n",
    "            print('after ch= ',ch)\n",
    "            new_s+=ch\n",
    "        elif ch.isdigit():\n",
    "            print('ch= ',ch)\n",
    "            ch = chr(((ord(ch)-48+n)%10)+48)\n",
    "#             ch = chr(ord(ch) + n)\n",
    "#             if ch >'9':\n",
    "#                 i=ord(ch)-ord('9')\n",
    "#                 ch=chr(ord('0')+i-1)\n",
    "#             print('after ch= ',ch)\n",
    "            new_s+=ch\n",
    "        else:\n",
    "            new_s+=ch\n",
    "    return new_s\n",
    "print(cipherText(s)) #stuvRPQrpq-999.@"
   ]
  },
  {
   "cell_type": "code",
   "execution_count": 31,
   "metadata": {},
   "outputs": [
    {
     "name": "stdout",
     "output_type": "stream",
     "text": [
      "97\n",
      "122\n",
      "48\n",
      "57\n",
      "65\n",
      "90\n"
     ]
    }
   ],
   "source": [
    "print(ord('a'))\n",
    "print(ord('z'))\n",
    "print(ord('0'))\n",
    "print(ord('9'))\n",
    "print(ord('A'))\n",
    "print(ord('Z'))"
   ]
  },
  {
   "cell_type": "code",
   "execution_count": 29,
   "metadata": {},
   "outputs": [
    {
     "name": "stdout",
     "output_type": "stream",
     "text": [
      "loVe-143\n",
      "6\n",
      "ch=  l\n",
      "ch=  o\n",
      "ch=  V\n",
      "ch=  e\n",
      "ch=  1\n",
      "ch=  4\n",
      "ch=  3\n",
      "ruBk-709\n"
     ]
    }
   ],
   "source": [
    "s=input()\n",
    "n=int(input())\n",
    "def cipherText(s,n):\n",
    "    new_s=\"\"\n",
    "    for ch in s:\n",
    "        if ch.isupper():\n",
    "            ch = chr(((ord(ch)-65+n)%26)+65)\n",
    "            new_s+=ch\n",
    "        elif ch.islower():\n",
    "            ch = chr(((ord(ch)-97+n)%26)+97)\n",
    "            new_s+=ch\n",
    "        elif ch.isdigit():\n",
    "            ch = chr(((ord(ch)-48+n)%10)+48)\n",
    "            new_s+=ch\n",
    "        else:\n",
    "            new_s+=ch\n",
    "    return new_s\n",
    "print(cipherText(s,n))"
   ]
  },
  {
   "cell_type": "markdown",
   "metadata": {},
   "source": [
    "# Play with numbers\n",
    "You are given an array of n numbers and q queries. For each query you have to print the floor of the expected value(mean) of the subarray from L to R.\n",
    "\n",
    "\n",
    "First line contains two integers N and Q denoting number of array elements and number of queries.\n",
    "\n",
    "Next line contains N space seperated integers denoting array elements.\n",
    "\n",
    "Next Q lines contain two integers L and R(indices of the array).\n",
    "\n",
    "\n",
    "print a single integer denoting the answer.\n",
    "\n",
    " :\n",
    "\n",
    "1<= N ,Q,L,R <= 10^6\n",
    "\n",
    "1<= Array elements <= 10^9"
   ]
  },
  {
   "cell_type": "code",
   "execution_count": 26,
   "metadata": {},
   "outputs": [
    {
     "name": "stdout",
     "output_type": "stream",
     "text": [
      "5 3\n",
      "1 2 3 4 5\n",
      "1 3\n",
      "2\n",
      "3 5\n",
      "4\n",
      "2 3\n",
      "2\n"
     ]
    }
   ],
   "source": [
    "n,q=map(int,input().split())\n",
    "l=list(map(int,input().split()))\n",
    "z=[]\n",
    "e=0\n",
    "for i in range(0,n): #cumulative sum\n",
    "    e+=l[i]\n",
    "    z.append(e)\n",
    "for i in range(0,q):\n",
    "    s,e=map(int,input().split())\n",
    "    if(s==1):\n",
    "        print((z[e-1])//(e-s+1))\n",
    "    else:\n",
    "        print((z[e-1]-z[s-2])//(e-s+1))\n"
   ]
  },
  {
   "cell_type": "markdown",
   "metadata": {},
   "source": [
    "# Lift goes Where"
   ]
  },
  {
   "cell_type": "code",
   "execution_count": 41,
   "metadata": {},
   "outputs": [
    {
     "name": "stdout",
     "output_type": "stream",
     "text": [
      "3\n",
      "1\n",
      "A\n",
      "6\n",
      "B\n",
      "3\n",
      "A\n"
     ]
    }
   ],
   "source": [
    "T=int(input())\n",
    "def liftGoes(N,AB):\n",
    "    A=AB[0]\n",
    "    B=AB[1]\n",
    "    if abs(A-N) <= abs(B-N):\n",
    "        print('A')\n",
    "        AB[0]=N\n",
    "        return AB\n",
    "    else:\n",
    "        print('B')\n",
    "        AB[1] = N\n",
    "        return AB\n",
    "\n",
    "AB=[0,7]\n",
    "for i in range(T):\n",
    "    N=int(input())\n",
    "    AB=liftGoes(N,AB)\n",
    "    "
   ]
  },
  {
   "cell_type": "code",
   "execution_count": 35,
   "metadata": {},
   "outputs": [
    {
     "name": "stdout",
     "output_type": "stream",
     "text": [
      "[22]\n"
     ]
    }
   ],
   "source": [
    "l=[12]\n",
    "l[0]=22\n",
    "print(l)"
   ]
  },
  {
   "cell_type": "markdown",
   "metadata": {},
   "source": [
    "# Life, the universe and everything"
   ]
  },
  {
   "cell_type": "code",
   "execution_count": 48,
   "metadata": {},
   "outputs": [
    {
     "name": "stdout",
     "output_type": "stream",
     "text": [
      "34\n",
      "1\n",
      "23\n",
      "32\n",
      "42\n",
      "34\n",
      "1\n",
      "23\n",
      "32\n"
     ]
    }
   ],
   "source": [
    "def lifeUnievery():\n",
    "    n=0\n",
    "    l=[]\n",
    "    while n!=42:\n",
    "        n=int(input())\n",
    "        l.append(n)\n",
    "    l.pop()\n",
    "    return l\n",
    "x=lifeUnievery()\n",
    "for i in x:\n",
    "    print(i)"
   ]
  },
  {
   "cell_type": "markdown",
   "metadata": {},
   "source": [
    "# Ladderophilia"
   ]
  },
  {
   "cell_type": "code",
   "execution_count": 54,
   "metadata": {},
   "outputs": [
    {
     "name": "stdout",
     "output_type": "stream",
     "text": [
      "4\n",
      "*   *\n",
      "*   *\n",
      "*****\n",
      "*   *\n",
      "*   *\n",
      "*****\n",
      "*   *\n",
      "*   *\n",
      "*****\n",
      "*   *\n",
      "*   *\n",
      "*****\n",
      "*   *\n",
      "*   *\n"
     ]
    }
   ],
   "source": [
    "N=int(input())\n",
    "for i in range(N):\n",
    "    print('*   *')\n",
    "    print('*   *')\n",
    "    print('*****')\n",
    "print('*   *')\n",
    "print('*   *')   "
   ]
  },
  {
   "cell_type": "markdown",
   "metadata": {},
   "source": [
    "# Palindromic String"
   ]
  },
  {
   "cell_type": "code",
   "execution_count": 55,
   "metadata": {},
   "outputs": [
    {
     "name": "stdout",
     "output_type": "stream",
     "text": [
      "lovely\n",
      "NO\n"
     ]
    }
   ],
   "source": [
    "S=input()\n",
    "def palindromicString(S):\n",
    "    if S == S[::-1]:\n",
    "        return 'YES'\n",
    "    else:\n",
    "        return 'NO'\n",
    "print(palindromicString(S))"
   ]
  },
  {
   "cell_type": "code",
   "execution_count": null,
   "metadata": {},
   "outputs": [],
   "source": [
    "# sort half data in ascending and another half in descending\n",
    "# sort first half and second half in descending"
   ]
  },
  {
   "cell_type": "code",
   "execution_count": null,
   "metadata": {},
   "outputs": [],
   "source": [
    "lis=[int(x) for x in input().split()]\n",
    "def as_ds(lis):\n",
    "    x=len(lis)//2\n",
    "    for i in range(x+1):\n",
    "def sorting(lis):\n",
    "    for i in lis:\n",
    "        for j in range(len(lis)):\n",
    "            if i \n",
    "    "
   ]
  },
  {
   "cell_type": "code",
   "execution_count": null,
   "metadata": {},
   "outputs": [],
   "source": []
  },
  {
   "cell_type": "code",
   "execution_count": null,
   "metadata": {},
   "outputs": [],
   "source": []
  },
  {
   "cell_type": "code",
   "execution_count": null,
   "metadata": {},
   "outputs": [],
   "source": []
  }
 ],
 "metadata": {
  "kernelspec": {
   "display_name": "Python 3",
   "language": "python",
   "name": "python3"
  },
  "language_info": {
   "codemirror_mode": {
    "name": "ipython",
    "version": 3
   },
   "file_extension": ".py",
   "mimetype": "text/x-python",
   "name": "python",
   "nbconvert_exporter": "python",
   "pygments_lexer": "ipython3",
   "version": "3.7.3"
  }
 },
 "nbformat": 4,
 "nbformat_minor": 2
}
