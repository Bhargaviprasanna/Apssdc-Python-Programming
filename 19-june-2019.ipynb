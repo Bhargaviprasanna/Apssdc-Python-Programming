{
 "cells": [
  {
   "cell_type": "markdown",
   "metadata": {},
   "source": [
    "# Cost of balloons"
   ]
  },
  {
   "cell_type": "code",
   "execution_count": 2,
   "metadata": {},
   "outputs": [
    {
     "name": "stdout",
     "output_type": "stream",
     "text": [
      "1\n",
      "1 9\n",
      "10\n",
      "0 1\n",
      "0 0 \n",
      "0 1\n",
      "0 0\n",
      "0 1\n",
      "1 0\n",
      "0 1\n",
      "0 1\n",
      "0 0\n",
      "0 0\n",
      "14\n"
     ]
    }
   ],
   "source": [
    "t=int(input())\n",
    "def costOfbaloons(p,q,x):\n",
    "    p_count=0\n",
    "    q_count=0\n",
    "    for i in range(x):\n",
    "        a,b=map(int,input().split())\n",
    "        if a==1:\n",
    "            p_count+=a*q\n",
    "        if b==1:\n",
    "            q_count+=b*p\n",
    "    return (p_count+q_count)\n",
    "for i in range(t):\n",
    "    p,q=map(int,input().split())\n",
    "    x=int(input())\n",
    "    if i%2 ==0:\n",
    "        print(costOfbaloons(p,q,x))\n",
    "    else:\n",
    "        print(costOfbaloons(q,p,x))"
   ]
  },
  {
   "cell_type": "markdown",
   "metadata": {},
   "source": [
    "# magical  word"
   ]
  },
  {
   "cell_type": "code",
   "execution_count": 3,
   "metadata": {},
   "outputs": [
    {
     "name": "stdout",
     "output_type": "stream",
     "text": [
      "1\n",
      "1\n",
      "!\n"
     ]
    },
    {
     "ename": "TypeError",
     "evalue": "an integer is required (got type NoneType)",
     "output_type": "error",
     "traceback": [
      "\u001b[1;31m---------------------------------------------------------------------------\u001b[0m",
      "\u001b[1;31mTypeError\u001b[0m                                 Traceback (most recent call last)",
      "\u001b[1;32m<ipython-input-3-e36486459c8e>\u001b[0m in \u001b[0;36m<module>\u001b[1;34m\u001b[0m\n\u001b[0;32m     27\u001b[0m         \u001b[1;32melse\u001b[0m\u001b[1;33m:\u001b[0m\u001b[1;33m\u001b[0m\u001b[1;33m\u001b[0m\u001b[0m\n\u001b[0;32m     28\u001b[0m             \u001b[0mb\u001b[0m\u001b[1;33m=\u001b[0m\u001b[0mconvertAlph\u001b[0m\u001b[1;33m(\u001b[0m\u001b[0ma\u001b[0m\u001b[1;33m)\u001b[0m\u001b[1;33m\u001b[0m\u001b[1;33m\u001b[0m\u001b[0m\n\u001b[1;32m---> 29\u001b[1;33m             \u001b[0mf\u001b[0m\u001b[1;33m+=\u001b[0m\u001b[0mchr\u001b[0m\u001b[1;33m(\u001b[0m\u001b[0mb\u001b[0m\u001b[1;33m)\u001b[0m\u001b[1;33m\u001b[0m\u001b[1;33m\u001b[0m\u001b[0m\n\u001b[0m\u001b[0;32m     30\u001b[0m     \u001b[0mprint\u001b[0m\u001b[1;33m(\u001b[0m\u001b[0mf\u001b[0m\u001b[1;33m)\u001b[0m\u001b[1;33m\u001b[0m\u001b[1;33m\u001b[0m\u001b[0m\n\u001b[0;32m     31\u001b[0m     \u001b[1;31m#CYGqOqSaGYmggqCqqqSa\u001b[0m\u001b[1;33m\u001b[0m\u001b[1;33m\u001b[0m\u001b[1;33m\u001b[0m\u001b[0m\n",
      "\u001b[1;31mTypeError\u001b[0m: an integer is required (got type NoneType)"
     ]
    }
   ],
   "source": [
    "t=int(input())\n",
    "def isDhanAlph(a):\n",
    "    f=1\n",
    "    for i in range(2,(a//2)+1):\n",
    "        if a%i == 0:\n",
    "            f=0\n",
    "            return False\n",
    "    if f == 1:\n",
    "        return True \n",
    "def convertAlph(a):\n",
    "    for i in range(1,27):\n",
    "        if isDhanAlph(a+i) and isDhanAlph(a-i) and chr(a-i).isalpha():\n",
    "            return (a-i)\n",
    "        else:\n",
    "            if isDhanAlph(a-i) and chr(a-i).isalpha():\n",
    "                return (a-i)\n",
    "            if isDhanAlph(a+i) and chr(a+i).isalpha():\n",
    "                return (a+i)\n",
    "for i in range(t):\n",
    "    l=int(input())\n",
    "    x=input()[:l]\n",
    "    f=\"\"\n",
    "    for c in x:\n",
    "        a=ord(c)\n",
    "        if isDhanAlph(a) and chr(a).isalpha():\n",
    "            f+=chr(a)\n",
    "        else:\n",
    "            b=convertAlph(a)\n",
    "            f+=chr(b)\n",
    "    print(f)\n",
    "    #CYGqOqSaGYmggqCqqqSa\n",
    "    #inp 0huYVux8IxT1nH5I0CVn op CgqYSqqCIqSCmGCICCSm CCCYqYqYqCCCCCC"
   ]
  },
  {
   "cell_type": "code",
   "execution_count": 26,
   "metadata": {},
   "outputs": [
    {
     "name": "stdout",
     "output_type": "stream",
     "text": [
      "!@#$%^&*()_\n",
      "CCCCCaCCCCa\n"
     ]
    }
   ],
   "source": [
    "x=input()\n",
    "f=\"\"\n",
    "for i in x:\n",
    "    a=ord(i)\n",
    "    b=convertAlph(a)\n",
    "    f+=chr(b)\n",
    "print(f)\n",
    "def convertAlph(a):\n",
    "    i=1\n",
    "    while True:\n",
    "        if isDhanAlph(a+i) and isDhanAlph(a-i) and chr(abs(a-i)).isalpha():\n",
    "            #print((a-i),chr((a-i)))\n",
    "            return (a-i)\n",
    "        else:\n",
    "            if isDhanAlph(a-i) and chr(abs(a-i)).isalpha():\n",
    "                #print((a-i),chr(abs(a-i)))\n",
    "                return (a-i)\n",
    "            if isDhanAlph(a+i) and chr(a+i).isalpha():\n",
    "                #print((a+i),chr((a+i)))\n",
    "                return (a+i)\n",
    "        i+=1\n",
    " #CCCCCaCCCCa"
   ]
  },
  {
   "cell_type": "code",
   "execution_count": 16,
   "metadata": {},
   "outputs": [
    {
     "name": "stdout",
     "output_type": "stream",
     "text": [
      "67\n",
      "33\n"
     ]
    }
   ],
   "source": [
    "print(ord('C'))\n",
    "print(ord('!'))"
   ]
  },
  {
   "cell_type": "code",
   "execution_count": 29,
   "metadata": {},
   "outputs": [
    {
     "name": "stdout",
     "output_type": "stream",
     "text": [
      "1\n",
      "sssssssssssssssssssssssssssssssssssssssssssssssssssssssssssssssssssssssssssssssssssssss\n",
      "tttttttttttttttttttttttttttttttttttttsssssssssssssssss\n",
      "-5949\n"
     ]
    }
   ],
   "source": [
    "t=int(input())\n",
    "def anagrams(a,b):\n",
    "    count=0\n",
    "    x=len(a)\n",
    "    y=len(b)\n",
    "    if x >= y:\n",
    "        for i in a:\n",
    "            count+=abs(a.count(i)-b.count(i))\n",
    "#         for i in b:\n",
    "#             count+=abs(a.count(i)-b.count(i))\n",
    "        return (x+y-count)\n",
    "    else:\n",
    "        for i in a:\n",
    "            count+=abs(a.count(i)-b.count(i))\n",
    "        for i in b:\n",
    "            count+=abs(a.count(i)-b.count(i))\n",
    "        return (x+y)-count\n",
    "for i in range(t):\n",
    "    a=input()\n",
    "    b=input()\n",
    "    print(anagrams(a,b))"
   ]
  },
  {
   "cell_type": "code",
   "execution_count": null,
   "metadata": {},
   "outputs": [],
   "source": []
  }
 ],
 "metadata": {
  "kernelspec": {
   "display_name": "Python 3",
   "language": "python",
   "name": "python3"
  },
  "language_info": {
   "codemirror_mode": {
    "name": "ipython",
    "version": 3
   },
   "file_extension": ".py",
   "mimetype": "text/x-python",
   "name": "python",
   "nbconvert_exporter": "python",
   "pygments_lexer": "ipython3",
   "version": "3.7.3"
  }
 },
 "nbformat": 4,
 "nbformat_minor": 2
}
