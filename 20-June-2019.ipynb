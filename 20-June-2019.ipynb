{
 "cells": [
  {
   "cell_type": "markdown",
   "metadata": {},
   "source": [
    "# Best Index"
   ]
  },
  {
   "cell_type": "code",
   "execution_count": null,
   "metadata": {},
   "outputs": [],
   "source": [
    "n=int(input())\n",
    "l=[int(x) for x in input().split()]\n",
    "def cumSum(i,l):\n",
    "    s=0\n",
    "    i=n\n",
    "    for j in range(1,n):\n",
    "        s+=l[i]\n",
    "        i+=1\n",
    "def bestIndex(l):\n",
    "    sum=0\n",
    "    for i in range(len(l)):\n",
    "        cumSum(i,l)"
   ]
  },
  {
   "cell_type": "markdown",
   "metadata": {},
   "source": [
    "### Regular Expressions\n",
    "- Pattern Matching\n",
    "- Symbolic Notation of a pattern\n",
    "    - Pattern : Format which repeats\n",
    "    - Pattern(RE) represents the set of all values that match a pattern\n",
    "- [0-9] -> Any digit\n",
    "\n",
    "- [a-z] -> Any lower case alphabet\n",
    "\n",
    "- [2,4,6,8] -> All single Multiples of two\n",
    "\n",
    "- ^[0-9] {1}$ -> only single digit numbers\n",
    "\n",
    "- ^[0-9] {3}$ -> 3 digit numbers\n",
    "\n",
    "- ^[1-9][0-9]*0$  -> multiples of 10\n",
    "\n",
    "-  (^[1-9][0-9]*[05]$)|(^[5]$)  -> multiples of 5 \n",
    "\n",
    "-  ^[0-9]{10}$    -> 10 digit numbers\n",
    "\n",
    "- [a-zA-Z0-9_-]+  -> Split the email into username,domain and extension\n",
    "\n",
    "- (^[9,8,7,6][0-9]{9})|(^[0][6-9][0-9]{9})  -> validating Phone number(statrs with 9-6 or 0 and 10 digits)\n",
    "-(^[6-9][0-9]{9})|(^[0][6-9][0-9]{9})|([+][9][1][6-9][0-9]{9}) number with +91 \n",
    "\n",
    "-  ^[a-zA-Z][a-zA-Z0-9_.]{5,15}[a-zA-Z0-9]$     -> validating username length 6,16 and any alpha,digit,dot and underscore .\n",
    "\n",
    "- ^[a-z][a-z0-9]{2,9}$ -> Domain (a-z),digits,length 3,10\n",
    "\n",
    "- ^[a-z][a-z]{1,3}$ -> extension length 2,4\n",
    "- ([p,P][r,R][i,I][n,N][t,T])|(Print) -> searching for a word"
   ]
  },
  {
   "cell_type": "markdown",
   "metadata": {},
   "source": [
    "### Regular Expressions Practice"
   ]
  },
  {
   "cell_type": "code",
   "execution_count": 7,
   "metadata": {},
   "outputs": [
    {
     "name": "stdout",
     "output_type": "stream",
     "text": [
      "['b', 'h', 'a', 'r', 'g', 'a', 'v', 'i', 'P', 'r', 'a', 's', 'a', 'n', 'n', 'a', 'b', 'o', 'm', 'm', 'i', 'd', 'i']\n"
     ]
    }
   ],
   "source": [
    "import re\n",
    "st=\"bhargavi Prasanna bommidi\"\n",
    "i=re.findall('\\w',st)\n",
    "print(i)"
   ]
  },
  {
   "cell_type": "code",
   "execution_count": 10,
   "metadata": {},
   "outputs": [
    {
     "name": "stdout",
     "output_type": "stream",
     "text": [
      "['bhargavibommidi', 'gmail', 'com']\n"
     ]
    }
   ],
   "source": [
    "import re\n",
    "st=\"bhargavibommidi@gmail.com\"\n",
    "x=re.findall('\\w+',st)\n",
    "print(x)"
   ]
  },
  {
   "cell_type": "code",
   "execution_count": 10,
   "metadata": {},
   "outputs": [
    {
     "name": "stdout",
     "output_type": "stream",
     "text": [
      "dnjcnds@fsds.com\n"
     ]
    },
    {
     "data": {
      "text/plain": [
       "'Valid'"
      ]
     },
     "execution_count": 10,
     "metadata": {},
     "output_type": "execute_result"
    }
   ],
   "source": [
    "email=input()\n",
    "#us_re=r\"^[a-zA-Z][a-zA-Z0-9_.]{5,15}$\"\n",
    "# us_re = r'[a-zA-Z][\\w,.]{5,15}[\\w][@]'\n",
    "\n",
    "def user_name(email):\n",
    "    email_re=r'^[a-zA-Z][a-zA-Z0-9_.]{5,20}[a-zA-Z0-9][@][a-z][a-z0-9]{2,9}[.][a-z]{1,3}'\n",
    "    if re.match(email_re,email,flags=0):\n",
    "        return 'Valid'\n",
    "    else:\n",
    "        return 'Invalid'\n",
    "    return\n",
    "user_name(email)\n",
    "    \n"
   ]
  },
  {
   "cell_type": "code",
   "execution_count": 2,
   "metadata": {},
   "outputs": [
    {
     "ename": "NameError",
     "evalue": "name 'number' is not defined",
     "output_type": "error",
     "traceback": [
      "\u001b[1;31m---------------------------------------------------------------------------\u001b[0m",
      "\u001b[1;31mNameError\u001b[0m                                 Traceback (most recent call last)",
      "\u001b[1;32m<ipython-input-2-8bebda6e44fa>\u001b[0m in \u001b[0;36m<module>\u001b[1;34m\u001b[0m\n\u001b[0;32m      8\u001b[0m         \u001b[1;32mreturn\u001b[0m \u001b[1;34m'Invalid'\u001b[0m\u001b[1;33m\u001b[0m\u001b[1;33m\u001b[0m\u001b[0m\n\u001b[0;32m      9\u001b[0m \u001b[1;33m\u001b[0m\u001b[0m\n\u001b[1;32m---> 10\u001b[1;33m \u001b[0mphone_valid\u001b[0m\u001b[1;33m(\u001b[0m\u001b[0mnumber\u001b[0m\u001b[1;33m)\u001b[0m\u001b[1;33m\u001b[0m\u001b[1;33m\u001b[0m\u001b[0m\n\u001b[0m",
      "\u001b[1;31mNameError\u001b[0m: name 'number' is not defined"
     ]
    }
   ],
   "source": [
    "import re\n",
    "#number=int(input())\n",
    "def phone_valid(number):\n",
    "    pat='(^[6-9][0-9]{9})|(^[0][6-9][0-9]{9})|([+][9][1][6-9][0-9]{9})'\n",
    "    if re.match(pat, number):\n",
    "        return 'Valid'\n",
    "    else:\n",
    "        return 'Invalid'\n",
    "\n",
    "phone_valid(number)\n"
   ]
  },
  {
   "cell_type": "code",
   "execution_count": 7,
   "metadata": {},
   "outputs": [
    {
     "name": "stdout",
     "output_type": "stream",
     "text": [
      "bhar\n",
      "9078906774\n",
      "jkloibj@fvg.com\n",
      "{'Name 1': [9087654534, 'dsfgh@asd.in'], 'bhar': [9078906774, 'jkloibj@fvg.com']}\n"
     ]
    }
   ],
   "source": [
    "name=input()\n",
    "phone=input()\n",
    "email=input()\n",
    "contacts={'Name 1':[9087654534,'dsfgh@asd.in']}\n",
    "def addContact(name, phone,email):\n",
    "    if name not in contacts and phone_valid(phone) == 'Valid' and user_name(email)=='Valid':\n",
    "        contacts[name] = [int(phone),email]\n",
    "        #contacts[name].append([int(phone),email])\n",
    "    else:\n",
    "        if phone_valid(phone) == 'Invalid':\n",
    "            print('Invalid phone %s'%phone)\n",
    "        if user_name(email)=='Valid':\n",
    "            print('Invalid email %s'%email)\n",
    "        else:\n",
    "            print('Contact %s is already exists'%name)\n",
    "    return\n",
    "addContact(name,phone,email)\n",
    "print(contacts)"
   ]
  },
  {
   "cell_type": "code",
   "execution_count": 76,
   "metadata": {},
   "outputs": [
    {
     "name": "stdout",
     "output_type": "stream",
     "text": [
      "bbp\n",
      "phone: 8179772443\n",
      "email: bhargavi.bommidi@gmail.com\n"
     ]
    }
   ],
   "source": [
    "#addContact(\"bharu\",'6281823719')\n",
    "def searchContacts(name):\n",
    "    if name in contacts:\n",
    "        \n",
    "        print(name)\n",
    "        print('phone' \":\",contacts[name][0])\n",
    "        print('email' \":\",contacts[name][1])\n",
    "\n",
    "    else:\n",
    "\n",
    "        print('%s doesnot exists' % name)\n",
    "\n",
    "    return\n",
    "\n",
    "searchContacts('bbp')"
   ]
  },
  {
   "cell_type": "code",
   "execution_count": 84,
   "metadata": {},
   "outputs": [
    {
     "name": "stdout",
     "output_type": "stream",
     "text": [
      "bbp \n",
      " Phone : 1234 \n",
      " Email : lovelyrasna@gma.com\n",
      "ivagrahb \n",
      " Phone : 8923456789 \n",
      " Email : najnjsnjs@dfd.com\n",
      "janu \n",
      " Phone : 3456 \n",
      " Email : ivagrahb.skd@apsd.in\n"
     ]
    }
   ],
   "source": [
    "def listOfContacts(contacts):\n",
    "\n",
    "    for contact,info in contacts.items():\n",
    "\n",
    "        print(contact, '\\n',\"Phone :\", info[0], '\\n', 'Email :', info[1])\n",
    "\n",
    "    return\n",
    "\n",
    "listOfContacts(contacts)"
   ]
  },
  {
   "cell_type": "code",
   "execution_count": 48,
   "metadata": {},
   "outputs": [
    {
     "ename": "TypeError",
     "evalue": "write() argument must be str, not int",
     "output_type": "error",
     "traceback": [
      "\u001b[1;31m---------------------------------------------------------------------------\u001b[0m",
      "\u001b[1;31mTypeError\u001b[0m                                 Traceback (most recent call last)",
      "\u001b[1;32m<ipython-input-48-c4f289dc7032>\u001b[0m in \u001b[0;36m<module>\u001b[1;34m\u001b[0m\n\u001b[0;32m     13\u001b[0m            \u001b[0mprint\u001b[0m\u001b[1;33m(\u001b[0m\u001b[0mx\u001b[0m\u001b[1;33m)\u001b[0m\u001b[1;33m\u001b[0m\u001b[1;33m\u001b[0m\u001b[0m\n\u001b[0;32m     14\u001b[0m     \u001b[1;32mreturn\u001b[0m\u001b[1;33m\u001b[0m\u001b[1;33m\u001b[0m\u001b[0m\n\u001b[1;32m---> 15\u001b[1;33m \u001b[0mprint\u001b[0m\u001b[1;33m(\u001b[0m\u001b[0mfile_contacts\u001b[0m\u001b[1;33m(\u001b[0m\u001b[0mcontacts\u001b[0m\u001b[1;33m)\u001b[0m\u001b[1;33m)\u001b[0m\u001b[1;33m\u001b[0m\u001b[1;33m\u001b[0m\u001b[0m\n\u001b[0m\u001b[0;32m     16\u001b[0m \u001b[1;31m#print(contacts)\u001b[0m\u001b[1;33m\u001b[0m\u001b[1;33m\u001b[0m\u001b[1;33m\u001b[0m\u001b[0m\n\u001b[0;32m     17\u001b[0m \u001b[1;33m\u001b[0m\u001b[0m\n",
      "\u001b[1;32m<ipython-input-48-c4f289dc7032>\u001b[0m in \u001b[0;36mfile_contacts\u001b[1;34m(contacts)\u001b[0m\n\u001b[0;32m      7\u001b[0m             \u001b[0mf\u001b[0m\u001b[1;33m.\u001b[0m\u001b[0mwrite\u001b[0m\u001b[1;33m(\u001b[0m\u001b[1;34m','\u001b[0m\u001b[1;33m)\u001b[0m\u001b[1;33m\u001b[0m\u001b[1;33m\u001b[0m\u001b[0m\n\u001b[0;32m      8\u001b[0m             \u001b[1;32mfor\u001b[0m \u001b[0mx\u001b[0m \u001b[1;32min\u001b[0m \u001b[0mj\u001b[0m\u001b[1;33m:\u001b[0m\u001b[1;33m\u001b[0m\u001b[1;33m\u001b[0m\u001b[0m\n\u001b[1;32m----> 9\u001b[1;33m                 \u001b[0mf\u001b[0m\u001b[1;33m.\u001b[0m\u001b[0mwrite\u001b[0m\u001b[1;33m(\u001b[0m\u001b[0mx\u001b[0m\u001b[1;33m)\u001b[0m\u001b[1;33m\u001b[0m\u001b[1;33m\u001b[0m\u001b[0m\n\u001b[0m\u001b[0;32m     10\u001b[0m                 \u001b[0mf\u001b[0m\u001b[1;33m.\u001b[0m\u001b[0mwrite\u001b[0m\u001b[1;33m(\u001b[0m\u001b[1;34m','\u001b[0m\u001b[1;33m)\u001b[0m\u001b[1;33m\u001b[0m\u001b[1;33m\u001b[0m\u001b[0m\n\u001b[0;32m     11\u001b[0m     \u001b[1;32mwith\u001b[0m \u001b[0mopen\u001b[0m\u001b[1;33m(\u001b[0m\u001b[1;34m\"DataFiles//ex.txt\"\u001b[0m\u001b[1;33m,\u001b[0m\u001b[1;34m'r'\u001b[0m\u001b[1;33m)\u001b[0m \u001b[1;32mas\u001b[0m \u001b[0mf\u001b[0m\u001b[1;33m:\u001b[0m\u001b[1;33m\u001b[0m\u001b[1;33m\u001b[0m\u001b[0m\n",
      "\u001b[1;31mTypeError\u001b[0m: write() argument must be str, not int"
     ]
    }
   ],
   "source": [
    "# store contacts in a file\n",
    "def file_contacts(contacts):\n",
    "    with open(\"DataFiles//ex.txt\",'w') as f:\n",
    "        for i in contacts.keys():\n",
    "            f.write(i)\n",
    "        for j in contacts.values():\n",
    "            f.write(',')\n",
    "            for x in j:\n",
    "                f.write(x)\n",
    "                f.write(',')\n",
    "    with open(\"DataFiles//ex.txt\",'r') as f:\n",
    "           x=f.read()\n",
    "           print(x)\n",
    "    return\n",
    "print(file_contacts(contacts))\n",
    "#print(contacts)\n",
    "         "
   ]
  },
  {
   "cell_type": "code",
   "execution_count": 15,
   "metadata": {},
   "outputs": [
    {
     "name": "stdout",
     "output_type": "stream",
     "text": [
      "{'Name 1': [9087654534, 'dsfgh@asd.in'], 'bhar': ['6281823719', 'dnjcnds@fsds.com'], 'name': ['6183828709', 'ivagrahb@fsds.com']}\n"
     ]
    }
   ],
   "source": [
    "def modifyContacts(name,phone,email):\n",
    "\n",
    "    if name in contacts:\n",
    "        if phone_valid(phone) == 'Invalid':\n",
    "            print('Invalid phone %s'%phone)\n",
    "        if user_name(email)=='Invalid':\n",
    "            print('Invalid email %s'%email)\n",
    "        else:\n",
    "            contacts[name]=[phone,email]\n",
    "\n",
    "    else:\n",
    "\n",
    "        print('name %s not there' %name)\n",
    "\n",
    "    return\n",
    "\n",
    "modifyContacts('name', '6183828709','ivagrahb@fsds.com')\n",
    "print(contacts)"
   ]
  },
  {
   "cell_type": "code",
   "execution_count": 83,
   "metadata": {},
   "outputs": [
    {
     "name": "stdout",
     "output_type": "stream",
     "text": [
      "name bharu not there\n"
     ]
    }
   ],
   "source": [
    "def deleteContact(name):\n",
    "\n",
    "    if name in contacts:\n",
    "\n",
    "        contacts.pop(name)\n",
    "\n",
    "    else:\n",
    "\n",
    "         print('name %s not there' %name)\n",
    "\n",
    "    return\n",
    "\n",
    "deleteContact('bharu')"
   ]
  },
  {
   "cell_type": "code",
   "execution_count": 82,
   "metadata": {},
   "outputs": [
    {
     "name": "stdout",
     "output_type": "stream",
     "text": [
      "dict_items([('bbp', ['1234', 'lovelyrasna@gma.com']), ('ivagrahb', [8923456789, 'najnjsnjs@dfd.com']), ('janu', ['3456', 'ivagrahb.skd@apsd.in'])])\n"
     ]
    }
   ],
   "source": [
    "newcontacts={'bbp':['1234','lovelyrasna@gma.com'], 'janu':['3456','ivagrahb.skd@apsd.in']}\n",
    "\n",
    "def importContacts(newcontacts):\n",
    "\n",
    "    contacts.update(newcontacts)\n",
    "\n",
    "    return\n",
    "\n",
    "importContacts(newcontacts)\n",
    "print(contacts.items())"
   ]
  },
  {
   "cell_type": "markdown",
   "metadata": {},
   "source": [
    "### File Handling\n",
    "- Files  - A Doc containing info residing on the permanent storage\n",
    "- Types  - TEXT, PDF, CSV, etc..\n",
    "\n",
    "File I/O\n",
    " -> chanelling I/O data to files.\n",
    "Default I/O channels - Keyboard / Screen\n",
    "\n",
    "Change I/O channel to files for reading and write \n",
    "\n",
    "Read a file - Input\n",
    "Write to a file - Output\n",
    "\n",
    "Read a file - read/write  open(filename, mode)"
   ]
  },
  {
   "cell_type": "code",
   "execution_count": 18,
   "metadata": {},
   "outputs": [
    {
     "name": "stdout",
     "output_type": "stream",
     "text": [
      "DataFiles//contacts_list.txt\n"
     ]
    },
    {
     "ename": "FileNotFoundError",
     "evalue": "[Errno 2] No such file or directory: 'DataFiles//contacts_list.txt'",
     "output_type": "error",
     "traceback": [
      "\u001b[1;31m---------------------------------------------------------------------------\u001b[0m",
      "\u001b[1;31mFileNotFoundError\u001b[0m                         Traceback (most recent call last)",
      "\u001b[1;32m<ipython-input-18-dff523c7cae2>\u001b[0m in \u001b[0;36m<module>\u001b[1;34m\u001b[0m\n\u001b[0;32m      9\u001b[0m         \u001b[0mx\u001b[0m\u001b[1;33m=\u001b[0m\u001b[0mf\u001b[0m\u001b[1;33m.\u001b[0m\u001b[0mread\u001b[0m\u001b[1;33m(\u001b[0m\u001b[1;33m)\u001b[0m\u001b[1;33m\u001b[0m\u001b[1;33m\u001b[0m\u001b[0m\n\u001b[0;32m     10\u001b[0m     \u001b[1;32mreturn\u001b[0m \u001b[0mx\u001b[0m\u001b[1;33m\u001b[0m\u001b[1;33m\u001b[0m\u001b[0m\n\u001b[1;32m---> 11\u001b[1;33m \u001b[0mprint\u001b[0m\u001b[1;33m(\u001b[0m\u001b[0mread_file\u001b[0m\u001b[1;33m(\u001b[0m\u001b[0mfname\u001b[0m\u001b[1;33m)\u001b[0m\u001b[1;33m)\u001b[0m \u001b[1;31m# DataFiles//data.txt\u001b[0m\u001b[1;33m\u001b[0m\u001b[1;33m\u001b[0m\u001b[0m\n\u001b[0m",
      "\u001b[1;32m<ipython-input-18-dff523c7cae2>\u001b[0m in \u001b[0;36mread_file\u001b[1;34m(fname)\u001b[0m\n\u001b[0;32m      6\u001b[0m \u001b[1;31m#     x.close()\u001b[0m\u001b[1;33m\u001b[0m\u001b[1;33m\u001b[0m\u001b[1;33m\u001b[0m\u001b[0m\n\u001b[0;32m      7\u001b[0m \u001b[1;31m#     return fdata\u001b[0m\u001b[1;33m\u001b[0m\u001b[1;33m\u001b[0m\u001b[1;33m\u001b[0m\u001b[0m\n\u001b[1;32m----> 8\u001b[1;33m     \u001b[1;32mwith\u001b[0m \u001b[0mopen\u001b[0m\u001b[1;33m(\u001b[0m\u001b[0mfname\u001b[0m\u001b[1;33m)\u001b[0m \u001b[1;32mas\u001b[0m \u001b[0mf\u001b[0m\u001b[1;33m:\u001b[0m\u001b[1;33m\u001b[0m\u001b[1;33m\u001b[0m\u001b[0m\n\u001b[0m\u001b[0;32m      9\u001b[0m         \u001b[0mx\u001b[0m\u001b[1;33m=\u001b[0m\u001b[0mf\u001b[0m\u001b[1;33m.\u001b[0m\u001b[0mread\u001b[0m\u001b[1;33m(\u001b[0m\u001b[1;33m)\u001b[0m\u001b[1;33m\u001b[0m\u001b[1;33m\u001b[0m\u001b[0m\n\u001b[0;32m     10\u001b[0m     \u001b[1;32mreturn\u001b[0m \u001b[0mx\u001b[0m\u001b[1;33m\u001b[0m\u001b[1;33m\u001b[0m\u001b[0m\n",
      "\u001b[1;31mFileNotFoundError\u001b[0m: [Errno 2] No such file or directory: 'DataFiles//contacts_list.txt'"
     ]
    }
   ],
   "source": [
    "# Fun  to read a file\n",
    "fname=input()\n",
    "def read_file(fname):\n",
    "#     x=open(fname,'r')\n",
    "#     fdata=x.read()\n",
    "#     x.close()\n",
    "#     return fdata\n",
    "    with open(fname) as f:\n",
    "        x=f.read()\n",
    "    return x\n",
    "print(read_file(fname)) # DataFiles//data.txt"
   ]
  },
  {
   "cell_type": "code",
   "execution_count": 23,
   "metadata": {},
   "outputs": [
    {
     "name": "stdout",
     "output_type": "stream",
     "text": [
      "DataFiles//data3.txt\n",
      "mskfnmkdvn\n",
      "Success\n"
     ]
    }
   ],
   "source": [
    "# Fun to write into file\n",
    "fname=input()\n",
    "data=input()\n",
    "def write_file(fname,data):\n",
    "    with open(fname, 'w') as f:\n",
    "        f.write(data)\n",
    "    return 'Success'\n",
    "print(write_file(fname,data)) # DataFiles//data2.txt"
   ]
  },
  {
   "cell_type": "code",
   "execution_count": 104,
   "metadata": {},
   "outputs": [
    {
     "name": "stdout",
     "output_type": "stream",
     "text": [
      "DataFiles//data2.txt\n",
      "\"\\n\"dfndknkf\n",
      "Success\n"
     ]
    }
   ],
   "source": [
    "fname=input()\n",
    "data=input()\n",
    "def append_file(fname,data):\n",
    "    with open(fname, 'a') as f:\n",
    "        x=f.write(data)\n",
    "    return 'Success'\n",
    "print(append_file(fname,data))"
   ]
  },
  {
   "cell_type": "code",
   "execution_count": null,
   "metadata": {},
   "outputs": [],
   "source": []
  }
 ],
 "metadata": {
  "kernelspec": {
   "display_name": "Python 3",
   "language": "python",
   "name": "python3"
  },
  "language_info": {
   "codemirror_mode": {
    "name": "ipython",
    "version": 3
   },
   "file_extension": ".py",
   "mimetype": "text/x-python",
   "name": "python",
   "nbconvert_exporter": "python",
   "pygments_lexer": "ipython3",
   "version": "3.7.3"
  }
 },
 "nbformat": 4,
 "nbformat_minor": 2
}
