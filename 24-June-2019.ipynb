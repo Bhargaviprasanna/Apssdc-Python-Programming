{
 "cells": [
  {
   "cell_type": "markdown",
   "metadata": {},
   "source": [
    "# Frequency of words"
   ]
  },
  {
   "cell_type": "code",
   "execution_count": 25,
   "metadata": {},
   "outputs": [],
   "source": [
    "import re\n",
    "def wordcountfile(fname):\n",
    "    p='[ \\n]'\n",
    "    fd=readFile(fname)\n",
    "    count=len(re.split(p,fd))\n",
    "    return count\n",
    "def wordsfromfile(fname):\n",
    "    p='[ \\n,./]'\n",
    "    fd=readFile(fname)\n",
    "    allwordslist=re.split(p,fd)\n",
    "    return allwordslist\n",
    "def uniquewords_usingdic(fname):\n",
    "    l=wordsfromfile(fname)\n",
    "    s=list(set(l))\n",
    "    x={}\n",
    "    for i in s:\n",
    "        x[i]=l.count(i)\n",
    "    return x\n",
    "def uniquewords_usingdic1(fname):\n",
    "    l=wordsfromfile(fname)\n",
    "    wordfreq={}\n",
    "    for i in l:\n",
    "        if i not in wordfreq.keys():\n",
    "            wordfreq[i]=1\n",
    "        else:\n",
    "            wordfreq[i]+=1\n",
    "    return wordfreq\n",
    "def uniquewords_usinglist(fname):\n",
    "    l=wordsfromfile(fname)\n",
    "    l2=[]\n",
    "    count=[]\n",
    "    for i in l:\n",
    "        if i not in l2:\n",
    "            l2.append(i)\n",
    "    for j in l2:\n",
    "        count.append(l.count(j))\n",
    "        print(j, ':', l.count(j))\n",
    "    return count"
   ]
  },
  {
   "cell_type": "code",
   "execution_count": 28,
   "metadata": {},
   "outputs": [
    {
     "name": "stdout",
     "output_type": "stream",
     "text": [
      "{'Bhargavi': 1, 'Rasna': 1, 'Lovely': 1, 'xkvnibnibv': 1, 'szcvkdfnbig': 1, 'asxnvikdfbn': 1, 'Alice': 5, 'got': 1, 'a': 3, 'number': 4, 'written': 1, 'in': 1, 'seven': 1, 'segment': 2, 'format': 1, 'where': 1, 'each': 1, 'was': 1, 'creatted': 1, 'used': 2, 'matchstick': 1, '': 5, 'Example:': 1, 'If': 1, 'gets': 1, '123': 1, 'so': 1, 'basically': 1, '12': 1, 'matchsticks': 2, 'for': 1, 'this': 1, 'is': 2, 'wondering': 1, 'what': 1, 'the': 2, 'numerically': 1, 'largest': 1, 'value': 1, 'that': 3, 'she': 2, 'can': 1, 'generate': 1, 'by': 2, 'using': 1, 'at': 1, 'most': 1, 'currently': 1, 'possess': 1, 'Help': 1, 'out': 1, 'telling': 1, 'her': 1}\n"
     ]
    }
   ],
   "source": [
    "fname='DataFiles//data.txt'\n",
    "def readFile(fname):\n",
    "    with open(fname,'r') as f:\n",
    "        x=f.read()\n",
    "    return x\n",
    "# print(wordcountfile(fname))\n",
    "# print(wordsfromfile(fname))\n",
    "# print(uniquewords_usingdic(fname))\n",
    "# print(uniquewords_usinglist(fname))\n",
    "print(uniquewords_usingdic1(fname))"
   ]
  },
  {
   "cell_type": "code",
   "execution_count": 38,
   "metadata": {},
   "outputs": [
    {
     "name": "stdout",
     "output_type": "stream",
     "text": [
      "1\n",
      "1 0\n",
      "1 1 in\n",
      "1 0\n",
      "1 1 in\n",
      "2\n"
     ]
    }
   ],
   "source": [
    "l=[1,2,3,4,5]\n",
    "i=int(input())\n",
    "# def adding(l,i):\n",
    "#     s=0\n",
    "#     j=0\n",
    "#     while i+1<len(l):\n",
    "#         s+=add2(i,j,l)\n",
    "#         i+=1\n",
    "#     return s\n",
    "s=0\n",
    "j=0\n",
    "s+=add2(i,j,l)\n",
    "\n",
    "def add2(i,j,l):\n",
    "    while i+1<=len(l):\n",
    "        print(i,j)\n",
    "        if j==0:\n",
    "            j+=1\n",
    "            print(i,j,\"in\")\n",
    "            return l[i]\n",
    "        \n",
    "        else:\n",
    "            print(i,j,'else')\n",
    "            j+=1\n",
    "            return l[i]+add2(i+1)\n",
    "print(add2(i,j,l))     "
   ]
  },
  {
   "cell_type": "code",
   "execution_count": 33,
   "metadata": {},
   "outputs": [
    {
     "name": "stdout",
     "output_type": "stream",
     "text": [
      "2\n",
      "10\n",
      "50\n"
     ]
    }
   ],
   "source": [
    "# function to generate n student marks\n",
    "from random import randint\n",
    "n=int(input())\n",
    "lb=int(input())\n",
    "ub=int(input())\n",
    "def generateMarks(n,lb,ub):\n",
    "    with open('DataFiles//marks.txt','w') as f:\n",
    "        for i in range(0,n):\n",
    "            r=randint(lb,ub)\n",
    "            f.write(str(r) + '\\n')\n",
    "    return \n",
    "generateMarks(n,lb,ub)  "
   ]
  },
  {
   "cell_type": "code",
   "execution_count": null,
   "metadata": {},
   "outputs": [],
   "source": [
    "t=int(input())\n",
    "for j in range(t):\n",
    "    n=int(input())\n",
    "    l=input().split()\n",
    "    x=[]\n",
    "    for i in l:\n",
    "        x.append(int(i))"
   ]
  },
  {
   "cell_type": "code",
   "execution_count": 58,
   "metadata": {},
   "outputs": [
    {
     "name": "stdout",
     "output_type": "stream",
     "text": [
      "1\n",
      "123\n",
      "{'0': 6, '1': 2, '2': 5, '3': 5, '4': 4, '5': 5, '6': 6, '7': 3, '8': 7, '9': 6}\n",
      "12\n",
      "0\n",
      "111111\n",
      "444\n",
      "66\n",
      "7777\n",
      "99\n",
      "111111\n"
     ]
    }
   ],
   "source": [
    "t=int(input())\n",
    "def countOfSticks(n,match_dic):\n",
    "    print(match_dic)\n",
    "    if n//10 == 0:\n",
    "        return match_dic[str(n)]\n",
    "    else:\n",
    "        s=0\n",
    "        while n!=0:\n",
    "            r=(n%10)\n",
    "            s+=match_dic[str(r)]\n",
    "            n=n//10\n",
    "        return s\n",
    "def sevenSegment(t):\n",
    "    #match_sticks=[6,2,5,5,4,5,6,3,7,6]\n",
    "    match_dic={'0':6, '1':2, '2':5, '3':5, '4':4, '5':5, '6':6, '7':3, '8':7, '9':6}\n",
    "    maxi=0\n",
    "    for i in range(t):\n",
    "        n=int(input())\n",
    "        ms=countOfSticks(n,match_dic)\n",
    "        print(ms)\n",
    "        for num in match_dic.keys():\n",
    "            if ms%match_dic[num] == 0:\n",
    "                x=int((ms//match_dic[num])*(num))\n",
    "                #print(x)\n",
    "                if maxi < x:\n",
    "                    maxi = x\n",
    "        return maxi\n",
    "print(sevenSegment(t))"
   ]
  },
  {
   "cell_type": "code",
   "execution_count": null,
   "metadata": {},
   "outputs": [],
   "source": []
  },
  {
   "cell_type": "code",
   "execution_count": null,
   "metadata": {},
   "outputs": [],
   "source": []
  },
  {
   "cell_type": "code",
   "execution_count": null,
   "metadata": {},
   "outputs": [],
   "source": []
  }
 ],
 "metadata": {
  "kernelspec": {
   "display_name": "Python 3",
   "language": "python",
   "name": "python3"
  },
  "language_info": {
   "codemirror_mode": {
    "name": "ipython",
    "version": 3
   },
   "file_extension": ".py",
   "mimetype": "text/x-python",
   "name": "python",
   "nbconvert_exporter": "python",
   "pygments_lexer": "ipython3",
   "version": "3.7.3"
  }
 },
 "nbformat": 4,
 "nbformat_minor": 2
}
