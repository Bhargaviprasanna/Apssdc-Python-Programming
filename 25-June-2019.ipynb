{
 "cells": [
  {
   "cell_type": "code",
   "execution_count": null,
   "metadata": {},
   "outputs": [],
   "source": [
    "from random import randint\n",
    "lb=int(input())\n",
    "ub=int(input())\n",
    "n=int(input())\n",
    "fname=\"DataFiles//classmarks.txt\"\n",
    "def marksgen(fname,ub,lb,n):\n",
    "    with open(fname,'w') as f:\n",
    "        for i in range(n):\n",
    "            x=randint(lb,ub)\n",
    "            f.write(str(x)+'\\n')\n",
    "    return\n",
    "marksgen(fname,ub,lb,n)"
   ]
  },
  {
   "cell_type": "code",
   "execution_count": null,
   "metadata": {},
   "outputs": [],
   "source": [
    "def classAvg(lis):\n",
    "    return (sum(lis)/len(lis))\n",
    "#classAvg([1,2,3,4,5])\n",
    "def mdicStu(lis):\n",
    "    mdic={}\n",
    "    s=0\n",
    "    c=0\n",
    "    l=len(lis)\n",
    "    for i in lis:\n",
    "        if i >= 35:\n",
    "            c+=1\n",
    "        if i>=75:\n",
    "            s+=1\n",
    "    passed=(c/l)*100 \n",
    "    mdic['passs']=passed\n",
    "    failed=((l-c)/l)*100\n",
    "    mdic['fail']=failed\n",
    "    distinct=(s/l)*100\n",
    "    mdic['distinction']=distinct\n",
    "    return mdic\n",
    "#passedStu([10,30,45,60,80])"
   ]
  },
  {
   "cell_type": "code",
   "execution_count": null,
   "metadata": {},
   "outputs": [],
   "source": [
    "import re\n",
    "def readfile(fname):\n",
    "    with open(fname,'r') as f:\n",
    "        x=f.read()\n",
    "    return x\n",
    "\n",
    "def classavg_pass_fail_distinc(fname):\n",
    "    y=readfile(fname)\n",
    "    p='[ \\n]'\n",
    "    lis=re.split(p,y)\n",
    "    print(lis)\n",
    "    class_avg=classAvg(lis)\n",
    "    alldic=mdicStu(lis)\n",
    "    passed=alldic['passs']\n",
    "    print(passed)\n",
    "    failed=alldic['fail']\n",
    "    print(failed)\n",
    "    distinc=alldic['distinction']\n",
    "    print(distinc)\n",
    "    return\n",
    "classavg_pass_fail_distinc(fname)\n"
   ]
  },
  {
   "cell_type": "code",
   "execution_count": null,
   "metadata": {},
   "outputs": [],
   "source": []
  }
 ],
 "metadata": {
  "kernelspec": {
   "display_name": "Python 3",
   "language": "python",
   "name": "python3"
  },
  "language_info": {
   "codemirror_mode": {
    "name": "ipython",
    "version": 3
   },
   "file_extension": ".py",
   "mimetype": "text/x-python",
   "name": "python",
   "nbconvert_exporter": "python",
   "pygments_lexer": "ipython3",
   "version": "3.7.3"
  }
 },
 "nbformat": 4,
 "nbformat_minor": 2
}
