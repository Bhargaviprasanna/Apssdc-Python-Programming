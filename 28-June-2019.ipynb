{
 "cells": [
  {
   "cell_type": "markdown",
   "metadata": {},
   "source": [
    "# Map\n",
    "- > Mapping - Entity with Function\n",
    "    f : x**2 \n",
    "    y=f(x)\n",
    "    f(1) -> 1\n",
    "    f(2) -> 4\n",
    "    .       .\n",
    "    .       .\n",
    "    \n",
    "   map(function, Iterable)\n",
    "   eg: map(int, input())"
   ]
  },
  {
   "cell_type": "code",
   "execution_count": 43,
   "metadata": {},
   "outputs": [
    {
     "name": "stdout",
     "output_type": "stream",
     "text": [
      "9\n",
      "3\n",
      "[1, 4, 9]\n"
     ]
    }
   ],
   "source": [
    "def power(a,n):\n",
    "#     return a ** n\n",
    "    x=1\n",
    "    for i in range(n):\n",
    "        x=x*a\n",
    "    return x\n",
    "def power2(a,n):\n",
    "    if n==0:\n",
    "        return 1\n",
    "    else:\n",
    "        return a*power2(a,n-1)\n",
    "print(power2(3,2))\n",
    "n=int(input())\n",
    "# l=map(int,n)\n",
    "l=[1,2,3]\n",
    "# x=list(map(lambda n:power2(int(input()),n),l))\n",
    "x2=list(map(lambda i: i ** 2,l))\n",
    "print(x2)"
   ]
  },
  {
   "cell_type": "code",
   "execution_count": 105,
   "metadata": {},
   "outputs": [
    {
     "name": "stdout",
     "output_type": "stream",
     "text": [
      "{64, 1, 8, 27, 125}\n",
      "[0, 1, 8, 27, 64]\n"
     ]
    }
   ],
   "source": [
    "def cubes(n):\n",
    "    return n**3\n",
    "l=[1,2,3,4,5]\n",
    "x=set(map(cubes,l))\n",
    "y=lambda i: i ** 3\n",
    "yl=[y(i) for i in range(5)]\n",
    "print(x)\n",
    "print(yl)"
   ]
  },
  {
   "cell_type": "markdown",
   "metadata": {},
   "source": [
    "## Filter \n",
    "filter(function, sequence)\n",
    "Parameters:\n",
    "function: function that tests if each element of a \n",
    "sequence true or not.\n",
    "sequence: sequence which needs to be filtered, it can \n",
    "be sets, lists, tuples, or containers of any iterators.\n",
    "Retruns:\n",
    "returns an iterator that is already filtered.\n",
    "    f:x%2==0\n",
    "    if value is true the element is added to o/p\n",
    "    x(i/p)   y(o/p)\n",
    "     1         -\n",
    "     2         2\n",
    "     3         -"
   ]
  },
  {
   "cell_type": "code",
   "execution_count": 21,
   "metadata": {},
   "outputs": [
    {
     "name": "stdout",
     "output_type": "stream",
     "text": [
      "[2, 4]\n"
     ]
    }
   ],
   "source": [
    "li=[1,2,3,4,5]\n",
    "x=list(filter(lambda i: i%2 == 0,li))\n",
    "print(x)"
   ]
  },
  {
   "cell_type": "code",
   "execution_count": 28,
   "metadata": {},
   "outputs": [
    {
     "name": "stdout",
     "output_type": "stream",
     "text": [
      "{1, '10', 13, 9}\n",
      "[1, 9, '10', 13]\n"
     ]
    }
   ],
   "source": [
    "def isDigit(i):\n",
    "    c=str(i)\n",
    "    if c.isdigit():\n",
    "        return True\n",
    "    return False\n",
    "l=[1,'a',9,'10',13]\n",
    "f=filter(isDigit,l)\n",
    "f2=filter(lambda x:isDigit(x),l)\n",
    "print(set(f))\n",
    "print(list(f2))"
   ]
  },
  {
   "cell_type": "code",
   "execution_count": 39,
   "metadata": {},
   "outputs": [
    {
     "name": "stdout",
     "output_type": "stream",
     "text": [
      "Enter start year: 1970\n",
      "Enter end year: 2000\n",
      "[1972, 1976, 1980, 1984, 1988, 1992, 1996, 2000]\n"
     ]
    }
   ],
   "source": [
    "# Leap year using Filter\n",
    "\n",
    "def leapYear(i):\n",
    "    if i%400 == 0 or (i%4 ==0 and i%100 !=0):\n",
    "        return True\n",
    "    return False\n",
    "lb=int(input('Enter start year: '))\n",
    "ub=int(input('Enter end year: '))\n",
    "years=[int(i) for i in range(lb,ub+1)]\n",
    "# print(years)\n",
    "leapyear=list(filter(leapYear,years))\n",
    "print(leapyear)"
   ]
  },
  {
   "cell_type": "code",
   "execution_count": 53,
   "metadata": {
    "scrolled": true
   },
   "outputs": [
    {
     "name": "stdout",
     "output_type": "stream",
     "text": [
      "Enter lb: 10\n",
      "Enter ub: 20\n",
      "[10, 11, 12, 13, 14, 15, 16, 17, 18, 19, 20]\n",
      "[False, True, False, True, False, False, False, True, False, True, False]\n",
      "[11, 13, 17, 19]\n",
      "[11, 13, 17, 19]\n",
      "[11, 13, 17, 19]\n"
     ]
    }
   ],
   "source": [
    "# Check Prime\n",
    "def primeN(x):\n",
    "    f=1\n",
    "    if x <2:\n",
    "        return False\n",
    "    for i in range(2,(x//2)+1):\n",
    "        if x%i == 0:\n",
    "            f=0\n",
    "            return False\n",
    "    if f==1:\n",
    "        return True\n",
    "lb=int(input('Enter lb: '))\n",
    "ub=int(input('Enter ub: '))\n",
    "l=[int(i) for i in range(lb,ub+1)]\n",
    "print(l)\n",
    "# fil=filter(primeN,l)\n",
    "fil = list(filter(primeN,range(lb,ub+1)))\n",
    "fil2=[i for i in l if primeN(i)]\n",
    "fil3=list(map(primeN,l))\n",
    "fil4=list(filter(lambda x:primeN(x)==True,l))\n",
    "print(fil3)\n",
    "print(fil4)\n",
    "print(list(fil))\n",
    "print(fil2)"
   ]
  },
  {
   "cell_type": "code",
   "execution_count": 71,
   "metadata": {},
   "outputs": [
    {
     "data": {
      "text/plain": [
       "[1, 8, 27, 64]"
      ]
     },
     "execution_count": 71,
     "metadata": {},
     "output_type": "execute_result"
    }
   ],
   "source": [
    "l=[1,2,3,4]\n",
    "def cube(i):\n",
    "    return i**3\n",
    "lcube=list(map(cube,l))\n",
    "# i=10\n",
    "# print(map(cube(i),l))\n",
    "# lcube2=[map(cube,l)]\n",
    "lcube"
   ]
  },
  {
   "cell_type": "code",
   "execution_count": null,
   "metadata": {},
   "outputs": [],
   "source": []
  },
  {
   "cell_type": "markdown",
   "metadata": {},
   "source": [
    "## Lambda\n",
    "Anonymous Functions\n",
    "Can be embedded into list Comprehension, Maps,Filters\n",
    "lambda arguments: expression\n",
    "This function can have any number of arguments but only one expression, which is evaluated and returned.\n",
    "One is free to use lambda functions wherever function objects are required.\n",
    "You need to keep in your knowledge that lambda functions are syntactically restricted to a single expression.\n",
    "It has various uses in particular fields of programming besides other types of expressions in functions."
   ]
  },
  {
   "cell_type": "code",
   "execution_count": 79,
   "metadata": {},
   "outputs": [
    {
     "name": "stdout",
     "output_type": "stream",
     "text": [
      "[0, 1, 8, 27]\n",
      "[0, 1, 8, 27]\n",
      "[0, 1, 4, 9, 16, 25, 36, 49, 64, 81]\n",
      "[2, 4, 6, 8]\n"
     ]
    }
   ],
   "source": [
    "clis=[cube(x) for x in range(4)]\n",
    "def cube(i):\n",
    "    return i**3\n",
    "print(clis)\n",
    "a=lambda x: x**3\n",
    "clis2=[a(x)for x in range(4)] # to use lambda in a list comprehen we have pass the loop variable in paramters\n",
    "print(clis2)\n",
    "clis3=[(lambda i: i**2)(i) for i in range(10)]\n",
    "print(clis3)\n",
    "clis4=list(filter(lambda i: i%2 == 0,range(1,10)))\n",
    "print(clis4)"
   ]
  },
  {
   "cell_type": "code",
   "execution_count": 96,
   "metadata": {
    "scrolled": true
   },
   "outputs": [
    {
     "name": "stdout",
     "output_type": "stream",
     "text": [
      "[7, 24, 22, 2, 17, 0, 20, 23, 25, 12]\n",
      "[20, 5, 13, 20, 11, 14, 17, 14, 11, 21]\n",
      "[1, 0, 3, 4, 24, 24, 13, 9, 1, 23]\n",
      "[9, 9, 12, 8, 17, 12, 16, 15, 12, 18]\n",
      "[9, 9, 12, 8, 17, 12, 16, 15, 12, 18]\n",
      "[13, 14, 17, 11, 14, 7, 18, 18, 18, 16]\n",
      "[13, 14, 17, 11, 14, 7, 18, 18, 18, 16]\n"
     ]
    }
   ],
   "source": [
    "# \n",
    "from random import randint\n",
    "sa=[randint(0,25) for i in range(1,11)]\n",
    "print(sa)\n",
    "sb=[randint(0,25) for j in range(1,11)]\n",
    "print(sb)\n",
    "sc=[randint(0,25) for j in range(1,11)]\n",
    "print(sc)\n",
    "a=lambda i,j: (i+j)//2 \n",
    "b=lambda i,j,k: (i+j+k)//3\n",
    "avgin=[a(i,j) for i,j in zip(sa,sb)]\n",
    "avg3in=[b(i,j,k) for i,j,k in zip(sa,sb,sc)]\n",
    "print(avg3in)\n",
    "avg3in2=list(map(b,sa,sb,sc))\n",
    "print(avg3in2)\n",
    "avgin2=list(map(a,sa,sb))\n",
    "print(avgin)\n",
    "print(avgin2)"
   ]
  },
  {
   "cell_type": "code",
   "execution_count": 104,
   "metadata": {},
   "outputs": [
    {
     "name": "stdout",
     "output_type": "stream",
     "text": [
      "{11, 13, 14, 7}\n"
     ]
    }
   ],
   "source": [
    "# filtered failed stu\n",
    "failed=list(filter(lambda x: x < 15,avgin))\n",
    "print(set(failed))"
   ]
  },
  {
   "cell_type": "code",
   "execution_count": 109,
   "metadata": {},
   "outputs": [
    {
     "name": "stdout",
     "output_type": "stream",
     "text": [
      "[False]\n"
     ]
    }
   ],
   "source": [
    "abc= lambda a,b,c: a+b+c\n",
    "num=[3,6,9]\n",
    "l=[(abc)(i,i+1,i+2) in num]\n",
    "print(l)"
   ]
  },
  {
   "cell_type": "markdown",
   "metadata": {},
   "source": [
    "### Applying Functional Programming to the marks analysis application"
   ]
  },
  {
   "cell_type": "code",
   "execution_count": 143,
   "metadata": {},
   "outputs": [
    {
     "name": "stdout",
     "output_type": "stream",
     "text": [
      "0\n",
      "100\n",
      "100\n",
      "updated\n"
     ]
    }
   ],
   "source": [
    "from random import randint\n",
    "lb=int(input())\n",
    "ub=int(input())\n",
    "n=int(input())\n",
    "x=[lb,ub]\n",
    "def genmarks(lb,ub):\n",
    "    x=randint(lb,ub)\n",
    "    return x\n",
    "\n",
    "def writemarks():\n",
    "    with open('DataFiles/new_marks.txt','w') as f:\n",
    "        l=[genmarks(lb,ub) for i in range(n)]\n",
    "        for i in l:\n",
    "            f.write(str(i)+'\\n')\n",
    "        print('updated')\n",
    "    return\n",
    "writemarks()\n"
   ]
  },
  {
   "cell_type": "code",
   "execution_count": 146,
   "metadata": {},
   "outputs": [
    {
     "name": "stdout",
     "output_type": "stream",
     "text": [
      "percen_failed =  37.0\n",
      "percen_passed =  63.0\n",
      "Percentage Distinction =  27.0\n",
      "Highest Frequency= 2\n",
      "Lowest Frequency =  1\n"
     ]
    }
   ],
   "source": [
    "# marks analysis\n",
    "import re\n",
    "def readFile(fname):\n",
    "    with open(fname,'r') as f:\n",
    "        x=f.read()\n",
    "    return x\n",
    "def classavgr(l):\n",
    "    classavg=sum(l)/len(l)\n",
    "    return classavg\n",
    "def faileds(l):\n",
    "    failed=list(filter((lambda k: k<35),l))\n",
    "    percen_failed=(len(failed)/len(l))*100\n",
    "    return percen_failed\n",
    "def Passed(l,percen_failed):\n",
    "    passed=list(filter((lambda k: k>=35),l))\n",
    "    percen_passed=100-percen_failed\n",
    "    return percen_passed\n",
    "def Distinction(l):\n",
    "    distinct=list(filter((lambda k: k >=70),l))\n",
    "    percen_distinct=(len(distinct)/len(l))*100\n",
    "    return percen_distinct\n",
    "def highFreq(l):\n",
    "#     print(l.count(max(l)),max(l))\n",
    "    return l.count(max(l))\n",
    "def lowFreq(l):\n",
    "#     print(l.count(min(l)),min(l))\n",
    "    return l.count(min(l))\n",
    "def classreport(fn):\n",
    "    x=readFile(fn)\n",
    "    s=re.split('\\n',x)\n",
    "    l=[int(i) for i in s if i!='']\n",
    "    print('percen_failed = ',faileds(l))\n",
    "    percen_failed=faileds(l)\n",
    "    print('percen_passed = ',Passed(l,percen_failed))\n",
    "    print('Percentage Distinction = ',Distinction(l))\n",
    "    print('Highest Frequency=',highFreq(l))\n",
    "    print('Lowest Frequency = ',lowFreq(l))\n",
    "    return\n",
    "classreport('DataFiles/new_marks.txt')"
   ]
  },
  {
   "cell_type": "markdown",
   "metadata": {},
   "source": [
    "## Data Encryption\n",
    "- > Key(Mapping of data with replacement) is important for DE.\n",
    "- > key =4\n",
    "   \n",
    "    0 - 4\n",
    "    1 - 5\n",
    "    2 - 6\n",
    "    3 - 7"
   ]
  },
  {
   "cell_type": "code",
   "execution_count": 157,
   "metadata": {},
   "outputs": [
    {
     "name": "stdout",
     "output_type": "stream",
     "text": [
      "122\n",
      "26\n",
      "0\n",
      "a\n"
     ]
    }
   ],
   "source": [
    "a='z'\n",
    "k=1\n",
    "print(ord(a))\n",
    "print(abs(ord(a)-96))\n",
    "print(abs(ord(a)-96)%26)\n",
    "print(chr(abs(ord(a)-96)%26+96+k))"
   ]
  },
  {
   "cell_type": "code",
   "execution_count": 168,
   "metadata": {},
   "outputs": [
    {
     "name": "stdout",
     "output_type": "stream",
     "text": [
      "4 5 6 7 8 9 0 1 2 3 4 "
     ]
    }
   ],
   "source": [
    "k=4\n",
    "for i in range(11):\n",
    "    x =abs(i)%10+k\n",
    "    if x>9:\n",
    "        x=abs(x-10)%10\n",
    "    print(x,end=' ')"
   ]
  },
  {
   "cell_type": "code",
   "execution_count": 176,
   "metadata": {},
   "outputs": [],
   "source": [
    "kp= 'DataFiles/key.txt'\n",
    "n=10\n",
    "k=4\n",
    "def genKey(kp,n,k):\n",
    "    \n",
    "    with open(kp,'w') as f:\n",
    "        for i in range(n):\n",
    "            x =abs(i)%n+k\n",
    "            if x>9:\n",
    "                x=abs(x-n)%n\n",
    "            f.write(str(i)+' '+str(x)+'\\n')\n",
    "    return \n",
    "genKey(kp,n,k)"
   ]
  },
  {
   "cell_type": "markdown",
   "metadata": {},
   "source": [
    "### Encrypt  marks"
   ]
  },
  {
   "cell_type": "code",
   "execution_count": 198,
   "metadata": {},
   "outputs": [
    {
     "name": "stdout",
     "output_type": "stream",
     "text": [
      "0\n",
      "100\n",
      "10\n"
     ]
    }
   ],
   "source": [
    "from random import randint\n",
    "kp= 'DataFiles/key.txt'\n",
    "lb=int(input())\n",
    "ub=int(input())\n",
    "n=int(input())\n",
    "x=[lb,ub]\n",
    "\n",
    "def genmarks(lb,ub):\n",
    "    x=randint(lb,ub)\n",
    "    return x\n",
    "\n",
    "def genmarkslist():\n",
    "    l=[genmarks(0,100) for i in range(100)]\n",
    "    return l\n",
    "\n",
    "def readKey(kp):\n",
    "    with open(kp,'r') as f:\n",
    "        x=f.read()\n",
    "        s=re.split('\\n',x)\n",
    "        return s\n",
    "\n",
    "def readFile(fname):\n",
    "    with open(fname,'r') as f:\n",
    "        x=f.read()\n",
    "    return x    \n",
    "\n",
    "def dictionaryKeys(kp):\n",
    "#     with open('DataFiles/new_marks2.txt','w') as f:\n",
    "    kl=readKey(kp)\n",
    "    d={}\n",
    "    for i in kl:\n",
    "        if i != '':\n",
    "            i=i.split()\n",
    "            d[i[0]]=i[1]\n",
    "    return d\n",
    "fn='DataFiles/new_marks2.txt'\n",
    "\n",
    "def Encryptmarks():\n",
    "    \n",
    "   \n",
    " #         for i in l:\n",
    "#             genKey(kp,i)\n",
    "#             f.write(str(i)+'\\n')\n",
    "#         print('updated')\n",
    "    return\n",
    "Encryptmarks()\n"
   ]
  },
  {
   "cell_type": "code",
   "execution_count": 220,
   "metadata": {},
   "outputs": [],
   "source": [
    "import re\n",
    "def readFile(fname):\n",
    "    with open(fname,'r') as f:\n",
    "        x=f.read()\n",
    "        x=re.split('\\n',x)\n",
    "    return x    \n",
    "# readFile('DataFiles/new_marks.txt')"
   ]
  },
  {
   "cell_type": "code",
   "execution_count": 219,
   "metadata": {},
   "outputs": [
    {
     "name": "stdout",
     "output_type": "stream",
     "text": [
      "{'0': '4', '1': '5', '2': '6', '3': '7', '4': '8', '5': '9', '6': '0', '7': '1', '8': '2', '9': '3'}\n",
      "{'98': '32', '39': '73', '43': '87', '13': '57', '21': '65', '30': '74', '19': '53', '6': '0', '37': '71', '77': '11', '22': '66', '1': '5', '35': '79', '15': '59', '11': '55', '60': '04', '90': '34', '17': '51', '55': '99', '84': '28', '27': '61', '89': '23', '96': '30', '45': '89', '36': '70', '38': '72', '57': '91', '73': '17', '65': '09', '91': '35', '85': '29', '79': '13', '42': '86', '32': '76', '70': '14', '24': '68', '61': '05', '0': '4', '58': '92', '33': '77', '23': '67', '31': '75', '80': '24', '87': '21', '72': '16', '53': '97', '25': '69', '40': '84', '8': '2', '66': '00', '14': '58', '56': '90', '50': '94', '82': '26', '3': '7', '51': '95', '44': '88', '26': '60', '5': '9', '59': '93', '76': '10', '29': '63', '67': '01', '9': '3', '75': '19', '78': '12'}\n"
     ]
    }
   ],
   "source": [
    "fn='DataFiles/new_marks.txt'\n",
    "def readnchange(fn):\n",
    "    x=readFile(fn)\n",
    "    x=re.split('\\n',x)\n",
    "#     print(x)\n",
    "    kp= 'DataFiles/key.txt'\n",
    "    y=dictionaryKeys(kp)\n",
    "    print(y)\n",
    "    e_d={}\n",
    "    for i in x:\n",
    "        if i != '':\n",
    "            n=\"\"\n",
    "            for j in i:\n",
    "                n+=y[j]\n",
    "            e_d[i]=n\n",
    "    print(e_d)\n",
    "readnchange(fn)"
   ]
  },
  {
   "cell_type": "code",
   "execution_count": null,
   "metadata": {},
   "outputs": [],
   "source": []
  }
 ],
 "metadata": {
  "kernelspec": {
   "display_name": "Python 3",
   "language": "python",
   "name": "python3"
  },
  "language_info": {
   "codemirror_mode": {
    "name": "ipython",
    "version": 3
   },
   "file_extension": ".py",
   "mimetype": "text/x-python",
   "name": "python",
   "nbconvert_exporter": "python",
   "pygments_lexer": "ipython3",
   "version": "3.7.3"
  }
 },
 "nbformat": 4,
 "nbformat_minor": 2
}
