{
 "cells": [
  {
   "cell_type": "code",
   "execution_count": 5,
   "metadata": {},
   "outputs": [
    {
     "name": "stdout",
     "output_type": "stream",
     "text": [
      "OddOrEven\n",
      "odd_or_even\n"
     ]
    }
   ],
   "source": [
    "#camel to snake case\n",
    "s=input()\n",
    "if s[0].isupper():\n",
    "    new_s=\"\"+chr(ord(s[0])+32)\n",
    "else:\n",
    "    new_s=\"\"\n",
    "for i in range(1,len(s)):\n",
    "    if s[i].isupper():\n",
    "        new_s+='_'+chr(ord(s[i])+32)\n",
    "    elif s[i].isupper():\n",
    "        new_s+=chr(ord(s[i])+32)\n",
    "    else:\n",
    "        new_s+=s[i]\n",
    "print(new_s)"
   ]
  },
  {
   "cell_type": "code",
   "execution_count": 15,
   "metadata": {},
   "outputs": [
    {
     "ename": "ModuleNotFoundError",
     "evalue": "No module named 'Packages'",
     "output_type": "error",
     "traceback": [
      "\u001b[1;31m---------------------------------------------------------------------------\u001b[0m",
      "\u001b[1;31mModuleNotFoundError\u001b[0m                       Traceback (most recent call last)",
      "\u001b[1;32m<ipython-input-15-2747c0f19598>\u001b[0m in \u001b[0;36m<module>\u001b[1;34m\u001b[0m\n\u001b[1;32m----> 1\u001b[1;33m \u001b[1;32mfrom\u001b[0m \u001b[0mPackages\u001b[0m \u001b[1;32mimport\u001b[0m \u001b[0mvalidators\u001b[0m\u001b[1;33m\u001b[0m\u001b[1;33m\u001b[0m\u001b[0m\n\u001b[0m\u001b[0;32m      2\u001b[0m \u001b[1;32mimport\u001b[0m \u001b[0mre\u001b[0m\u001b[1;33m\u001b[0m\u001b[1;33m\u001b[0m\u001b[0m\n\u001b[0;32m      3\u001b[0m \u001b[0mfname\u001b[0m\u001b[1;33m=\u001b[0m\u001b[1;34m'contacts.txt'\u001b[0m\u001b[1;33m\u001b[0m\u001b[1;33m\u001b[0m\u001b[0m\n\u001b[0;32m      4\u001b[0m \u001b[1;32mdef\u001b[0m \u001b[0mcontact_exists\u001b[0m\u001b[1;33m(\u001b[0m\u001b[0mname\u001b[0m\u001b[1;33m)\u001b[0m\u001b[1;33m:\u001b[0m\u001b[1;33m\u001b[0m\u001b[1;33m\u001b[0m\u001b[0m\n\u001b[0;32m      5\u001b[0m     \u001b[0mfname\u001b[0m\u001b[1;33m=\u001b[0m\u001b[1;34m'contacts.txt'\u001b[0m\u001b[1;33m\u001b[0m\u001b[1;33m\u001b[0m\u001b[0m\n",
      "\u001b[1;31mModuleNotFoundError\u001b[0m: No module named 'Packages'"
     ]
    }
   ],
   "source": [
    "from Packages import validators\n",
    "import re\n",
    "fname='contacts.txt'\n",
    "def contact_exists(name):\n",
    "    fname='contacts.txt'\n",
    "    with open(fname,'r') as f:\n",
    "        x=f.read()\n",
    "        pattern=name+','\n",
    "    return re.search(name,x)\n",
    "# if contact_exists('bharu'):\n",
    "#     print(True)\n",
    "# else:\n",
    "#     print(False)\n",
    "def addContact(name, phone,email):\n",
    "    fname='contacts.txt'\n",
    "    if not contact_exists(name):\n",
    "        with open(fname,'a') as f:\n",
    "            line=name+','+str(phone)+','+email\n",
    "            f.write(line)\n",
    "        print(name, 'added to contacts')\n",
    "    else:\n",
    "        print(name,'exists')\n",
    "    return\n"
   ]
  },
  {
   "cell_type": "code",
   "execution_count": null,
   "metadata": {},
   "outputs": [],
   "source": []
  }
 ],
 "metadata": {
  "kernelspec": {
   "display_name": "Python 3",
   "language": "python",
   "name": "python3"
  },
  "language_info": {
   "codemirror_mode": {
    "name": "ipython",
    "version": 3
   },
   "file_extension": ".py",
   "mimetype": "text/x-python",
   "name": "python",
   "nbconvert_exporter": "python",
   "pygments_lexer": "ipython3",
   "version": "3.7.3"
  }
 },
 "nbformat": 4,
 "nbformat_minor": 2
}
