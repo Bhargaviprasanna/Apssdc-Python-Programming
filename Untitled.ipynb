{
 "cells": [
  {
   "cell_type": "markdown",
   "metadata": {},
   "source": [
    "# String methods\n",
    "1. append()\n",
    "2. clear()\n",
    "3. copy()\n",
    "4. count()\n",
    "5. extend()\n",
    "6. index()\n",
    "7. insert()\n",
    "8. pop()\n",
    "9. remove()\n",
    "10. reverse()\n",
    "11. sort()"
   ]
  },
  {
   "cell_type": "code",
   "execution_count": 14,
   "metadata": {},
   "outputs": [
    {
     "name": "stdout",
     "output_type": "stream",
     "text": [
      "[20, 21, 22, 23, 24, 25, 26, 27, 28, 29, 33]\n",
      "[20, 21, 22, 23, 24, 25, 26, 27, 28, 29, 33]\n",
      "1\n",
      "[20, 21, 22, 23, 24, 25, 26, 27, 28, 29, 33, 34, 36]\n",
      "11\n"
     ]
    },
    {
     "data": {
      "text/plain": [
       "26"
      ]
     },
     "execution_count": 14,
     "metadata": {},
     "output_type": "execute_result"
    }
   ],
   "source": [
    "l=[i for i in range(20,30)]\n",
    "l.append(33)\n",
    "print(l)\n",
    "m=l.copy()\n",
    "print(m)\n",
    "x=m.count(22)\n",
    "print(x)\n",
    "m.extend([34,36])\n",
    "print(m)\n",
    "y=m.index(34)\n",
    "print(y)\n",
    "m.insert(len(m),37)\n",
    "m.pop()\n",
    "m.pop(6)\n"
   ]
  },
  {
   "cell_type": "code",
   "execution_count": 29,
   "metadata": {},
   "outputs": [
    {
     "name": "stdout",
     "output_type": "stream",
     "text": [
      "-1\n"
     ]
    }
   ],
   "source": [
    "# near to zero\n",
    "a=[-1,-2,-4,-5]\n",
    "def nearZero(a):\n",
    "    p=[]\n",
    "    for i in a:\n",
    "        p.append(abs(i))\n",
    "    p.sort()\n",
    "    if p[0] in a:\n",
    "        return p[0]\n",
    "    else:\n",
    "        return -p[0]\n",
    "print(nearZero(a))"
   ]
  },
  {
   "cell_type": "code",
   "execution_count": null,
   "metadata": {},
   "outputs": [],
   "source": []
  }
 ],
 "metadata": {
  "kernelspec": {
   "display_name": "Python 3",
   "language": "python",
   "name": "python3"
  },
  "language_info": {
   "codemirror_mode": {
    "name": "ipython",
    "version": 3
   },
   "file_extension": ".py",
   "mimetype": "text/x-python",
   "name": "python",
   "nbconvert_exporter": "python",
   "pygments_lexer": "ipython3",
   "version": "3.7.3"
  }
 },
 "nbformat": 4,
 "nbformat_minor": 2
}
