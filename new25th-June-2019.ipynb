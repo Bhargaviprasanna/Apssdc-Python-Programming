{
 "cells": [
  {
   "cell_type": "code",
   "execution_count": null,
   "metadata": {},
   "outputs": [],
   "source": [
    "from random import randint\n",
    "lb=int(input())\n",
    "ub=int(input())\n",
    "n=int(input())\n",
    "fname=\"DataFiles//classmarks.txt\"\n",
    "def marksgen(fname,ub,lb,n):\n",
    "    with open(fname,'w') as f:\n",
    "        for i in range(n):\n",
    "            x=randint(lb,ub)\n",
    "            f.write(str(x)+'\\n')\n",
    "    return\n",
    "marksgen(fname,ub,lb,n)"
   ]
  },
  {
   "cell_type": "code",
   "execution_count": 14,
   "metadata": {},
   "outputs": [],
   "source": [
    "def classAvg(lis):\n",
    "    return (sum(lis)/len(lis))\n",
    "#classAvg([1,2,3,4,5])\n",
    "def mdicStu(lis):\n",
    "    mdic={}\n",
    "    s=0\n",
    "    c=0\n",
    "    l=len(lis)\n",
    "    for i in lis:\n",
    "        if i >= 35:\n",
    "            c+=1\n",
    "        if i>=75:\n",
    "            s+=1\n",
    "    passed=(c/l)*100 \n",
    "    mdic['passs']=passed\n",
    "    failed=((l-c)/l)*100\n",
    "    mdic['fail']=failed\n",
    "    distinct=(s/l)*100\n",
    "    mdic['distinction']=distinct\n",
    "    mdic['low_freq']=lis.count(min(lis))\n",
    "    mdic['high_freq']=lis.count(max(lis))\n",
    "    return mdic\n",
    "#passedStu([10,30,45,60,80])"
   ]
  },
  {
   "cell_type": "code",
   "execution_count": 48,
   "metadata": {},
   "outputs": [
    {
     "name": "stdout",
     "output_type": "stream",
     "text": [
      "classAverage 49.45\n",
      "passed 66.0\n",
      "failed 34.0\n",
      "distinc 21.0\n",
      "highest frequency 1\n",
      "lowest frequency 1\n"
     ]
    }
   ],
   "source": [
    "import re\n",
    "def readfile(fname):\n",
    "    with open(fname,'r') as f:\n",
    "        x=f.read()\n",
    "    return x\n",
    "fname=\"DataFiles//classmarks.txt\"\n",
    "def generate_report(fname):\n",
    "    y=readfile(fname)\n",
    "    p='[ \\n ]'\n",
    "    s=re.split(p,y)\n",
    "    #print(s)\n",
    "    #print(type(s[0]))\n",
    "    lis=[int(i) for i in s]\n",
    "#     for i in s: \n",
    "#         lis.append(int(i))\n",
    "    #print(lis)\n",
    "    class_avg=classAvg(lis)\n",
    "    print('classAverage',class_avg)\n",
    "    alldic=mdicStu(lis)\n",
    "    passed=alldic['passs']\n",
    "    print('passed',passed)\n",
    "    failed=alldic['fail']\n",
    "    print('failed',failed)\n",
    "    distinc=alldic['distinction']\n",
    "    print('distinc',distinc)\n",
    "    hig_fre=alldic['low_freq']\n",
    "    print('highest frequency',hig_fre)\n",
    "    low_fre=alldic['high_freq']\n",
    "    print('lowest frequency', low_fre)\n",
    "    return\n",
    "generate_report(fname)\n"
   ]
  },
  {
   "cell_type": "code",
   "execution_count": 1,
   "metadata": {},
   "outputs": [
    {
     "name": "stdout",
     "output_type": "stream",
     "text": [
      "alice\n",
      "abc\n"
     ]
    },
    {
     "ename": "NameError",
     "evalue": "name 'lis' is not defined",
     "output_type": "error",
     "traceback": [
      "\u001b[1;31m---------------------------------------------------------------------------\u001b[0m",
      "\u001b[1;31mNameError\u001b[0m                                 Traceback (most recent call last)",
      "\u001b[1;32m<ipython-input-1-4d2dfcb2c008>\u001b[0m in \u001b[0;36m<module>\u001b[1;34m\u001b[0m\n\u001b[0;32m     48\u001b[0m                 \u001b[0mf\u001b[0m\u001b[1;33m.\u001b[0m\u001b[0mwrite\u001b[0m\u001b[1;33m(\u001b[0m\u001b[0mi\u001b[0m\u001b[1;33m+\u001b[0m\u001b[1;34m' '\u001b[0m\u001b[1;33m)\u001b[0m\u001b[1;33m\u001b[0m\u001b[1;33m\u001b[0m\u001b[0m\n\u001b[0;32m     49\u001b[0m     \u001b[1;32mreturn\u001b[0m\u001b[1;33m\u001b[0m\u001b[1;33m\u001b[0m\u001b[0m\n\u001b[1;32m---> 50\u001b[1;33m \u001b[0mfindandReplace4\u001b[0m\u001b[1;33m(\u001b[0m\u001b[0mlis\u001b[0m\u001b[1;33m,\u001b[0m\u001b[0mols\u001b[0m\u001b[1;33m,\u001b[0m\u001b[0mnws\u001b[0m\u001b[1;33m)\u001b[0m\u001b[1;33m\u001b[0m\u001b[1;33m\u001b[0m\u001b[0m\n\u001b[0m\u001b[0;32m     51\u001b[0m \u001b[1;31m#print(findandReplace3(lis,ols,nws))\u001b[0m\u001b[1;33m\u001b[0m\u001b[1;33m\u001b[0m\u001b[1;33m\u001b[0m\u001b[0m\n",
      "\u001b[1;31mNameError\u001b[0m: name 'lis' is not defined"
     ]
    }
   ],
   "source": [
    "#find and replace\n",
    "\n",
    "# lis=input().split()\n",
    "ols=input()\n",
    "nws=input()\n",
    "# def findandReplace(lis,ols,nws): \n",
    "#     l=[]\n",
    "#     c=lis.count(ols)\n",
    "#     for i in lis:\n",
    "#         if i == ols and ols in l:\n",
    "#             #print(l,i)\n",
    "#             l.append(nws)\n",
    "#         else:\n",
    "#             l.append(i)\n",
    "#     return l\n",
    "# #print(findandReplace(lis,ols,nws))\n",
    "# def findandReplace2(lis,ols,nws):\n",
    "#     c=0\n",
    "#     for i in range(len(lis)):\n",
    "#         #print(lis[i],lis)\n",
    "#         if lis[i] == ols and c==0:\n",
    "#             #print(lis[i],lis)\n",
    "#             lis[i]=ols\n",
    "#             c+=1\n",
    "#         elif  lis[i] == ols and c!=0:\n",
    "#             #print(lis[i],lis)\n",
    "#             lis[i]=nws\n",
    "#             c+=1\n",
    "#         else:\n",
    "#             lis[i]=lis[i]\n",
    "#     return lis\n",
    "# print(findandReplace2(lis,ols,nws))\n",
    "# def findandReplace3(lis,ols,nws):\n",
    "#     for i in range(len(lis)):\n",
    "#         #print(lis[i],lis)\n",
    "#         if lis[i] == ols:\n",
    "#             #print(lis[i],lis)\n",
    "#             lis[i]=nws\n",
    "#         else:\n",
    "#             lis[i]=lis[i]\n",
    "#     return lis\n",
    "def findandReplace4(lis,ols,nws):\n",
    "    with open('DataFiles/new2.txt','w') as f:\n",
    "        for i in lis:\n",
    "            if i == ols:\n",
    "                f.write(nws+' ')\n",
    "            else:\n",
    "                f.write(i+' ')\n",
    "    return\n",
    "findandReplace4(lis,ols,nws)\n",
    "#print(findandReplace3(lis,ols,nws))"
   ]
  },
  {
   "cell_type": "markdown",
   "metadata": {},
   "source": [
    "## Find and Replace\n",
    "- > check if word exists in a file.\n",
    "- > count the occurrences of a word in a file.\n",
    "- > replace all occurences of a word with another word"
   ]
  },
  {
   "cell_type": "code",
   "execution_count": 35,
   "metadata": {},
   "outputs": [
    {
     "name": "stdout",
     "output_type": "stream",
     "text": [
      "['alice', 'is', 'awesome', 'girl', 'and', 'bharu', 'is', 'a', 'bad', 'girl', 'hahaha', '', '', '', '', '']\n",
      "Enter search string: is\n",
      "Enter replacing string: as\n"
     ]
    }
   ],
   "source": [
    "#find and replace in files\n",
    "fname=\"DataFiles//new.txt\"\n",
    "def countOccur(s,ols):\n",
    "    return s.count(ols)\n",
    "def find_replace(fname):\n",
    "    y=readfile(fname)\n",
    "    p='[ \\n,]'\n",
    "    s=re.split(p,y)\n",
    "    print(s)\n",
    "    ols=input('Enter search string: ')\n",
    "    nws=input('Enter replacing string: ')\n",
    "    if ols in s:\n",
    "        c=countOccur(s,ols)\n",
    "    l=findandReplace(s,ols,nws)\n",
    "    with open(fname,'w') as f:\n",
    "        for i in l:\n",
    "            f.write(i+' ')\n",
    "    return\n",
    "find_replace(fname)"
   ]
  },
  {
   "cell_type": "code",
   "execution_count": 33,
   "metadata": {},
   "outputs": [],
   "source": [
    "l=['alice', 'is', 'awesome', 'girl', 'and', 'alice', 'is', 'a', 'bad', 'girl', 'hahaha...']\n",
    "with open('DataFiles//new.txt','w') as f:\n",
    "        for i in l:\n",
    "            f.write(i+' ')\n"
   ]
  },
  {
   "cell_type": "markdown",
   "metadata": {},
   "source": [
    "# contacts application \n",
    "ADD MODIFY LIST DELETE SEARCH\n",
    "- > addcontact(name, phone, email)\n",
    "- > searchContact(name)\n",
    "- > listallcontacts()\n",
    "- > ModifyorEdit()\n",
    "- > "
   ]
  },
  {
   "cell_type": "code",
   "execution_count": null,
   "metadata": {},
   "outputs": [],
   "source": [
    "fn=\"DataFiles//contacts_list.txt\"\n",
    "from Packages import validators as v\n",
    "def addContacts(fn,name,phone,email):\n",
    "    with open(fn,'r') as f:\n",
    "        x=f.read\n",
    "    if name in x:\n",
    "        if v.phoneNumberValidator(number) and v.emailValidator(email):\n",
    "            with open(fn,'a') as f:\n",
    "                "
   ]
  },
  {
   "cell_type": "code",
   "execution_count": null,
   "metadata": {},
   "outputs": [],
   "source": [
    "import re\n",
    "\n",
    "def phoneNumberValidator(number):\n",
    "    pattern = '^[6-9][0-9]{9}$|^[0][6-9][0-9]{9}|^[+][9][1][6-9][0-9]{9}$'\n",
    "    if re.match(pattern, str(number)):\n",
    "        return True\n",
    "    return False\n",
    "\n",
    "phoneNumberValidator(98765432)\n",
    "\n",
    "def emailValidator(email):\n",
    "    pattern = \"^[0-9a-z][0-9a-z_.]{4,13}[0-9a-z][@][a-z0-9]{3,18}[.][a-z]{2,4}$\"\n",
    "    if re.match(pattern, email):\n",
    "        return True\n",
    "    return False\n",
    "emailValidator(email)"
   ]
  },
  {
   "cell_type": "code",
   "execution_count": 7,
   "metadata": {},
   "outputs": [
    {
     "name": "stdout",
     "output_type": "stream",
     "text": [
      "rasna exists\n"
     ]
    }
   ],
   "source": [
    "from Packages import validators\n",
    "import re\n",
    "\n",
    "def contact_exists(name):\n",
    "    fname=\"DataFiles//contacts_list.txt\"\n",
    "    with open(fname,'r') as f:\n",
    "        x=f.read()\n",
    "        pattern=name+','\n",
    "    return re.search(name,x)\n",
    "# if contact_exists('bharu'):\n",
    "#     print(True)\n",
    "# else:\n",
    "#     print(False)\n",
    "def addContact(name, phone,email):\n",
    "    fname=\"DataFiles//contacts_list.txt\"\n",
    "    if not contact_exists(name):\n",
    "        with open(fname,'a') as f:\n",
    "            f.write('\\n')\n",
    "            line=name+','+str(phone)+','+email\n",
    "            f.write(line)\n",
    "        print(name, 'added to contacts')\n",
    "    else:\n",
    "        print(name,'exists')\n",
    "    return\n",
    "addContact('rasna',7896504320,'bprasanna.b@apssdc.in')"
   ]
  },
  {
   "cell_type": "code",
   "execution_count": 55,
   "metadata": {},
   "outputs": [
    {
     "name": "stdout",
     "output_type": "stream",
     "text": [
      "bbp doesnot exists\n"
     ]
    }
   ],
   "source": [
    "def searchContacts(name):\n",
    "    if contact_exists(name):\n",
    "        print('%s contact exists'%name)\n",
    "    else:\n",
    "        print('%s doesnot exists' % name)\n",
    "\n",
    "    return\n",
    "\n",
    "searchContacts('bbp')"
   ]
  },
  {
   "cell_type": "code",
   "execution_count": 4,
   "metadata": {},
   "outputs": [
    {
     "name": "stdout",
     "output_type": "stream",
     "text": [
      "['bharu,6281823719,bhargavi.bommidi@gmail.com']\n",
      "bharu,6281823719,bhargavi.bommidi@gmail.com\n",
      "['rasna,7896504320,bprasanna.b@apssdc.in']\n",
      "rasna,7896504320,bprasanna.b@apssdc.in\n"
     ]
    }
   ],
   "source": [
    "import re\n",
    "def listofcontacts():\n",
    "    fname=\"DataFiles//contacts_list.txt\"\n",
    "    with open(fname, 'r') as f:\n",
    "        l=f.read()\n",
    "        p='[ \\n]'\n",
    "        s=re.split(p,l)\n",
    "        for i in s:\n",
    "            j=re.split(', ',i)\n",
    "            print(j)\n",
    "            print(i)\n",
    "    return\n",
    "listofcontacts()"
   ]
  },
  {
   "cell_type": "code",
   "execution_count": null,
   "metadata": {},
   "outputs": [
    {
     "name": "stdout",
     "output_type": "stream",
     "text": [
      "123adb56\n"
     ]
    }
   ],
   "source": [
    "l=list(input())\n",
    "# n=list([0,1,2,3,4,5,6,7,8,9])\n",
    "# count=[]\n",
    "# for i in n:\n",
    "#     c=0\n",
    "#     for j in l:\n",
    "#         print(i,j)\n",
    "#         if str(i) == j:\n",
    "#             print('Entered')\n",
    "#             c+=1\n",
    "#     print(c)\n",
    "#     count.append(c)\n",
    "# print(count)\n",
    "i=0\n",
    "x=[]\n",
    "while i<=9:\n",
    "    if str(i) in l:\n",
    "        c=l.count(str(i))\n",
    "        x.append(c)\n",
    "print(x)"
   ]
  },
  {
   "cell_type": "code",
   "execution_count": 9,
   "metadata": {},
   "outputs": [
    {
     "name": "stdout",
     "output_type": "stream",
     "text": [
      "rasna contact modified\n"
     ]
    }
   ],
   "source": [
    "from Packages import validators as v\n",
    "def modifyContact(name, phone,email):\n",
    "    fname=\"DataFiles//contacts_list.txt\"\n",
    "    if contact_exists(name):\n",
    "        if v.phoneNumberValidator(phone) and v.emailValidator(email):\n",
    "            with open(fname,'a') as f:\n",
    "                f.write('\\n')\n",
    "                line=name+','+str(phone)+','+email\n",
    "                f.write(line)\n",
    "            print(name, 'contact modified')\n",
    "    else:\n",
    "        print(name,'exists')\n",
    "    return\n",
    "modifyContact('rasna',7896504100,'bprasanna.b@apssdc.in')"
   ]
  },
  {
   "cell_type": "markdown",
   "metadata": {},
   "source": [
    "### Anagrams"
   ]
  },
  {
   "cell_type": "code",
   "execution_count": 12,
   "metadata": {},
   "outputs": [
    {
     "name": "stdout",
     "output_type": "stream",
     "text": [
      "abccab\n",
      "accabca\n"
     ]
    },
    {
     "data": {
      "text/plain": [
       "False"
      ]
     },
     "execution_count": 12,
     "metadata": {},
     "output_type": "execute_result"
    }
   ],
   "source": [
    "s=input()\n",
    "t=input()\n",
    "def isAnagram(s,t):\n",
    "    if len(s) != len(t):\n",
    "        return False\n",
    "    if sorted(s) == sorted(t):\n",
    "        return True\n",
    "    return False\n",
    "isAnagram(s,t)"
   ]
  },
  {
   "cell_type": "code",
   "execution_count": 25,
   "metadata": {},
   "outputs": [
    {
     "name": "stdout",
     "output_type": "stream",
     "text": [
      "1\n",
      "bbbbbbbbbbbbbbbbbbbbbbbbbbbbbbbbbbbbbbbbbbbbbbbbbbbbbbbbbbbbbbbbbbbbbbbbbbb\n",
      "aaaaaaaaaaaaaaaaaaaaaaaaaaaaa\n",
      "b 75\n",
      "b 0\n",
      "a 0\n",
      "a 29\n",
      "104\n"
     ]
    }
   ],
   "source": [
    "t=int(input())\n",
    "def anagrams(a,b):\n",
    "    count=0\n",
    "    l=list(set(a))\n",
    "    m=list(set(b))\n",
    "    for i in l:\n",
    "        print(i,a.count(i))\n",
    "        print(i,b.count(i))\n",
    "        count+=abs(a.count(i)-b.count(i))\n",
    "    for i in m:\n",
    "        if i not in l:\n",
    "            print(i,a.count(i))\n",
    "            print(i,b.count(i))\n",
    "            count+=abs(a.count(i)-b.count(i))\n",
    "#     for i in m:\n",
    "#         count+=abs(a.count(i)-b.count(i))\n",
    "    return count\n",
    "        \n",
    "for i in range(t):\n",
    "    a=input()\n",
    "    b=input()\n",
    "    print(anagrams(a,b))"
   ]
  },
  {
   "cell_type": "code",
   "execution_count": 26,
   "metadata": {},
   "outputs": [
    {
     "name": "stdout",
     "output_type": "stream",
     "text": [
      "1\n",
      "0818832959819887945213801165747017356085041777149028544145996921242358468026973252724319378013683385\n",
      "111111111111111111111111111111111111111111111111111111111111111111111111111111111111111111111111111111111111111111111111111111111111111111111111111111111111111111111111111111111111111111111111111111111111111111111111111111111111111111111111\n"
     ]
    }
   ],
   "source": [
    "t=int(input())\n",
    "def countOfSticks(n,match_dic):\n",
    "    #print(match_dic)\n",
    "    if n//10 == 0:\n",
    "        return match_dic[str(n)]\n",
    "    else:\n",
    "        s=0\n",
    "        while n!=0:\n",
    "            r=(n%10)\n",
    "            s+=match_dic[str(r)]\n",
    "            n=n//10\n",
    "        return s\n",
    "def sevenSegment(t):\n",
    "    #match_sticks=[6,2,5,5,4,5,6,3,7,6]\n",
    "    match_dic={'0':6, '1':2, '2':5, '3':5, '4':4, '5':5, '6':6, '7':3, '8':7, '9':6}\n",
    "    maxi=0\n",
    "    for i in range(t):\n",
    "        n=int(input())\n",
    "        ms=countOfSticks(n,match_dic)\n",
    "        #print(ms)\n",
    "        if ms%2==0:\n",
    "            x=(ms//2)*('1')\n",
    "        else:\n",
    "            ms=ms-3\n",
    "            x='7'\n",
    "            x+=(ms//2)*('1')\n",
    "        # for num in match_dic.keys():\n",
    "        #     if ms%match_dic[num] == 0:\n",
    "        #         x=int((ms//match_dic[num])*(num))\n",
    "        #         #print(x)\n",
    "        #         if maxi < x:\n",
    "        #             maxi = x\n",
    "        print (int(x))\n",
    "    return\n",
    "sevenSegment(t)"
   ]
  },
  {
   "cell_type": "code",
   "execution_count": null,
   "metadata": {},
   "outputs": [],
   "source": []
  }
 ],
 "metadata": {
  "kernelspec": {
   "display_name": "Python 3",
   "language": "python",
   "name": "python3"
  },
  "language_info": {
   "codemirror_mode": {
    "name": "ipython",
    "version": 3
   },
   "file_extension": ".py",
   "mimetype": "text/x-python",
   "name": "python",
   "nbconvert_exporter": "python",
   "pygments_lexer": "ipython3",
   "version": "3.7.3"
  }
 },
 "nbformat": 4,
 "nbformat_minor": 2
}
