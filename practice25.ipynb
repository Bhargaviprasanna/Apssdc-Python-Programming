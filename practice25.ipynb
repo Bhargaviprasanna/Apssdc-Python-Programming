{
 "cells": [
  {
   "cell_type": "code",
   "execution_count": 61,
   "metadata": {
    "scrolled": true
   },
   "outputs": [],
   "source": [
    "# Kth largest frequency\n",
    "\n",
    "def freq(s,k):\n",
    "    fdi={}\n",
    "    fli=[]\n",
    "#     print(s)\n",
    "    l=list(set(s))\n",
    "#     print(s)\n",
    "#     print(l)\n",
    "    for i in l:\n",
    "        j=s.count(i)\n",
    "        fdi[i] = j\n",
    "        fli.append(j)\n",
    "    #fs=fli.sort()\n",
    "#     print(fdi)\n",
    "#     print(fli)\n",
    "    fli.sort()\n",
    "    fli=list(set(fli))\n",
    "#     print(fli)\n",
    "    fli.sort(reverse = True)\n",
    "#     print(fdil)\n",
    "    print(len(fli),k)\n",
    "    if len(fli) >k:\n",
    "        last=fli[k-1]\n",
    "        lf=[]  \n",
    "        for i in fdi.keys():\n",
    "            if last == fdi[i]:\n",
    "                lf.append(i)\n",
    "        return min(lf)\n",
    "    return -1\n",
    "# t=int(input())\n",
    "# for i in range(t):\n",
    "#     s=input().split()\n",
    "#     k=int(input())\n",
    "#     print(freq(s,k))"
   ]
  },
  {
   "cell_type": "code",
   "execution_count": 62,
   "metadata": {},
   "outputs": [
    {
     "name": "stdout",
     "output_type": "stream",
     "text": [
      "27 25\n",
      "s\n",
      "25 8\n",
      "g\n",
      "24 12\n",
      "h\n",
      "27 11\n",
      "e\n",
      "27 20\n",
      "w\n",
      "26 12\n",
      "r\n",
      "25 3\n",
      "n\n",
      "26 6\n",
      "k\n",
      "25 26\n",
      "-1\n",
      "26 26\n",
      "-1\n"
     ]
    }
   ],
   "source": [
    "with open('DataFiles/klargestinput.txt','r') as f:\n",
    "    t=f.readline()\n",
    "    for i in range(int(t)):\n",
    "        s=f.readline()\n",
    "        k=int(f.readline())\n",
    "        print(freq(s,k)) \n",
    "    "
   ]
  },
  {
   "cell_type": "code",
   "execution_count": 36,
   "metadata": {},
   "outputs": [
    {
     "name": "stdout",
     "output_type": "stream",
     "text": [
      "1\n",
      "9 8 7 6 5 2 3 4 9 6 7 7 7 6 7 6\n",
      "4\n",
      "{'2': 1, '8': 1, '3': 1, '9': 2, '4': 1, '5': 1, '7': 5, '6': 4}\n",
      "[1, 2, 4, 5]\n",
      "[1, 2, 4, 5]\n",
      "5\n",
      "7\n"
     ]
    }
   ],
   "source": [
    "def kthlowestfreq(s,k):\n",
    "    fdi={}\n",
    "    fli=[]\n",
    "    l=list(set(s))\n",
    "#     print(s)\n",
    "#     print(l)\n",
    "    for i in l:\n",
    "        j=s.count(i)\n",
    "        fdi[i] = j\n",
    "        fli.append(j)\n",
    "    #fs=fli.sort()\n",
    "    print(fdi)\n",
    "#     print(fli)\n",
    "    fli.sort(reverse = True)\n",
    "    fli=list(set(fli))\n",
    "    print(fli)\n",
    "    fli.sort()\n",
    "    print(fli)\n",
    "#     print(fdil)\n",
    "    last=fli[k-1]\n",
    "    print(last)\n",
    "    lf=[]  \n",
    "    for i in fdi.keys():\n",
    "        if last == fdi[i]:\n",
    "            lf.append(i)\n",
    "    if len(lf)!=0:\n",
    "        return min(lf)\n",
    "    else:\n",
    "        return -1\n",
    "t=int(input())\n",
    "for i in range(t):\n",
    "    s=input().split()\n",
    "    k=int(input())\n",
    "    print(kthlowestfreq(s,k))"
   ]
  },
  {
   "cell_type": "code",
   "execution_count": 12,
   "metadata": {},
   "outputs": [
    {
     "name": "stdout",
     "output_type": "stream",
     "text": [
      "1 2 2 2 3 3 3 7 7 7 7 7 5 5 5 5 5\n",
      "5\n"
     ]
    }
   ],
   "source": [
    "# k=int(input())\n",
    "li=input().split()\n",
    "def highestFreq2(li):\n",
    "    x=list(set(li))\n",
    "    fl=[]\n",
    "    ele=0\n",
    "    c=0\n",
    "    for i in x:\n",
    "        j=li.count(i)\n",
    "        if c < j:\n",
    "            c=j\n",
    "            ele=i\n",
    "    return ele\n",
    "\n",
    "def highestFreq(li):\n",
    "    x=list(set(li))\n",
    "    fd={}\n",
    "    fl=[]\n",
    "    for i in x:\n",
    "        j=li.count(i)\n",
    "        fd[i] = j\n",
    "        fl.append(j)\n",
    "    print(fd)\n",
    "    fl=sorted(fl)\n",
    "    print(fl)\n",
    "    maxi=max(fl)\n",
    "    print(maxi)\n",
    "    ml=[]\n",
    "    for k in fd.keys():\n",
    "        if maxi == fd[k]:\n",
    "            return k\n",
    "    return -1\n",
    "def smallnumhighestFreq(li):\n",
    "    x=list(set(li))\n",
    "    fd={}\n",
    "    fl=[]\n",
    "    for i in x:\n",
    "        j=li.count(i)\n",
    "        fd[i] = j\n",
    "        fl.append(j)\n",
    "    print(fd)\n",
    "    fl=sorted(fl)\n",
    "    print(fl)\n",
    "    maxi=max(fl)\n",
    "    print(maxi)\n",
    "    ml=[]\n",
    "#     for k in fd.keys():\n",
    "#         if maxi == fd[k]:\n",
    "#             ml.append(k)\n",
    "    for item in fd.items():\n",
    "        if maxi == item[1]:\n",
    "            ml.append(item[0])\n",
    "            \n",
    "    if len(ml)==0:\n",
    "        return min(ml)\n",
    "    return -1\n",
    "print(highestFreq2(li))\n",
    "        "
   ]
  },
  {
   "cell_type": "code",
   "execution_count": null,
   "metadata": {},
   "outputs": [],
   "source": []
  },
  {
   "cell_type": "code",
   "execution_count": 24,
   "metadata": {},
   "outputs": [
    {
     "name": "stdout",
     "output_type": "stream",
     "text": [
      "ssssssssss\n",
      "aaaaaaa\n",
      "['s', 's', 's', 's', 's', 's', 's', 's', 's', 's']\n",
      "['a', 'a', 'a', 'a', 'a', 'a', 'a']\n",
      "['a', 'a', 'a', 'a', 'a', 'a', 'a']\n",
      "['s', 's', 's', 's', 's', 's', 's', 's', 's', 's']\n"
     ]
    },
    {
     "data": {
      "text/plain": [
       "17"
      ]
     },
     "execution_count": 24,
     "metadata": {},
     "output_type": "execute_result"
    }
   ],
   "source": [
    "s=input()\n",
    "t=input()\n",
    "def anagram(s,t):\n",
    "    s=list(s)\n",
    "    t=list(t)\n",
    "    print(s)\n",
    "    print(t)\n",
    "    for i in s:\n",
    "        if i in t:\n",
    "            s.remove(i)\n",
    "            t.remove(i)\n",
    "    for i in t:\n",
    "        if i  in s :\n",
    "            s.remove(i)\n",
    "            t.remove(i)\n",
    "    print(t)\n",
    "    print(s)\n",
    "    return len(s)+len(t)\n",
    "anagram(s,t) "
   ]
  },
  {
   "cell_type": "code",
   "execution_count": 25,
   "metadata": {},
   "outputs": [
    {
     "name": "stdout",
     "output_type": "stream",
     "text": [
      "1\n",
      "abc\n",
      "cde\n",
      "4\n"
     ]
    }
   ],
   "source": [
    "def charDeletionsAnagrams(s1,s2):\n",
    "    uncommon = []\n",
    "    for i in s1:\n",
    "        if i not in s2:\n",
    "            uncommon.append(i)\n",
    "    for i in s2:\n",
    "        if i not in s1:\n",
    "            uncommon.append(i)\n",
    "    count = len(uncommon)\n",
    "    freqs1 = {}\n",
    "    freqs2 = {}\n",
    "    uniqs1 = []\n",
    "    uniqs2 = []\n",
    "    for i in s1:\n",
    "        if i not in uncommon and i not in uniqs1:\n",
    "            freqs1[i] = s1.count(i)\n",
    "            uniqs1.append(i)\n",
    "    for i in s2:\n",
    "        if i not in uncommon and i not in uniqs2:\n",
    "            freqs2[i] = s2.count(i)\n",
    "            uniqs2.append(i)\n",
    "    for key in freqs1.keys():\n",
    "        count += abs(freqs1[key] - freqs2[key])\n",
    "    return count\n",
    "\n",
    "\n",
    "t = int(input())\n",
    "for i in range(0,t):\n",
    "    s1=input()\n",
    "    s2=input()\n",
    "    print(charDeletionsAnagrams(s1,s2))"
   ]
  },
  {
   "cell_type": "code",
   "execution_count": 11,
   "metadata": {},
   "outputs": [
    {
     "name": "stdout",
     "output_type": "stream",
     "text": [
      "101 100001 333333333 25 101 100001 333333333 25\n",
      "1\n"
     ]
    },
    {
     "data": {
      "text/plain": [
       "333333333"
      ]
     },
     "execution_count": 11,
     "metadata": {},
     "output_type": "execute_result"
    }
   ],
   "source": [
    "#Find the kth largest\n",
    "l=[int(x) for x in input().split()]\n",
    "k=int(input())\n",
    "def kthLargest(l,k):\n",
    "    ul=list(set(l))\n",
    "    ul.sort(reverse = True)\n",
    "    return ul[k-1]\n",
    "kthLargest(l,k)\n",
    "def kthLargest2(l,k):\n",
    "    ul=list(set(l))\n",
    "    for i in range(1,k):\n",
    "        x=max(ul)\n",
    "        ul.remove(x)\n",
    "    return max(ul)\n",
    "kthLargest2(l,k)"
   ]
  },
  {
   "cell_type": "code",
   "execution_count": 18,
   "metadata": {},
   "outputs": [
    {
     "name": "stdout",
     "output_type": "stream",
     "text": [
      "10 20  30 40 50 50000 500\n",
      "5\n",
      "[10, 20, 30, 40, 50, 500, 50000]\n"
     ]
    },
    {
     "data": {
      "text/plain": [
       "50"
      ]
     },
     "execution_count": 18,
     "metadata": {},
     "output_type": "execute_result"
    }
   ],
   "source": [
    "l=[int(x) for x in input().split()]\n",
    "k=int(input())\n",
    "def kthsmallest(l,k):\n",
    "    ul=list(set(l))\n",
    "    ul.sort()\n",
    "    print(ul)\n",
    "    if len(ul) >= k:\n",
    "        return ul[k-1]\n",
    "    else:\n",
    "        return -1\n",
    "kthsmallest(l,k)\n",
    "def kthsmallest2(l,k):\n",
    "    ul=list(set(l))\n",
    "    if len(ul) >= k:\n",
    "        for i in range(1,k):\n",
    "            x=min(ul)\n",
    "            ul.remove(x)\n",
    "        return min(ul)\n",
    "    else:\n",
    "        return -1\n",
    "kthsmallest2(l,k)"
   ]
  },
  {
   "cell_type": "code",
   "execution_count": null,
   "metadata": {},
   "outputs": [],
   "source": []
  }
 ],
 "metadata": {
  "kernelspec": {
   "display_name": "Python 3",
   "language": "python",
   "name": "python3"
  },
  "language_info": {
   "codemirror_mode": {
    "name": "ipython",
    "version": 3
   },
   "file_extension": ".py",
   "mimetype": "text/x-python",
   "name": "python",
   "nbconvert_exporter": "python",
   "pygments_lexer": "ipython3",
   "version": "3.7.3"
  }
 },
 "nbformat": 4,
 "nbformat_minor": 2
}
